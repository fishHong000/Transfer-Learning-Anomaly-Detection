{
 "cells": [
  {
   "cell_type": "markdown",
   "id": "cb29ecf0",
   "metadata": {},
   "source": [
    "(1) 建構自定義的ResNet模型"
   ]
  },
  {
   "cell_type": "code",
   "execution_count": 11,
   "id": "53f35953",
   "metadata": {},
   "outputs": [],
   "source": [
    "mean = [0.5, 0.5, 0.5]\n",
    "std = [0.5, 0.5, 0.5]\n",
    "# mean = [0.4914, 0.4822, 0.4465]\n",
    "# std = [0.2470, 0.2435, 0.2616]\n",
    "batch_size = 32\n",
    "lr = 3e-4\n",
    "n_epochs = 100"
   ]
  },
  {
   "cell_type": "markdown",
   "id": "3f021d22",
   "metadata": {},
   "source": [
    "1. 資料前處理過程"
   ]
  },
  {
   "cell_type": "code",
   "execution_count": null,
   "id": "971e3cb7",
   "metadata": {},
   "outputs": [
    {
     "name": "stdout",
     "output_type": "stream",
     "text": [
      "finish splitting!\n",
      "train/test are already in dataset/\n"
     ]
    }
   ],
   "source": [
    "import os\n",
    "import shutil\n",
    "import random\n",
    "\n",
    "random.seed(42)\n",
    "source_dir = \"capsule\"\n",
    "target_root = \"dataset\"\n",
    "splits = [\"train\", \"test\"]\n",
    "ratios = [0.8, 0.2]\n",
    "assert abs(sum(ratios) - 1.0) < 1e-6, \"Summation of the ratio should be 1.0\"\n",
    "\n",
    "for split in splits:\n",
    "    os.makedirs(os.path.join(target_root, split), exist_ok=True)\n",
    "\n",
    "for class_name in sorted(os.listdir(source_dir)):\n",
    "    class_path = os.path.join(source_dir, class_name)\n",
    "    if not os.path.isdir(class_path):\n",
    "        continue\n",
    "\n",
    "    images = [f for f in os.listdir(class_path) if f.lower().endswith((\".jpg\", \".png\"))]\n",
    "    random.shuffle(images)\n",
    "\n",
    "    n_total = len(images)\n",
    "    n_train = int(n_total * ratios[0])\n",
    "\n",
    "    split_counts = {\n",
    "        \"train\": images[:n_train],\n",
    "        \"test\": images[n_train:]\n",
    "    }\n",
    "\n",
    "    for split, img_list in split_counts.items():\n",
    "        split_class_dir = os.path.join(target_root, split, class_name)\n",
    "        os.makedirs(split_class_dir, exist_ok=True)\n",
    "\n",
    "        for img in img_list:\n",
    "            src_path = os.path.join(class_path, img)\n",
    "            dst_path = os.path.join(split_class_dir, img)\n",
    "            shutil.copy2(src_path, dst_path)\n",
    "\n",
    "print(\"finish splitting!\")\n",
    "print(\"train/test are already in dataset/\")"
   ]
  },
  {
   "cell_type": "code",
   "execution_count": 13,
   "id": "8a64cbe7",
   "metadata": {},
   "outputs": [],
   "source": [
    "import torchvision.transforms as transforms\n",
    "\n",
    "train_transform = transforms.Compose([\n",
    "    transforms.Resize((224, 224)),\n",
    "    transforms.RandomCrop(224, padding=4),\n",
    "    transforms.RandomHorizontalFlip(),\n",
    "    transforms.ToTensor(),\n",
    "    transforms.Normalize(mean, std)\n",
    "])\n",
    "\n",
    "test_transform = transforms.Compose([\n",
    "    transforms.Resize((224, 224)),\n",
    "    transforms.ToTensor(),\n",
    "    transforms.Normalize(mean, std)\n",
    "])"
   ]
  },
  {
   "cell_type": "code",
   "execution_count": null,
   "id": "9a567217",
   "metadata": {},
   "outputs": [
    {
     "name": "stdout",
     "output_type": "stream",
     "text": [
      "length of train set:  260\n",
      "length of test set:  68\n",
      "train_set index:  {'crack': 0, 'faulty_imprint': 1, 'good': 2, 'poke': 3, 'scratch': 4, 'squeeze': 5}\n",
      "test_set index:  {'crack': 0, 'faulty_imprint': 1, 'good': 2, 'poke': 3, 'scratch': 4, 'squeeze': 5}\n"
     ]
    }
   ],
   "source": [
    "from torchvision import datasets\n",
    "\n",
    "train_set = datasets.ImageFolder(root=\"./dataset/train\", transform=train_transform)\n",
    "test_set = datasets.ImageFolder(root=\"./dataset/test\", transform=test_transform)\n",
    "print(\"length of train set: \", len(train_set))\n",
    "print(\"length of test set: \", len(test_set))\n",
    "print(\"train_set index: \", train_set.class_to_idx)\n",
    "print(\"test_set index: \", test_set.class_to_idx)"
   ]
  },
  {
   "cell_type": "code",
   "execution_count": null,
   "id": "48a7b0ac",
   "metadata": {},
   "outputs": [],
   "source": [
    "from torch.utils.data import DataLoader\n",
    "\n",
    "train_loader = DataLoader(train_set, batch_size=32, shuffle=True, num_workers=4)\n",
    "test_loader = DataLoader(test_set, batch_size=32, shuffle=False, num_workers=4)"
   ]
  },
  {
   "cell_type": "markdown",
   "id": "f9c83bf5",
   "metadata": {},
   "source": [
    "2. 自行設計的模型架構"
   ]
  },
  {
   "cell_type": "code",
   "execution_count": 16,
   "id": "83941e1b",
   "metadata": {},
   "outputs": [],
   "source": [
    "import torch.nn as nn\n",
    "\n",
    "class ResidualBlock(nn.Module):\n",
    "    def __init__(self, in_channels, out_channels, stride=1, downsample=None):\n",
    "        super(ResidualBlock, self).__init__()\n",
    "        self.conv1 = nn.Sequential(\n",
    "            nn.Conv2d(in_channels, out_channels, kernel_size=3, stride=stride, padding=1),\n",
    "            nn.BatchNorm2d(out_channels),\n",
    "            nn.ReLU()\n",
    "        )\n",
    "        self.conv2 = nn.Sequential(\n",
    "            nn.Conv2d(out_channels, out_channels, kernel_size=3, stride=1, padding=1),\n",
    "            nn.BatchNorm2d(out_channels)\n",
    "        )\n",
    "        self.downsample = downsample\n",
    "        self.relu = nn.ReLU()\n",
    "        self.out_channels = out_channels\n",
    "    \n",
    "    def forward(self, x):\n",
    "        residual = x\n",
    "        out = self.conv1(x)\n",
    "        out = self.conv2(out)\n",
    "        if self.downsample:\n",
    "            residual = self.downsample(x)\n",
    "        out += residual\n",
    "        out = self.relu(out)\n",
    "        return out"
   ]
  },
  {
   "cell_type": "code",
   "execution_count": 17,
   "id": "806d0b4a",
   "metadata": {},
   "outputs": [],
   "source": [
    "class ResNet(nn.Module):\n",
    "    def __init__(self, block, layers, num_classes=6):\n",
    "        super(ResNet, self).__init__()\n",
    "        self.inplanes = 64\n",
    "        self.conv1 = nn.Sequential(\n",
    "            nn.Conv2d(3, 64, kernel_size=7, stride=2, padding=3),\n",
    "            nn.BatchNorm2d(64),\n",
    "            nn.ReLU()\n",
    "        )\n",
    "        self.maxpool = nn.MaxPool2d(kernel_size=3, stride=2, padding=1)\n",
    "\n",
    "        # self.conv1 = nn.Sequential(\n",
    "        #     nn.Conv2d(3, 64, kernel_size=3, stride=1, padding=1, bias=False),\n",
    "        #     nn.BatchNorm2d(64),\n",
    "        #     nn.ReLU()\n",
    "        # )\n",
    "        # self.maxpool = nn.Identity()\n",
    "\n",
    "        self.layer0 = self._make_layer(block, 64, layers[0], stride=1)\n",
    "        self.layer1 = self._make_layer(block, 128, layers[1], stride=2)\n",
    "        self.layer2 = self._make_layer(block, 256, layers[2], stride=2)\n",
    "        self.layer3 = self._make_layer(block, 512, layers[3], stride=2)\n",
    "        self.avgpool = nn.AvgPool2d(7, stride=1)\n",
    "        # self.avgpool = nn.AdaptiveAvgPool2d(1)\n",
    "        self.fc = nn.Linear(512, num_classes)\n",
    "        # self.fc = nn.Sequential(\n",
    "        #     nn.Linear(512, num_classes),\n",
    "        #     nn.ReLU(),\n",
    "        #     nn.Linear(256, num_classes)\n",
    "        # )\n",
    "    \n",
    "    def _make_layer(self, block, planes, blocks, stride=1):\n",
    "        downsample = None\n",
    "\n",
    "        if stride!=1 or self.inplanes!=planes:\n",
    "            downsample = nn.Sequential(\n",
    "                nn.Conv2d(self.inplanes, planes, kernel_size=1, stride=stride),\n",
    "                nn.BatchNorm2d(planes),\n",
    "            )\n",
    "\n",
    "        layers = []\n",
    "        layers.append(block(self.inplanes, planes, stride, downsample))\n",
    "        self.inplanes = planes\n",
    "\n",
    "        for i in range(1, blocks):\n",
    "            layers.append(block(self.inplanes, planes))\n",
    "\n",
    "        return nn.Sequential(*layers)\n",
    "    \n",
    "    def forward(self, x):\n",
    "        x = self.conv1(x)\n",
    "        x = self.maxpool(x)\n",
    "        x = self.layer0(x)\n",
    "        x = self.layer1(x)\n",
    "        x = self.layer2(x)\n",
    "        x = self.layer3(x)\n",
    "\n",
    "        x = self.avgpool(x)\n",
    "        x = x.view(x.size(0), -1)\n",
    "        x = self.fc(x)\n",
    "\n",
    "        return x"
   ]
  },
  {
   "cell_type": "code",
   "execution_count": 18,
   "id": "90763fca",
   "metadata": {},
   "outputs": [
    {
     "name": "stdout",
     "output_type": "stream",
     "text": [
      "ResNet(\n",
      "  (conv1): Sequential(\n",
      "    (0): Conv2d(3, 64, kernel_size=(7, 7), stride=(2, 2), padding=(3, 3))\n",
      "    (1): BatchNorm2d(64, eps=1e-05, momentum=0.1, affine=True, track_running_stats=True)\n",
      "    (2): ReLU()\n",
      "  )\n",
      "  (maxpool): MaxPool2d(kernel_size=3, stride=2, padding=1, dilation=1, ceil_mode=False)\n",
      "  (layer0): Sequential(\n",
      "    (0): ResidualBlock(\n",
      "      (conv1): Sequential(\n",
      "        (0): Conv2d(64, 64, kernel_size=(3, 3), stride=(1, 1), padding=(1, 1))\n",
      "        (1): BatchNorm2d(64, eps=1e-05, momentum=0.1, affine=True, track_running_stats=True)\n",
      "        (2): ReLU()\n",
      "      )\n",
      "      (conv2): Sequential(\n",
      "        (0): Conv2d(64, 64, kernel_size=(3, 3), stride=(1, 1), padding=(1, 1))\n",
      "        (1): BatchNorm2d(64, eps=1e-05, momentum=0.1, affine=True, track_running_stats=True)\n",
      "      )\n",
      "      (relu): ReLU()\n",
      "    )\n",
      "    (1): ResidualBlock(\n",
      "      (conv1): Sequential(\n",
      "        (0): Conv2d(64, 64, kernel_size=(3, 3), stride=(1, 1), padding=(1, 1))\n",
      "        (1): BatchNorm2d(64, eps=1e-05, momentum=0.1, affine=True, track_running_stats=True)\n",
      "        (2): ReLU()\n",
      "      )\n",
      "      (conv2): Sequential(\n",
      "        (0): Conv2d(64, 64, kernel_size=(3, 3), stride=(1, 1), padding=(1, 1))\n",
      "        (1): BatchNorm2d(64, eps=1e-05, momentum=0.1, affine=True, track_running_stats=True)\n",
      "      )\n",
      "      (relu): ReLU()\n",
      "    )\n",
      "  )\n",
      "  (layer1): Sequential(\n",
      "    (0): ResidualBlock(\n",
      "      (conv1): Sequential(\n",
      "        (0): Conv2d(64, 128, kernel_size=(3, 3), stride=(2, 2), padding=(1, 1))\n",
      "        (1): BatchNorm2d(128, eps=1e-05, momentum=0.1, affine=True, track_running_stats=True)\n",
      "        (2): ReLU()\n",
      "      )\n",
      "      (conv2): Sequential(\n",
      "        (0): Conv2d(128, 128, kernel_size=(3, 3), stride=(1, 1), padding=(1, 1))\n",
      "        (1): BatchNorm2d(128, eps=1e-05, momentum=0.1, affine=True, track_running_stats=True)\n",
      "      )\n",
      "      (downsample): Sequential(\n",
      "        (0): Conv2d(64, 128, kernel_size=(1, 1), stride=(2, 2))\n",
      "        (1): BatchNorm2d(128, eps=1e-05, momentum=0.1, affine=True, track_running_stats=True)\n",
      "      )\n",
      "      (relu): ReLU()\n",
      "    )\n",
      "    (1): ResidualBlock(\n",
      "      (conv1): Sequential(\n",
      "        (0): Conv2d(128, 128, kernel_size=(3, 3), stride=(1, 1), padding=(1, 1))\n",
      "        (1): BatchNorm2d(128, eps=1e-05, momentum=0.1, affine=True, track_running_stats=True)\n",
      "        (2): ReLU()\n",
      "      )\n",
      "      (conv2): Sequential(\n",
      "        (0): Conv2d(128, 128, kernel_size=(3, 3), stride=(1, 1), padding=(1, 1))\n",
      "        (1): BatchNorm2d(128, eps=1e-05, momentum=0.1, affine=True, track_running_stats=True)\n",
      "      )\n",
      "      (relu): ReLU()\n",
      "    )\n",
      "  )\n",
      "  (layer2): Sequential(\n",
      "    (0): ResidualBlock(\n",
      "      (conv1): Sequential(\n",
      "        (0): Conv2d(128, 256, kernel_size=(3, 3), stride=(2, 2), padding=(1, 1))\n",
      "        (1): BatchNorm2d(256, eps=1e-05, momentum=0.1, affine=True, track_running_stats=True)\n",
      "        (2): ReLU()\n",
      "      )\n",
      "      (conv2): Sequential(\n",
      "        (0): Conv2d(256, 256, kernel_size=(3, 3), stride=(1, 1), padding=(1, 1))\n",
      "        (1): BatchNorm2d(256, eps=1e-05, momentum=0.1, affine=True, track_running_stats=True)\n",
      "      )\n",
      "      (downsample): Sequential(\n",
      "        (0): Conv2d(128, 256, kernel_size=(1, 1), stride=(2, 2))\n",
      "        (1): BatchNorm2d(256, eps=1e-05, momentum=0.1, affine=True, track_running_stats=True)\n",
      "      )\n",
      "      (relu): ReLU()\n",
      "    )\n",
      "    (1): ResidualBlock(\n",
      "      (conv1): Sequential(\n",
      "        (0): Conv2d(256, 256, kernel_size=(3, 3), stride=(1, 1), padding=(1, 1))\n",
      "        (1): BatchNorm2d(256, eps=1e-05, momentum=0.1, affine=True, track_running_stats=True)\n",
      "        (2): ReLU()\n",
      "      )\n",
      "      (conv2): Sequential(\n",
      "        (0): Conv2d(256, 256, kernel_size=(3, 3), stride=(1, 1), padding=(1, 1))\n",
      "        (1): BatchNorm2d(256, eps=1e-05, momentum=0.1, affine=True, track_running_stats=True)\n",
      "      )\n",
      "      (relu): ReLU()\n",
      "    )\n",
      "  )\n",
      "  (layer3): Sequential(\n",
      "    (0): ResidualBlock(\n",
      "      (conv1): Sequential(\n",
      "        (0): Conv2d(256, 512, kernel_size=(3, 3), stride=(2, 2), padding=(1, 1))\n",
      "        (1): BatchNorm2d(512, eps=1e-05, momentum=0.1, affine=True, track_running_stats=True)\n",
      "        (2): ReLU()\n",
      "      )\n",
      "      (conv2): Sequential(\n",
      "        (0): Conv2d(512, 512, kernel_size=(3, 3), stride=(1, 1), padding=(1, 1))\n",
      "        (1): BatchNorm2d(512, eps=1e-05, momentum=0.1, affine=True, track_running_stats=True)\n",
      "      )\n",
      "      (downsample): Sequential(\n",
      "        (0): Conv2d(256, 512, kernel_size=(1, 1), stride=(2, 2))\n",
      "        (1): BatchNorm2d(512, eps=1e-05, momentum=0.1, affine=True, track_running_stats=True)\n",
      "      )\n",
      "      (relu): ReLU()\n",
      "    )\n",
      "    (1): ResidualBlock(\n",
      "      (conv1): Sequential(\n",
      "        (0): Conv2d(512, 512, kernel_size=(3, 3), stride=(1, 1), padding=(1, 1))\n",
      "        (1): BatchNorm2d(512, eps=1e-05, momentum=0.1, affine=True, track_running_stats=True)\n",
      "        (2): ReLU()\n",
      "      )\n",
      "      (conv2): Sequential(\n",
      "        (0): Conv2d(512, 512, kernel_size=(3, 3), stride=(1, 1), padding=(1, 1))\n",
      "        (1): BatchNorm2d(512, eps=1e-05, momentum=0.1, affine=True, track_running_stats=True)\n",
      "      )\n",
      "      (relu): ReLU()\n",
      "    )\n",
      "  )\n",
      "  (avgpool): AvgPool2d(kernel_size=7, stride=1, padding=0)\n",
      "  (fc): Linear(in_features=512, out_features=6, bias=True)\n",
      ")\n"
     ]
    }
   ],
   "source": [
    "import torch\n",
    "\n",
    "device = torch.device(\"cuda\" if torch.cuda.is_available() else \"cpu\")\n",
    "model = ResNet(ResidualBlock, [2, 2, 2, 2]).to(device)\n",
    "print(model)"
   ]
  },
  {
   "cell_type": "code",
   "execution_count": 19,
   "id": "6bf0a5fd",
   "metadata": {},
   "outputs": [],
   "source": [
    "def train(model, train_loader, device, optimizer, loss_fn, epoch, scheduler=None):\n",
    "    model.train()\n",
    "    train_loss = 0.\n",
    "    n_corrects = 0\n",
    "    total = 0\n",
    "\n",
    "    # Use tqdm for a pregress bar\n",
    "    from tqdm import tqdm\n",
    "    pbar = tqdm(train_loader, desc=\"Training\")\n",
    "\n",
    "    for idx, (images, labels) in enumerate(pbar):\n",
    "    # for idx, (images, labels) in enumerate(train_loader):\n",
    "        # Move data to device\n",
    "        images = images.to(device)\n",
    "        labels = labels.to(device)\n",
    "\n",
    "        # Forward pass\n",
    "        outputs = model(images)\n",
    "        loss = loss_fn(outputs, labels)\n",
    "\n",
    "        # Backward and optimize\n",
    "        optimizer.zero_grad()\n",
    "        loss.backward()\n",
    "        optimizer.step()\n",
    "\n",
    "        # Calculate accuracy\n",
    "        _, predictions = torch.max(outputs, dim=1)\n",
    "        batch_correct = predictions.eq(labels).sum().item()\n",
    "        batch_size = labels.size(0)\n",
    "\n",
    "        # Update metrics\n",
    "        n_corrects += batch_correct\n",
    "        total += batch_size\n",
    "        train_loss += loss.item() * batch_size\n",
    "\n",
    "        # Update progress bar\n",
    "        current_lr = optimizer.param_groups[0][\"lr\"]\n",
    "        pbar.set_postfix({\n",
    "            \"epoch\": epoch,\n",
    "            \"loss\": f\"{train_loss/total:.4f}\",\n",
    "            \"acc\": f\"{100.*n_corrects/total:.2f}%\",\n",
    "            \"lr\": f\"{current_lr:.6f}\"\n",
    "        })\n",
    "    \n",
    "    # Step the scheduler if it's epoch-based\n",
    "    if scheduler is not None and not hasattr(scheduler, \"step_batch\"):\n",
    "        scheduler.step()\n",
    "    \n",
    "    # Calculate final metrics\n",
    "    avg_loss = train_loss / total\n",
    "    accuracy = n_corrects / total\n",
    "\n",
    "    return avg_loss, accuracy"
   ]
  },
  {
   "cell_type": "code",
   "execution_count": null,
   "id": "c0871419",
   "metadata": {},
   "outputs": [],
   "source": [
    "@torch.no_grad()\n",
    "def evaluate(model, test_loader, device, loss_fn, epoch):\n",
    "    model.eval()\n",
    "    test_loss = 0.\n",
    "    n_corrects = 0\n",
    "    total = 0\n",
    "\n",
    "    # Use tqdm for a progress bar\n",
    "    from tqdm import tqdm\n",
    "    pbar = tqdm(test_loader, desc=\"Testing\")\n",
    "\n",
    "    for images, labels in pbar:\n",
    "        # Move data to device\n",
    "        images = images.to(device)\n",
    "        labels = labels.to(device)\n",
    "\n",
    "        # Forward pass\n",
    "        outputs = model(images)\n",
    "\n",
    "        # Calculate loss\n",
    "        loss = loss_fn(outputs, labels)\n",
    "\n",
    "        # Calculate accuracy\n",
    "        _, predictions = torch.max(outputs, dim=1)\n",
    "        batch_correct = predictions.eq(labels).sum().item()\n",
    "        batch_size = labels.size(0)\n",
    "\n",
    "        # Update metrics\n",
    "        n_corrects += batch_correct\n",
    "        total += batch_size\n",
    "        test_loss += loss.item() * batch_size\n",
    "\n",
    "        # Update progress bar\n",
    "        pbar.set_postfix({\n",
    "            \"epoch\": epoch,\n",
    "            \"loss\": f\"{test_loss/total:.4f}\",\n",
    "            \"acc\": f\"{100.*n_corrects/total:.2f}%\"\n",
    "        })\n",
    "\n",
    "    # Calculate final metrics\n",
    "    avg_loss = test_loss / total\n",
    "    accuracy = n_corrects / total\n",
    "\n",
    "    print(f\"Test: Loss: {avg_loss:.4f} | Accuracy: {accuracy:.4f} ({n_corrects}/{total})\")\n",
    "\n",
    "    return avg_loss, accuracy"
   ]
  },
  {
   "cell_type": "markdown",
   "id": "2a81a816",
   "metadata": {},
   "source": [
    "3. 模型訓練過程與變化"
   ]
  },
  {
   "cell_type": "code",
   "execution_count": 22,
   "id": "2c1f0b61",
   "metadata": {},
   "outputs": [
    {
     "name": "stderr",
     "output_type": "stream",
     "text": [
      "Training: 100%|██████████| 9/9 [00:37<00:00,  4.18s/it, epoch=1, loss=1.3582, acc=59.62%, lr=0.000300]\n",
      "Testing: 100%|██████████| 3/3 [00:13<00:00,  4.61s/it, epoch=1, loss=1.9127, acc=7.35%]\n"
     ]
    },
    {
     "name": "stdout",
     "output_type": "stream",
     "text": [
      "Test: Loss: 1.9127 | Accuracy: 0.0735 (10/136)\n",
      "Epoch 1/100: training accuracy: 0.5961538461538461, test accuracy: 0.07352941176470588\n"
     ]
    },
    {
     "name": "stderr",
     "output_type": "stream",
     "text": [
      "Training: 100%|██████████| 9/9 [00:40<00:00,  4.47s/it, epoch=2, loss=1.1641, acc=67.31%, lr=0.000300]\n",
      "Testing: 100%|██████████| 3/3 [00:09<00:00,  3.26s/it, epoch=2, loss=3.1027, acc=7.35%]\n"
     ]
    },
    {
     "name": "stdout",
     "output_type": "stream",
     "text": [
      "Test: Loss: 3.1027 | Accuracy: 0.0735 (10/136)\n",
      "Epoch 2/100: training accuracy: 0.6730769230769231, test accuracy: 0.07352941176470588\n"
     ]
    },
    {
     "name": "stderr",
     "output_type": "stream",
     "text": [
      "Training: 100%|██████████| 9/9 [00:34<00:00,  3.88s/it, epoch=3, loss=1.1615, acc=64.23%, lr=0.000300]\n",
      "Testing: 100%|██████████| 3/3 [00:09<00:00,  3.03s/it, epoch=3, loss=4.7449, acc=64.71%]\n"
     ]
    },
    {
     "name": "stdout",
     "output_type": "stream",
     "text": [
      "Test: Loss: 4.7449 | Accuracy: 0.6471 (88/136)\n",
      "Epoch 3/100: training accuracy: 0.6423076923076924, test accuracy: 0.6470588235294118\n"
     ]
    },
    {
     "name": "stderr",
     "output_type": "stream",
     "text": [
      "Training: 100%|██████████| 9/9 [00:32<00:00,  3.66s/it, epoch=4, loss=1.1086, acc=67.31%, lr=0.000300]\n",
      "Testing: 100%|██████████| 3/3 [00:08<00:00,  2.90s/it, epoch=4, loss=1.1791, acc=64.71%]\n"
     ]
    },
    {
     "name": "stdout",
     "output_type": "stream",
     "text": [
      "Test: Loss: 1.1791 | Accuracy: 0.6471 (88/136)\n",
      "Epoch 4/100: training accuracy: 0.6730769230769231, test accuracy: 0.6470588235294118\n"
     ]
    },
    {
     "name": "stderr",
     "output_type": "stream",
     "text": [
      "Training: 100%|██████████| 9/9 [00:31<00:00,  3.46s/it, epoch=5, loss=1.0341, acc=66.54%, lr=0.000300]\n",
      "Testing: 100%|██████████| 3/3 [00:08<00:00,  2.73s/it, epoch=5, loss=5.8128, acc=64.71%]\n"
     ]
    },
    {
     "name": "stdout",
     "output_type": "stream",
     "text": [
      "Test: Loss: 5.8128 | Accuracy: 0.6471 (88/136)\n",
      "Epoch 5/100: training accuracy: 0.6653846153846154, test accuracy: 0.6470588235294118\n"
     ]
    },
    {
     "name": "stderr",
     "output_type": "stream",
     "text": [
      "Training: 100%|██████████| 9/9 [00:30<00:00,  3.39s/it, epoch=6, loss=1.0834, acc=67.31%, lr=0.000300]\n",
      "Testing: 100%|██████████| 3/3 [00:08<00:00,  2.68s/it, epoch=6, loss=12.7942, acc=64.71%]\n"
     ]
    },
    {
     "name": "stdout",
     "output_type": "stream",
     "text": [
      "Test: Loss: 12.7942 | Accuracy: 0.6471 (88/136)\n",
      "Epoch 6/100: training accuracy: 0.6730769230769231, test accuracy: 0.6470588235294118\n"
     ]
    },
    {
     "name": "stderr",
     "output_type": "stream",
     "text": [
      "Training: 100%|██████████| 9/9 [00:31<00:00,  3.46s/it, epoch=7, loss=1.0230, acc=66.92%, lr=0.000300]\n",
      "Testing: 100%|██████████| 3/3 [00:08<00:00,  2.73s/it, epoch=7, loss=10.7646, acc=64.71%]\n"
     ]
    },
    {
     "name": "stdout",
     "output_type": "stream",
     "text": [
      "Test: Loss: 10.7646 | Accuracy: 0.6471 (88/136)\n",
      "Epoch 7/100: training accuracy: 0.6692307692307692, test accuracy: 0.6470588235294118\n"
     ]
    },
    {
     "name": "stderr",
     "output_type": "stream",
     "text": [
      "Training: 100%|██████████| 9/9 [00:31<00:00,  3.46s/it, epoch=8, loss=1.0038, acc=63.85%, lr=0.000030]\n",
      "Testing: 100%|██████████| 3/3 [00:08<00:00,  2.72s/it, epoch=8, loss=2.4147, acc=64.71%]\n"
     ]
    },
    {
     "name": "stdout",
     "output_type": "stream",
     "text": [
      "Test: Loss: 2.4147 | Accuracy: 0.6471 (88/136)\n",
      "Epoch 8/100: training accuracy: 0.6384615384615384, test accuracy: 0.6470588235294118\n"
     ]
    },
    {
     "name": "stderr",
     "output_type": "stream",
     "text": [
      "Training: 100%|██████████| 9/9 [00:31<00:00,  3.45s/it, epoch=9, loss=0.9788, acc=64.62%, lr=0.000030]\n",
      "Testing: 100%|██████████| 3/3 [00:08<00:00,  2.73s/it, epoch=9, loss=1.1573, acc=64.71%]\n"
     ]
    },
    {
     "name": "stdout",
     "output_type": "stream",
     "text": [
      "Test: Loss: 1.1573 | Accuracy: 0.6471 (88/136)\n",
      "Epoch 9/100: training accuracy: 0.6461538461538462, test accuracy: 0.6470588235294118\n"
     ]
    },
    {
     "name": "stderr",
     "output_type": "stream",
     "text": [
      "Training: 100%|██████████| 9/9 [00:30<00:00,  3.43s/it, epoch=10, loss=0.9713, acc=66.15%, lr=0.000030]\n",
      "Testing: 100%|██████████| 3/3 [00:08<00:00,  2.73s/it, epoch=10, loss=1.0635, acc=60.29%]\n"
     ]
    },
    {
     "name": "stdout",
     "output_type": "stream",
     "text": [
      "Test: Loss: 1.0635 | Accuracy: 0.6029 (82/136)\n",
      "Epoch 10/100: training accuracy: 0.6615384615384615, test accuracy: 0.6029411764705882\n"
     ]
    },
    {
     "name": "stderr",
     "output_type": "stream",
     "text": [
      "Training: 100%|██████████| 9/9 [00:31<00:00,  3.45s/it, epoch=11, loss=0.9527, acc=64.23%, lr=0.000030]\n",
      "Testing: 100%|██████████| 3/3 [00:08<00:00,  2.71s/it, epoch=11, loss=1.0367, acc=60.29%]\n"
     ]
    },
    {
     "name": "stdout",
     "output_type": "stream",
     "text": [
      "Test: Loss: 1.0367 | Accuracy: 0.6029 (82/136)\n",
      "Epoch 11/100: training accuracy: 0.6423076923076924, test accuracy: 0.6029411764705882\n"
     ]
    },
    {
     "name": "stderr",
     "output_type": "stream",
     "text": [
      "Training: 100%|██████████| 9/9 [00:30<00:00,  3.44s/it, epoch=12, loss=0.9478, acc=68.08%, lr=0.000030]\n",
      "Testing: 100%|██████████| 3/3 [00:08<00:00,  2.71s/it, epoch=12, loss=1.9930, acc=23.53%]\n"
     ]
    },
    {
     "name": "stdout",
     "output_type": "stream",
     "text": [
      "Test: Loss: 1.9930 | Accuracy: 0.2353 (32/136)\n",
      "Epoch 12/100: training accuracy: 0.6807692307692308, test accuracy: 0.23529411764705882\n"
     ]
    },
    {
     "name": "stderr",
     "output_type": "stream",
     "text": [
      "Training: 100%|██████████| 9/9 [00:30<00:00,  3.38s/it, epoch=13, loss=0.9506, acc=65.77%, lr=0.000030]\n",
      "Testing: 100%|██████████| 3/3 [00:10<00:00,  3.49s/it, epoch=13, loss=1.1346, acc=61.76%]\n"
     ]
    },
    {
     "name": "stdout",
     "output_type": "stream",
     "text": [
      "Test: Loss: 1.1346 | Accuracy: 0.6176 (84/136)\n",
      "Epoch 13/100: training accuracy: 0.6576923076923077, test accuracy: 0.6176470588235294\n"
     ]
    },
    {
     "name": "stderr",
     "output_type": "stream",
     "text": [
      "Training: 100%|██████████| 9/9 [00:44<00:00,  5.00s/it, epoch=14, loss=0.9311, acc=67.69%, lr=0.000030]\n",
      "Testing: 100%|██████████| 3/3 [00:10<00:00,  3.44s/it, epoch=14, loss=1.0180, acc=64.71%]\n"
     ]
    },
    {
     "name": "stdout",
     "output_type": "stream",
     "text": [
      "Test: Loss: 1.0180 | Accuracy: 0.6471 (88/136)\n",
      "Epoch 14/100: training accuracy: 0.676923076923077, test accuracy: 0.6470588235294118\n"
     ]
    },
    {
     "name": "stderr",
     "output_type": "stream",
     "text": [
      "Training: 100%|██████████| 9/9 [00:36<00:00,  4.01s/it, epoch=15, loss=0.9474, acc=67.69%, lr=0.000030]\n",
      "Testing: 100%|██████████| 3/3 [00:09<00:00,  3.10s/it, epoch=15, loss=1.2848, acc=64.71%]\n"
     ]
    },
    {
     "name": "stdout",
     "output_type": "stream",
     "text": [
      "Test: Loss: 1.2848 | Accuracy: 0.6471 (88/136)\n",
      "Epoch 15/100: training accuracy: 0.676923076923077, test accuracy: 0.6470588235294118\n"
     ]
    },
    {
     "name": "stderr",
     "output_type": "stream",
     "text": [
      "Training: 100%|██████████| 9/9 [00:32<00:00,  3.66s/it, epoch=16, loss=0.9140, acc=67.69%, lr=0.000030]\n",
      "Testing: 100%|██████████| 3/3 [00:08<00:00,  2.88s/it, epoch=16, loss=0.9347, acc=63.24%]\n"
     ]
    },
    {
     "name": "stdout",
     "output_type": "stream",
     "text": [
      "Test: Loss: 0.9347 | Accuracy: 0.6324 (86/136)\n",
      "Epoch 16/100: training accuracy: 0.676923076923077, test accuracy: 0.6323529411764706\n"
     ]
    },
    {
     "name": "stderr",
     "output_type": "stream",
     "text": [
      "Training: 100%|██████████| 9/9 [00:31<00:00,  3.52s/it, epoch=17, loss=0.8977, acc=68.08%, lr=0.000030]\n",
      "Testing: 100%|██████████| 3/3 [00:08<00:00,  2.80s/it, epoch=17, loss=1.6286, acc=48.53%]\n"
     ]
    },
    {
     "name": "stdout",
     "output_type": "stream",
     "text": [
      "Test: Loss: 1.6286 | Accuracy: 0.4853 (66/136)\n",
      "Epoch 17/100: training accuracy: 0.6807692307692308, test accuracy: 0.4852941176470588\n"
     ]
    },
    {
     "name": "stderr",
     "output_type": "stream",
     "text": [
      "Training: 100%|██████████| 9/9 [00:30<00:00,  3.38s/it, epoch=18, loss=0.8892, acc=69.23%, lr=0.000030]\n",
      "Testing: 100%|██████████| 3/3 [00:08<00:00,  2.70s/it, epoch=18, loss=1.4957, acc=52.94%]\n"
     ]
    },
    {
     "name": "stdout",
     "output_type": "stream",
     "text": [
      "Test: Loss: 1.4957 | Accuracy: 0.5294 (72/136)\n",
      "Epoch 18/100: training accuracy: 0.6923076923076923, test accuracy: 0.5294117647058824\n"
     ]
    },
    {
     "name": "stderr",
     "output_type": "stream",
     "text": [
      "Training: 100%|██████████| 9/9 [00:29<00:00,  3.31s/it, epoch=19, loss=0.9037, acc=68.85%, lr=0.000030]\n",
      "Testing: 100%|██████████| 3/3 [00:07<00:00,  2.64s/it, epoch=19, loss=0.9232, acc=64.71%]\n"
     ]
    },
    {
     "name": "stdout",
     "output_type": "stream",
     "text": [
      "Test: Loss: 0.9232 | Accuracy: 0.6471 (88/136)\n",
      "Epoch 19/100: training accuracy: 0.6884615384615385, test accuracy: 0.6470588235294118\n"
     ]
    },
    {
     "name": "stderr",
     "output_type": "stream",
     "text": [
      "Training: 100%|██████████| 9/9 [00:32<00:00,  3.57s/it, epoch=20, loss=0.8797, acc=70.38%, lr=0.000030]\n",
      "Testing: 100%|██████████| 3/3 [00:08<00:00,  2.71s/it, epoch=20, loss=1.1511, acc=64.71%]\n"
     ]
    },
    {
     "name": "stdout",
     "output_type": "stream",
     "text": [
      "Test: Loss: 1.1511 | Accuracy: 0.6471 (88/136)\n",
      "Epoch 20/100: training accuracy: 0.7038461538461539, test accuracy: 0.6470588235294118\n"
     ]
    },
    {
     "name": "stderr",
     "output_type": "stream",
     "text": [
      "Training: 100%|██████████| 9/9 [00:30<00:00,  3.43s/it, epoch=21, loss=0.8763, acc=70.77%, lr=0.000030]\n",
      "Testing: 100%|██████████| 3/3 [00:08<00:00,  2.74s/it, epoch=21, loss=1.9308, acc=25.00%]\n"
     ]
    },
    {
     "name": "stdout",
     "output_type": "stream",
     "text": [
      "Test: Loss: 1.9308 | Accuracy: 0.2500 (34/136)\n",
      "Epoch 21/100: training accuracy: 0.7076923076923077, test accuracy: 0.25\n"
     ]
    },
    {
     "name": "stderr",
     "output_type": "stream",
     "text": [
      "Training: 100%|██████████| 9/9 [00:30<00:00,  3.44s/it, epoch=22, loss=0.8501, acc=69.23%, lr=0.000030]\n",
      "Testing: 100%|██████████| 3/3 [00:09<00:00,  3.02s/it, epoch=22, loss=1.0713, acc=64.71%]\n"
     ]
    },
    {
     "name": "stdout",
     "output_type": "stream",
     "text": [
      "Test: Loss: 1.0713 | Accuracy: 0.6471 (88/136)\n",
      "Epoch 22/100: training accuracy: 0.6923076923076923, test accuracy: 0.6470588235294118\n"
     ]
    },
    {
     "name": "stderr",
     "output_type": "stream",
     "text": [
      "Training: 100%|██████████| 9/9 [00:43<00:00,  4.80s/it, epoch=23, loss=0.8321, acc=69.62%, lr=0.000003]\n",
      "Testing: 100%|██████████| 3/3 [00:10<00:00,  3.46s/it, epoch=23, loss=0.9124, acc=64.71%]\n"
     ]
    },
    {
     "name": "stdout",
     "output_type": "stream",
     "text": [
      "Test: Loss: 0.9124 | Accuracy: 0.6471 (88/136)\n",
      "Epoch 23/100: training accuracy: 0.6961538461538461, test accuracy: 0.6470588235294118\n"
     ]
    },
    {
     "name": "stderr",
     "output_type": "stream",
     "text": [
      "Training: 100%|██████████| 9/9 [00:37<00:00,  4.14s/it, epoch=24, loss=0.8321, acc=70.77%, lr=0.000003]\n",
      "Testing: 100%|██████████| 3/3 [00:09<00:00,  3.15s/it, epoch=24, loss=0.8708, acc=64.71%]\n"
     ]
    },
    {
     "name": "stdout",
     "output_type": "stream",
     "text": [
      "Test: Loss: 0.8708 | Accuracy: 0.6471 (88/136)\n",
      "Epoch 24/100: training accuracy: 0.7076923076923077, test accuracy: 0.6470588235294118\n"
     ]
    },
    {
     "name": "stderr",
     "output_type": "stream",
     "text": [
      "Training: 100%|██████████| 9/9 [00:33<00:00,  3.72s/it, epoch=25, loss=0.8337, acc=70.38%, lr=0.000003]\n",
      "Testing: 100%|██████████| 3/3 [00:08<00:00,  2.90s/it, epoch=25, loss=0.8628, acc=64.71%]\n"
     ]
    },
    {
     "name": "stdout",
     "output_type": "stream",
     "text": [
      "Test: Loss: 0.8628 | Accuracy: 0.6471 (88/136)\n",
      "Epoch 25/100: training accuracy: 0.7038461538461539, test accuracy: 0.6470588235294118\n"
     ]
    },
    {
     "name": "stderr",
     "output_type": "stream",
     "text": [
      "Training: 100%|██████████| 9/9 [00:33<00:00,  3.68s/it, epoch=26, loss=0.8101, acc=70.38%, lr=0.000003]\n",
      "Testing: 100%|██████████| 3/3 [00:08<00:00,  2.76s/it, epoch=26, loss=0.8605, acc=64.71%]\n"
     ]
    },
    {
     "name": "stdout",
     "output_type": "stream",
     "text": [
      "Test: Loss: 0.8605 | Accuracy: 0.6471 (88/136)\n",
      "Epoch 26/100: training accuracy: 0.7038461538461539, test accuracy: 0.6470588235294118\n"
     ]
    },
    {
     "name": "stderr",
     "output_type": "stream",
     "text": [
      "Training: 100%|██████████| 9/9 [00:30<00:00,  3.34s/it, epoch=27, loss=0.8213, acc=70.77%, lr=0.000003]\n",
      "Testing: 100%|██████████| 3/3 [00:08<00:00,  2.71s/it, epoch=27, loss=0.8791, acc=64.71%]\n"
     ]
    },
    {
     "name": "stdout",
     "output_type": "stream",
     "text": [
      "Test: Loss: 0.8791 | Accuracy: 0.6471 (88/136)\n",
      "Epoch 27/100: training accuracy: 0.7076923076923077, test accuracy: 0.6470588235294118\n"
     ]
    },
    {
     "name": "stderr",
     "output_type": "stream",
     "text": [
      "Training: 100%|██████████| 9/9 [00:30<00:00,  3.37s/it, epoch=28, loss=0.8242, acc=70.77%, lr=0.000003]\n",
      "Testing: 100%|██████████| 3/3 [00:08<00:00,  2.70s/it, epoch=28, loss=0.8511, acc=64.71%]\n"
     ]
    },
    {
     "name": "stdout",
     "output_type": "stream",
     "text": [
      "Test: Loss: 0.8511 | Accuracy: 0.6471 (88/136)\n",
      "Epoch 28/100: training accuracy: 0.7076923076923077, test accuracy: 0.6470588235294118\n"
     ]
    },
    {
     "name": "stderr",
     "output_type": "stream",
     "text": [
      "Training: 100%|██████████| 9/9 [00:30<00:00,  3.33s/it, epoch=29, loss=0.8044, acc=70.77%, lr=0.000003]\n",
      "Testing: 100%|██████████| 3/3 [00:08<00:00,  2.70s/it, epoch=29, loss=0.8490, acc=64.71%]\n"
     ]
    },
    {
     "name": "stdout",
     "output_type": "stream",
     "text": [
      "Test: Loss: 0.8490 | Accuracy: 0.6471 (88/136)\n",
      "Epoch 29/100: training accuracy: 0.7076923076923077, test accuracy: 0.6470588235294118\n"
     ]
    },
    {
     "name": "stderr",
     "output_type": "stream",
     "text": [
      "Training: 100%|██████████| 9/9 [00:31<00:00,  3.45s/it, epoch=30, loss=0.8119, acc=70.77%, lr=0.000003]\n",
      "Testing: 100%|██████████| 3/3 [00:08<00:00,  2.75s/it, epoch=30, loss=0.8666, acc=64.71%]\n"
     ]
    },
    {
     "name": "stdout",
     "output_type": "stream",
     "text": [
      "Test: Loss: 0.8666 | Accuracy: 0.6471 (88/136)\n",
      "Epoch 30/100: training accuracy: 0.7076923076923077, test accuracy: 0.6470588235294118\n"
     ]
    },
    {
     "name": "stderr",
     "output_type": "stream",
     "text": [
      "Training: 100%|██████████| 9/9 [00:30<00:00,  3.36s/it, epoch=31, loss=0.8302, acc=72.31%, lr=0.000003]\n",
      "Testing: 100%|██████████| 3/3 [00:08<00:00,  2.67s/it, epoch=31, loss=0.8877, acc=64.71%]\n"
     ]
    },
    {
     "name": "stdout",
     "output_type": "stream",
     "text": [
      "Test: Loss: 0.8877 | Accuracy: 0.6471 (88/136)\n",
      "Epoch 31/100: training accuracy: 0.7230769230769231, test accuracy: 0.6470588235294118\n"
     ]
    },
    {
     "name": "stderr",
     "output_type": "stream",
     "text": [
      "Training: 100%|██████████| 9/9 [00:29<00:00,  3.33s/it, epoch=32, loss=0.8134, acc=71.54%, lr=0.000003]\n",
      "Testing: 100%|██████████| 3/3 [00:08<00:00,  2.71s/it, epoch=32, loss=0.8761, acc=64.71%]\n"
     ]
    },
    {
     "name": "stdout",
     "output_type": "stream",
     "text": [
      "Test: Loss: 0.8761 | Accuracy: 0.6471 (88/136)\n",
      "Epoch 32/100: training accuracy: 0.7153846153846154, test accuracy: 0.6470588235294118\n"
     ]
    },
    {
     "name": "stderr",
     "output_type": "stream",
     "text": [
      "Training: 100%|██████████| 9/9 [00:44<00:00,  4.92s/it, epoch=33, loss=0.7783, acc=71.54%, lr=0.000000]\n",
      "Testing: 100%|██████████| 3/3 [00:10<00:00,  3.57s/it, epoch=33, loss=0.8496, acc=64.71%]\n"
     ]
    },
    {
     "name": "stdout",
     "output_type": "stream",
     "text": [
      "Test: Loss: 0.8496 | Accuracy: 0.6471 (88/136)\n",
      "Epoch 33/100: training accuracy: 0.7153846153846154, test accuracy: 0.6470588235294118\n"
     ]
    },
    {
     "name": "stderr",
     "output_type": "stream",
     "text": [
      "Training: 100%|██████████| 9/9 [00:37<00:00,  4.14s/it, epoch=34, loss=0.7938, acc=70.00%, lr=0.000000]\n",
      "Testing: 100%|██████████| 3/3 [00:09<00:00,  3.19s/it, epoch=34, loss=0.8406, acc=64.71%]\n"
     ]
    },
    {
     "name": "stdout",
     "output_type": "stream",
     "text": [
      "Test: Loss: 0.8406 | Accuracy: 0.6471 (88/136)\n",
      "Epoch 34/100: training accuracy: 0.7, test accuracy: 0.6470588235294118\n"
     ]
    },
    {
     "name": "stderr",
     "output_type": "stream",
     "text": [
      "Training: 100%|██████████| 9/9 [00:34<00:00,  3.88s/it, epoch=35, loss=0.7641, acc=72.31%, lr=0.000000]\n",
      "Testing: 100%|██████████| 3/3 [00:08<00:00,  3.00s/it, epoch=35, loss=0.8462, acc=64.71%]\n"
     ]
    },
    {
     "name": "stdout",
     "output_type": "stream",
     "text": [
      "Test: Loss: 0.8462 | Accuracy: 0.6471 (88/136)\n",
      "Epoch 35/100: training accuracy: 0.7230769230769231, test accuracy: 0.6470588235294118\n"
     ]
    },
    {
     "name": "stderr",
     "output_type": "stream",
     "text": [
      "Training: 100%|██████████| 9/9 [00:32<00:00,  3.64s/it, epoch=36, loss=0.7877, acc=70.38%, lr=0.000000]\n",
      "Testing: 100%|██████████| 3/3 [00:08<00:00,  2.82s/it, epoch=36, loss=0.8430, acc=64.71%]\n"
     ]
    },
    {
     "name": "stdout",
     "output_type": "stream",
     "text": [
      "Test: Loss: 0.8430 | Accuracy: 0.6471 (88/136)\n",
      "Epoch 36/100: training accuracy: 0.7038461538461539, test accuracy: 0.6470588235294118\n"
     ]
    },
    {
     "name": "stderr",
     "output_type": "stream",
     "text": [
      "Training: 100%|██████████| 9/9 [00:30<00:00,  3.38s/it, epoch=37, loss=0.7806, acc=71.92%, lr=0.000000]\n",
      "Testing: 100%|██████████| 3/3 [00:08<00:00,  2.68s/it, epoch=37, loss=0.8442, acc=64.71%]\n"
     ]
    },
    {
     "name": "stdout",
     "output_type": "stream",
     "text": [
      "Test: Loss: 0.8442 | Accuracy: 0.6471 (88/136)\n",
      "Epoch 37/100: training accuracy: 0.7192307692307692, test accuracy: 0.6470588235294118\n"
     ]
    },
    {
     "name": "stderr",
     "output_type": "stream",
     "text": [
      "Training: 100%|██████████| 9/9 [00:29<00:00,  3.30s/it, epoch=38, loss=0.8102, acc=71.15%, lr=0.000000]\n",
      "Testing: 100%|██████████| 3/3 [00:08<00:00,  2.70s/it, epoch=38, loss=0.8432, acc=63.24%]\n"
     ]
    },
    {
     "name": "stdout",
     "output_type": "stream",
     "text": [
      "Test: Loss: 0.8432 | Accuracy: 0.6324 (86/136)\n",
      "Epoch 38/100: training accuracy: 0.7115384615384616, test accuracy: 0.6323529411764706\n"
     ]
    },
    {
     "name": "stderr",
     "output_type": "stream",
     "text": [
      "Training: 100%|██████████| 9/9 [00:30<00:00,  3.43s/it, epoch=39, loss=0.7898, acc=72.69%, lr=0.000000]\n",
      "Testing: 100%|██████████| 3/3 [00:08<00:00,  2.80s/it, epoch=39, loss=0.8465, acc=64.71%]\n"
     ]
    },
    {
     "name": "stdout",
     "output_type": "stream",
     "text": [
      "Test: Loss: 0.8465 | Accuracy: 0.6471 (88/136)\n",
      "Epoch 39/100: training accuracy: 0.7269230769230769, test accuracy: 0.6470588235294118\n"
     ]
    },
    {
     "name": "stderr",
     "output_type": "stream",
     "text": [
      "Training: 100%|██████████| 9/9 [00:31<00:00,  3.46s/it, epoch=40, loss=0.7964, acc=71.15%, lr=0.000000]\n",
      "Testing: 100%|██████████| 3/3 [00:08<00:00,  2.73s/it, epoch=40, loss=0.8424, acc=64.71%]\n"
     ]
    },
    {
     "name": "stdout",
     "output_type": "stream",
     "text": [
      "Test: Loss: 0.8424 | Accuracy: 0.6471 (88/136)\n",
      "Epoch 40/100: training accuracy: 0.7115384615384616, test accuracy: 0.6470588235294118\n"
     ]
    },
    {
     "name": "stderr",
     "output_type": "stream",
     "text": [
      "Training: 100%|██████████| 9/9 [00:31<00:00,  3.45s/it, epoch=41, loss=0.8016, acc=70.00%, lr=0.000000]\n",
      "Testing: 100%|██████████| 3/3 [00:08<00:00,  2.72s/it, epoch=41, loss=0.8454, acc=64.71%]\n"
     ]
    },
    {
     "name": "stdout",
     "output_type": "stream",
     "text": [
      "Test: Loss: 0.8454 | Accuracy: 0.6471 (88/136)\n",
      "Epoch 41/100: training accuracy: 0.7, test accuracy: 0.6470588235294118\n"
     ]
    },
    {
     "name": "stderr",
     "output_type": "stream",
     "text": [
      "Training: 100%|██████████| 9/9 [00:30<00:00,  3.36s/it, epoch=42, loss=0.8136, acc=71.15%, lr=0.000000]\n",
      "Testing: 100%|██████████| 3/3 [00:08<00:00,  2.74s/it, epoch=42, loss=0.8485, acc=64.71%]\n"
     ]
    },
    {
     "name": "stdout",
     "output_type": "stream",
     "text": [
      "Test: Loss: 0.8485 | Accuracy: 0.6471 (88/136)\n",
      "Epoch 42/100: training accuracy: 0.7115384615384616, test accuracy: 0.6470588235294118\n"
     ]
    },
    {
     "name": "stderr",
     "output_type": "stream",
     "text": [
      "Training: 100%|██████████| 9/9 [00:36<00:00,  4.06s/it, epoch=43, loss=0.8002, acc=70.00%, lr=0.000000]\n",
      "Testing: 100%|██████████| 3/3 [00:11<00:00,  3.95s/it, epoch=43, loss=0.8501, acc=64.71%]\n"
     ]
    },
    {
     "name": "stdout",
     "output_type": "stream",
     "text": [
      "Test: Loss: 0.8501 | Accuracy: 0.6471 (88/136)\n",
      "Epoch 43/100: training accuracy: 0.7, test accuracy: 0.6470588235294118\n"
     ]
    },
    {
     "name": "stderr",
     "output_type": "stream",
     "text": [
      "Training: 100%|██████████| 9/9 [00:40<00:00,  4.54s/it, epoch=44, loss=0.7997, acc=70.77%, lr=0.000000]\n",
      "Testing: 100%|██████████| 3/3 [00:09<00:00,  3.33s/it, epoch=44, loss=0.8430, acc=64.71%]\n"
     ]
    },
    {
     "name": "stdout",
     "output_type": "stream",
     "text": [
      "Test: Loss: 0.8430 | Accuracy: 0.6471 (88/136)\n",
      "Epoch 44/100: training accuracy: 0.7076923076923077, test accuracy: 0.6470588235294118\n"
     ]
    },
    {
     "name": "stderr",
     "output_type": "stream",
     "text": [
      "Training: 100%|██████████| 9/9 [00:36<00:00,  4.03s/it, epoch=45, loss=0.7856, acc=72.69%, lr=0.000000]\n",
      "Testing: 100%|██████████| 3/3 [00:09<00:00,  3.10s/it, epoch=45, loss=0.8416, acc=64.71%]\n"
     ]
    },
    {
     "name": "stdout",
     "output_type": "stream",
     "text": [
      "Test: Loss: 0.8416 | Accuracy: 0.6471 (88/136)\n",
      "Epoch 45/100: training accuracy: 0.7269230769230769, test accuracy: 0.6470588235294118\n"
     ]
    },
    {
     "name": "stderr",
     "output_type": "stream",
     "text": [
      "Training: 100%|██████████| 9/9 [00:33<00:00,  3.73s/it, epoch=46, loss=0.8094, acc=71.15%, lr=0.000000]\n",
      "Testing: 100%|██████████| 3/3 [00:08<00:00,  2.89s/it, epoch=46, loss=0.8437, acc=64.71%]\n"
     ]
    },
    {
     "name": "stdout",
     "output_type": "stream",
     "text": [
      "Test: Loss: 0.8437 | Accuracy: 0.6471 (88/136)\n",
      "Epoch 46/100: training accuracy: 0.7115384615384616, test accuracy: 0.6470588235294118\n"
     ]
    },
    {
     "name": "stderr",
     "output_type": "stream",
     "text": [
      "Training: 100%|██████████| 9/9 [00:32<00:00,  3.60s/it, epoch=47, loss=0.8056, acc=71.54%, lr=0.000000]\n",
      "Testing: 100%|██████████| 3/3 [00:08<00:00,  2.78s/it, epoch=47, loss=0.8420, acc=64.71%]\n"
     ]
    },
    {
     "name": "stdout",
     "output_type": "stream",
     "text": [
      "Test: Loss: 0.8420 | Accuracy: 0.6471 (88/136)\n",
      "Epoch 47/100: training accuracy: 0.7153846153846154, test accuracy: 0.6470588235294118\n"
     ]
    },
    {
     "name": "stderr",
     "output_type": "stream",
     "text": [
      "Training: 100%|██████████| 9/9 [00:30<00:00,  3.42s/it, epoch=48, loss=0.8034, acc=71.92%, lr=0.000000]\n",
      "Testing: 100%|██████████| 3/3 [00:08<00:00,  2.70s/it, epoch=48, loss=0.8404, acc=64.71%]\n"
     ]
    },
    {
     "name": "stdout",
     "output_type": "stream",
     "text": [
      "Test: Loss: 0.8404 | Accuracy: 0.6471 (88/136)\n",
      "Epoch 48/100: training accuracy: 0.7192307692307692, test accuracy: 0.6470588235294118\n"
     ]
    },
    {
     "name": "stderr",
     "output_type": "stream",
     "text": [
      "Training: 100%|██████████| 9/9 [00:31<00:00,  3.46s/it, epoch=49, loss=0.7885, acc=71.54%, lr=0.000000]\n",
      "Testing: 100%|██████████| 3/3 [00:08<00:00,  2.73s/it, epoch=49, loss=0.8415, acc=63.24%]\n"
     ]
    },
    {
     "name": "stdout",
     "output_type": "stream",
     "text": [
      "Test: Loss: 0.8415 | Accuracy: 0.6324 (86/136)\n",
      "Epoch 49/100: training accuracy: 0.7153846153846154, test accuracy: 0.6323529411764706\n"
     ]
    },
    {
     "name": "stderr",
     "output_type": "stream",
     "text": [
      "Training: 100%|██████████| 9/9 [00:30<00:00,  3.43s/it, epoch=50, loss=0.8055, acc=71.92%, lr=0.000000]\n",
      "Testing: 100%|██████████| 3/3 [00:08<00:00,  2.73s/it, epoch=50, loss=0.8392, acc=64.71%]\n"
     ]
    },
    {
     "name": "stdout",
     "output_type": "stream",
     "text": [
      "Test: Loss: 0.8392 | Accuracy: 0.6471 (88/136)\n",
      "Epoch 50/100: training accuracy: 0.7192307692307692, test accuracy: 0.6470588235294118\n"
     ]
    },
    {
     "name": "stderr",
     "output_type": "stream",
     "text": [
      "Training: 100%|██████████| 9/9 [00:30<00:00,  3.37s/it, epoch=51, loss=0.7974, acc=72.31%, lr=0.000000]\n",
      "Testing: 100%|██████████| 3/3 [00:08<00:00,  2.75s/it, epoch=51, loss=0.8421, acc=64.71%]\n"
     ]
    },
    {
     "name": "stdout",
     "output_type": "stream",
     "text": [
      "Test: Loss: 0.8421 | Accuracy: 0.6471 (88/136)\n",
      "Epoch 51/100: training accuracy: 0.7230769230769231, test accuracy: 0.6470588235294118\n"
     ]
    },
    {
     "name": "stderr",
     "output_type": "stream",
     "text": [
      "Training: 100%|██████████| 9/9 [00:30<00:00,  3.42s/it, epoch=52, loss=0.8045, acc=70.00%, lr=0.000000]\n",
      "Testing: 100%|██████████| 3/3 [00:08<00:00,  2.74s/it, epoch=52, loss=0.8440, acc=64.71%]\n"
     ]
    },
    {
     "name": "stdout",
     "output_type": "stream",
     "text": [
      "Test: Loss: 0.8440 | Accuracy: 0.6471 (88/136)\n",
      "Epoch 52/100: training accuracy: 0.7, test accuracy: 0.6470588235294118\n"
     ]
    },
    {
     "name": "stderr",
     "output_type": "stream",
     "text": [
      "Training: 100%|██████████| 9/9 [00:30<00:00,  3.36s/it, epoch=53, loss=0.7811, acc=71.54%, lr=0.000000]\n",
      "Testing: 100%|██████████| 3/3 [00:08<00:00,  2.71s/it, epoch=53, loss=0.8393, acc=64.71%]\n"
     ]
    },
    {
     "name": "stdout",
     "output_type": "stream",
     "text": [
      "Test: Loss: 0.8393 | Accuracy: 0.6471 (88/136)\n",
      "Epoch 53/100: training accuracy: 0.7153846153846154, test accuracy: 0.6470588235294118\n"
     ]
    },
    {
     "name": "stderr",
     "output_type": "stream",
     "text": [
      "Training: 100%|██████████| 9/9 [00:32<00:00,  3.56s/it, epoch=54, loss=0.8084, acc=70.38%, lr=0.000000]\n",
      "Testing: 100%|██████████| 3/3 [00:12<00:00,  4.01s/it, epoch=54, loss=0.8426, acc=64.71%]\n"
     ]
    },
    {
     "name": "stdout",
     "output_type": "stream",
     "text": [
      "Test: Loss: 0.8426 | Accuracy: 0.6471 (88/136)\n",
      "Epoch 54/100: training accuracy: 0.7038461538461539, test accuracy: 0.6470588235294118\n"
     ]
    },
    {
     "name": "stderr",
     "output_type": "stream",
     "text": [
      "Training: 100%|██████████| 9/9 [00:40<00:00,  4.48s/it, epoch=55, loss=0.8049, acc=69.62%, lr=0.000000]\n",
      "Testing: 100%|██████████| 3/3 [00:11<00:00,  3.75s/it, epoch=55, loss=0.8405, acc=64.71%]\n"
     ]
    },
    {
     "name": "stdout",
     "output_type": "stream",
     "text": [
      "Test: Loss: 0.8405 | Accuracy: 0.6471 (88/136)\n",
      "Epoch 55/100: training accuracy: 0.6961538461538461, test accuracy: 0.6470588235294118\n"
     ]
    },
    {
     "name": "stderr",
     "output_type": "stream",
     "text": [
      "Training: 100%|██████████| 9/9 [00:35<00:00,  3.95s/it, epoch=56, loss=0.8179, acc=71.54%, lr=0.000000]\n",
      "Testing: 100%|██████████| 3/3 [00:09<00:00,  3.08s/it, epoch=56, loss=0.8395, acc=64.71%]\n"
     ]
    },
    {
     "name": "stdout",
     "output_type": "stream",
     "text": [
      "Test: Loss: 0.8395 | Accuracy: 0.6471 (88/136)\n",
      "Epoch 56/100: training accuracy: 0.7153846153846154, test accuracy: 0.6470588235294118\n"
     ]
    },
    {
     "name": "stderr",
     "output_type": "stream",
     "text": [
      "Training: 100%|██████████| 9/9 [00:32<00:00,  3.66s/it, epoch=57, loss=0.8070, acc=70.77%, lr=0.000000]\n",
      "Testing: 100%|██████████| 3/3 [00:08<00:00,  2.89s/it, epoch=57, loss=0.8380, acc=64.71%]\n"
     ]
    },
    {
     "name": "stdout",
     "output_type": "stream",
     "text": [
      "Test: Loss: 0.8380 | Accuracy: 0.6471 (88/136)\n",
      "Epoch 57/100: training accuracy: 0.7076923076923077, test accuracy: 0.6470588235294118\n"
     ]
    },
    {
     "name": "stderr",
     "output_type": "stream",
     "text": [
      "Training: 100%|██████████| 9/9 [00:30<00:00,  3.44s/it, epoch=58, loss=0.7970, acc=69.62%, lr=0.000000]\n",
      "Testing: 100%|██████████| 3/3 [00:08<00:00,  2.76s/it, epoch=58, loss=0.8405, acc=64.71%]\n"
     ]
    },
    {
     "name": "stdout",
     "output_type": "stream",
     "text": [
      "Test: Loss: 0.8405 | Accuracy: 0.6471 (88/136)\n",
      "Epoch 58/100: training accuracy: 0.6961538461538461, test accuracy: 0.6470588235294118\n"
     ]
    },
    {
     "name": "stderr",
     "output_type": "stream",
     "text": [
      "Training: 100%|██████████| 9/9 [00:30<00:00,  3.34s/it, epoch=59, loss=0.7992, acc=68.85%, lr=0.000000]\n",
      "Testing: 100%|██████████| 3/3 [00:08<00:00,  2.74s/it, epoch=59, loss=0.8421, acc=63.24%]\n"
     ]
    },
    {
     "name": "stdout",
     "output_type": "stream",
     "text": [
      "Test: Loss: 0.8421 | Accuracy: 0.6324 (86/136)\n",
      "Epoch 59/100: training accuracy: 0.6884615384615385, test accuracy: 0.6323529411764706\n"
     ]
    },
    {
     "name": "stderr",
     "output_type": "stream",
     "text": [
      "Training: 100%|██████████| 9/9 [00:30<00:00,  3.37s/it, epoch=60, loss=0.7819, acc=72.31%, lr=0.000000]\n",
      "Testing: 100%|██████████| 3/3 [00:08<00:00,  2.72s/it, epoch=60, loss=0.8445, acc=64.71%]\n"
     ]
    },
    {
     "name": "stdout",
     "output_type": "stream",
     "text": [
      "Test: Loss: 0.8445 | Accuracy: 0.6471 (88/136)\n",
      "Epoch 60/100: training accuracy: 0.7230769230769231, test accuracy: 0.6470588235294118\n"
     ]
    },
    {
     "name": "stderr",
     "output_type": "stream",
     "text": [
      "Training: 100%|██████████| 9/9 [00:30<00:00,  3.43s/it, epoch=61, loss=0.7768, acc=70.77%, lr=0.000000]\n",
      "Testing: 100%|██████████| 3/3 [00:08<00:00,  2.71s/it, epoch=61, loss=0.8413, acc=63.24%]\n"
     ]
    },
    {
     "name": "stdout",
     "output_type": "stream",
     "text": [
      "Test: Loss: 0.8413 | Accuracy: 0.6324 (86/136)\n",
      "Epoch 61/100: training accuracy: 0.7076923076923077, test accuracy: 0.6323529411764706\n"
     ]
    },
    {
     "name": "stderr",
     "output_type": "stream",
     "text": [
      "Training: 100%|██████████| 9/9 [00:30<00:00,  3.44s/it, epoch=62, loss=0.8172, acc=70.38%, lr=0.000000]\n",
      "Testing: 100%|██████████| 3/3 [00:08<00:00,  2.76s/it, epoch=62, loss=0.8475, acc=64.71%]\n"
     ]
    },
    {
     "name": "stdout",
     "output_type": "stream",
     "text": [
      "Test: Loss: 0.8475 | Accuracy: 0.6471 (88/136)\n",
      "Epoch 62/100: training accuracy: 0.7038461538461539, test accuracy: 0.6470588235294118\n"
     ]
    },
    {
     "name": "stderr",
     "output_type": "stream",
     "text": [
      "Training: 100%|██████████| 9/9 [00:30<00:00,  3.43s/it, epoch=63, loss=0.8020, acc=70.38%, lr=0.000000]\n",
      "Testing: 100%|██████████| 3/3 [00:08<00:00,  2.75s/it, epoch=63, loss=0.8448, acc=64.71%]\n"
     ]
    },
    {
     "name": "stdout",
     "output_type": "stream",
     "text": [
      "Test: Loss: 0.8448 | Accuracy: 0.6471 (88/136)\n",
      "Epoch 63/100: training accuracy: 0.7038461538461539, test accuracy: 0.6470588235294118\n"
     ]
    },
    {
     "name": "stderr",
     "output_type": "stream",
     "text": [
      "Training: 100%|██████████| 9/9 [00:29<00:00,  3.32s/it, epoch=64, loss=0.7996, acc=71.92%, lr=0.000000]\n",
      "Testing: 100%|██████████| 3/3 [00:08<00:00,  2.79s/it, epoch=64, loss=0.8469, acc=64.71%]\n"
     ]
    },
    {
     "name": "stdout",
     "output_type": "stream",
     "text": [
      "Test: Loss: 0.8469 | Accuracy: 0.6471 (88/136)\n",
      "Epoch 64/100: training accuracy: 0.7192307692307692, test accuracy: 0.6470588235294118\n"
     ]
    },
    {
     "name": "stderr",
     "output_type": "stream",
     "text": [
      "Training: 100%|██████████| 9/9 [00:42<00:00,  4.68s/it, epoch=65, loss=0.8083, acc=71.92%, lr=0.000000]\n",
      "Testing: 100%|██████████| 3/3 [00:11<00:00,  3.95s/it, epoch=65, loss=0.8459, acc=64.71%]\n"
     ]
    },
    {
     "name": "stdout",
     "output_type": "stream",
     "text": [
      "Test: Loss: 0.8459 | Accuracy: 0.6471 (88/136)\n",
      "Epoch 65/100: training accuracy: 0.7192307692307692, test accuracy: 0.6470588235294118\n"
     ]
    },
    {
     "name": "stderr",
     "output_type": "stream",
     "text": [
      "Training: 100%|██████████| 9/9 [00:36<00:00,  4.10s/it, epoch=66, loss=0.8177, acc=70.77%, lr=0.000000]\n",
      "Testing: 100%|██████████| 3/3 [00:09<00:00,  3.18s/it, epoch=66, loss=0.8415, acc=64.71%]\n"
     ]
    },
    {
     "name": "stdout",
     "output_type": "stream",
     "text": [
      "Test: Loss: 0.8415 | Accuracy: 0.6471 (88/136)\n",
      "Epoch 66/100: training accuracy: 0.7076923076923077, test accuracy: 0.6470588235294118\n"
     ]
    },
    {
     "name": "stderr",
     "output_type": "stream",
     "text": [
      "Training: 100%|██████████| 9/9 [00:34<00:00,  3.82s/it, epoch=67, loss=0.7913, acc=72.69%, lr=0.000000]\n",
      "Testing: 100%|██████████| 3/3 [00:08<00:00,  2.96s/it, epoch=67, loss=0.8416, acc=64.71%]\n"
     ]
    },
    {
     "name": "stdout",
     "output_type": "stream",
     "text": [
      "Test: Loss: 0.8416 | Accuracy: 0.6471 (88/136)\n",
      "Epoch 67/100: training accuracy: 0.7269230769230769, test accuracy: 0.6470588235294118\n"
     ]
    },
    {
     "name": "stderr",
     "output_type": "stream",
     "text": [
      "Training: 100%|██████████| 9/9 [00:32<00:00,  3.60s/it, epoch=68, loss=0.7894, acc=72.31%, lr=0.000000]\n",
      "Testing: 100%|██████████| 3/3 [00:08<00:00,  2.80s/it, epoch=68, loss=0.8419, acc=64.71%]\n"
     ]
    },
    {
     "name": "stdout",
     "output_type": "stream",
     "text": [
      "Test: Loss: 0.8419 | Accuracy: 0.6471 (88/136)\n",
      "Epoch 68/100: training accuracy: 0.7230769230769231, test accuracy: 0.6470588235294118\n"
     ]
    },
    {
     "name": "stderr",
     "output_type": "stream",
     "text": [
      "Training: 100%|██████████| 9/9 [00:32<00:00,  3.62s/it, epoch=69, loss=0.8192, acc=71.15%, lr=0.000000]\n",
      "Testing: 100%|██████████| 3/3 [00:08<00:00,  2.73s/it, epoch=69, loss=0.8518, acc=64.71%]\n"
     ]
    },
    {
     "name": "stdout",
     "output_type": "stream",
     "text": [
      "Test: Loss: 0.8518 | Accuracy: 0.6471 (88/136)\n",
      "Epoch 69/100: training accuracy: 0.7115384615384616, test accuracy: 0.6470588235294118\n"
     ]
    },
    {
     "name": "stderr",
     "output_type": "stream",
     "text": [
      "Training: 100%|██████████| 9/9 [00:30<00:00,  3.43s/it, epoch=70, loss=0.7871, acc=71.15%, lr=0.000000]\n",
      "Testing: 100%|██████████| 3/3 [00:08<00:00,  2.78s/it, epoch=70, loss=0.8451, acc=64.71%]\n"
     ]
    },
    {
     "name": "stdout",
     "output_type": "stream",
     "text": [
      "Test: Loss: 0.8451 | Accuracy: 0.6471 (88/136)\n",
      "Epoch 70/100: training accuracy: 0.7115384615384616, test accuracy: 0.6470588235294118\n"
     ]
    },
    {
     "name": "stderr",
     "output_type": "stream",
     "text": [
      "Training: 100%|██████████| 9/9 [00:30<00:00,  3.34s/it, epoch=71, loss=0.7831, acc=72.31%, lr=0.000000]\n",
      "Testing: 100%|██████████| 3/3 [00:08<00:00,  2.73s/it, epoch=71, loss=0.8432, acc=64.71%]\n"
     ]
    },
    {
     "name": "stdout",
     "output_type": "stream",
     "text": [
      "Test: Loss: 0.8432 | Accuracy: 0.6471 (88/136)\n",
      "Epoch 71/100: training accuracy: 0.7230769230769231, test accuracy: 0.6470588235294118\n"
     ]
    },
    {
     "name": "stderr",
     "output_type": "stream",
     "text": [
      "Training: 100%|██████████| 9/9 [00:29<00:00,  3.30s/it, epoch=72, loss=0.7986, acc=70.38%, lr=0.000000]\n",
      "Testing: 100%|██████████| 3/3 [00:08<00:00,  2.72s/it, epoch=72, loss=0.8389, acc=64.71%]\n"
     ]
    },
    {
     "name": "stdout",
     "output_type": "stream",
     "text": [
      "Test: Loss: 0.8389 | Accuracy: 0.6471 (88/136)\n",
      "Epoch 72/100: training accuracy: 0.7038461538461539, test accuracy: 0.6470588235294118\n"
     ]
    },
    {
     "name": "stderr",
     "output_type": "stream",
     "text": [
      "Training: 100%|██████████| 9/9 [00:30<00:00,  3.44s/it, epoch=73, loss=0.8120, acc=70.00%, lr=0.000000]\n",
      "Testing: 100%|██████████| 3/3 [00:08<00:00,  2.74s/it, epoch=73, loss=0.8428, acc=64.71%]\n"
     ]
    },
    {
     "name": "stdout",
     "output_type": "stream",
     "text": [
      "Test: Loss: 0.8428 | Accuracy: 0.6471 (88/136)\n",
      "Epoch 73/100: training accuracy: 0.7, test accuracy: 0.6470588235294118\n"
     ]
    },
    {
     "name": "stderr",
     "output_type": "stream",
     "text": [
      "Training: 100%|██████████| 9/9 [00:30<00:00,  3.42s/it, epoch=74, loss=0.7953, acc=68.85%, lr=0.000000]\n",
      "Testing: 100%|██████████| 3/3 [00:08<00:00,  2.72s/it, epoch=74, loss=0.8435, acc=64.71%]\n"
     ]
    },
    {
     "name": "stdout",
     "output_type": "stream",
     "text": [
      "Test: Loss: 0.8435 | Accuracy: 0.6471 (88/136)\n",
      "Epoch 74/100: training accuracy: 0.6884615384615385, test accuracy: 0.6470588235294118\n"
     ]
    },
    {
     "name": "stderr",
     "output_type": "stream",
     "text": [
      "Training: 100%|██████████| 9/9 [00:30<00:00,  3.43s/it, epoch=75, loss=0.8030, acc=69.62%, lr=0.000000]\n",
      "Testing: 100%|██████████| 3/3 [00:08<00:00,  2.75s/it, epoch=75, loss=0.8442, acc=64.71%]\n"
     ]
    },
    {
     "name": "stdout",
     "output_type": "stream",
     "text": [
      "Test: Loss: 0.8442 | Accuracy: 0.6471 (88/136)\n",
      "Epoch 75/100: training accuracy: 0.6961538461538461, test accuracy: 0.6470588235294118\n"
     ]
    },
    {
     "name": "stderr",
     "output_type": "stream",
     "text": [
      "Training: 100%|██████████| 9/9 [00:39<00:00,  4.40s/it, epoch=76, loss=0.8089, acc=71.54%, lr=0.000000]\n",
      "Testing: 100%|██████████| 3/3 [00:11<00:00,  3.71s/it, epoch=76, loss=0.8442, acc=64.71%]\n"
     ]
    },
    {
     "name": "stdout",
     "output_type": "stream",
     "text": [
      "Test: Loss: 0.8442 | Accuracy: 0.6471 (88/136)\n",
      "Epoch 76/100: training accuracy: 0.7153846153846154, test accuracy: 0.6470588235294118\n"
     ]
    },
    {
     "name": "stderr",
     "output_type": "stream",
     "text": [
      "Training: 100%|██████████| 9/9 [00:38<00:00,  4.29s/it, epoch=77, loss=0.8014, acc=70.38%, lr=0.000000]\n",
      "Testing: 100%|██████████| 3/3 [00:09<00:00,  3.18s/it, epoch=77, loss=0.8410, acc=64.71%]\n"
     ]
    },
    {
     "name": "stdout",
     "output_type": "stream",
     "text": [
      "Test: Loss: 0.8410 | Accuracy: 0.6471 (88/136)\n",
      "Epoch 77/100: training accuracy: 0.7038461538461539, test accuracy: 0.6470588235294118\n"
     ]
    },
    {
     "name": "stderr",
     "output_type": "stream",
     "text": [
      "Training: 100%|██████████| 9/9 [00:34<00:00,  3.78s/it, epoch=78, loss=0.7776, acc=72.31%, lr=0.000000]\n",
      "Testing: 100%|██████████| 3/3 [00:08<00:00,  2.98s/it, epoch=78, loss=0.8432, acc=64.71%]\n"
     ]
    },
    {
     "name": "stdout",
     "output_type": "stream",
     "text": [
      "Test: Loss: 0.8432 | Accuracy: 0.6471 (88/136)\n",
      "Epoch 78/100: training accuracy: 0.7230769230769231, test accuracy: 0.6470588235294118\n"
     ]
    },
    {
     "name": "stderr",
     "output_type": "stream",
     "text": [
      "Training: 100%|██████████| 9/9 [00:32<00:00,  3.59s/it, epoch=79, loss=0.8117, acc=71.15%, lr=0.000000]\n",
      "Testing: 100%|██████████| 3/3 [00:08<00:00,  2.83s/it, epoch=79, loss=0.8424, acc=64.71%]\n"
     ]
    },
    {
     "name": "stdout",
     "output_type": "stream",
     "text": [
      "Test: Loss: 0.8424 | Accuracy: 0.6471 (88/136)\n",
      "Epoch 79/100: training accuracy: 0.7115384615384616, test accuracy: 0.6470588235294118\n"
     ]
    },
    {
     "name": "stderr",
     "output_type": "stream",
     "text": [
      "Training: 100%|██████████| 9/9 [00:30<00:00,  3.42s/it, epoch=80, loss=0.7961, acc=71.15%, lr=0.000000]\n",
      "Testing: 100%|██████████| 3/3 [00:08<00:00,  2.71s/it, epoch=80, loss=0.8418, acc=64.71%]\n"
     ]
    },
    {
     "name": "stdout",
     "output_type": "stream",
     "text": [
      "Test: Loss: 0.8418 | Accuracy: 0.6471 (88/136)\n",
      "Epoch 80/100: training accuracy: 0.7115384615384616, test accuracy: 0.6470588235294118\n"
     ]
    },
    {
     "name": "stderr",
     "output_type": "stream",
     "text": [
      "Training: 100%|██████████| 9/9 [00:30<00:00,  3.35s/it, epoch=81, loss=0.7938, acc=70.38%, lr=0.000000]\n",
      "Testing: 100%|██████████| 3/3 [00:08<00:00,  2.71s/it, epoch=81, loss=0.8381, acc=64.71%]\n"
     ]
    },
    {
     "name": "stdout",
     "output_type": "stream",
     "text": [
      "Test: Loss: 0.8381 | Accuracy: 0.6471 (88/136)\n",
      "Epoch 81/100: training accuracy: 0.7038461538461539, test accuracy: 0.6470588235294118\n"
     ]
    },
    {
     "name": "stderr",
     "output_type": "stream",
     "text": [
      "Training: 100%|██████████| 9/9 [00:31<00:00,  3.45s/it, epoch=82, loss=0.7847, acc=70.77%, lr=0.000000]\n",
      "Testing: 100%|██████████| 3/3 [00:07<00:00,  2.66s/it, epoch=82, loss=0.8396, acc=64.71%]\n"
     ]
    },
    {
     "name": "stdout",
     "output_type": "stream",
     "text": [
      "Test: Loss: 0.8396 | Accuracy: 0.6471 (88/136)\n",
      "Epoch 82/100: training accuracy: 0.7076923076923077, test accuracy: 0.6470588235294118\n"
     ]
    },
    {
     "name": "stderr",
     "output_type": "stream",
     "text": [
      "Training: 100%|██████████| 9/9 [00:29<00:00,  3.29s/it, epoch=83, loss=0.8050, acc=71.54%, lr=0.000000]\n",
      "Testing: 100%|██████████| 3/3 [00:08<00:00,  2.73s/it, epoch=83, loss=0.8426, acc=64.71%]\n"
     ]
    },
    {
     "name": "stdout",
     "output_type": "stream",
     "text": [
      "Test: Loss: 0.8426 | Accuracy: 0.6471 (88/136)\n",
      "Epoch 83/100: training accuracy: 0.7153846153846154, test accuracy: 0.6470588235294118\n"
     ]
    },
    {
     "name": "stderr",
     "output_type": "stream",
     "text": [
      "Training: 100%|██████████| 9/9 [00:29<00:00,  3.27s/it, epoch=84, loss=0.8003, acc=70.38%, lr=0.000000]\n",
      "Testing: 100%|██████████| 3/3 [00:08<00:00,  2.69s/it, epoch=84, loss=0.8397, acc=64.71%]\n"
     ]
    },
    {
     "name": "stdout",
     "output_type": "stream",
     "text": [
      "Test: Loss: 0.8397 | Accuracy: 0.6471 (88/136)\n",
      "Epoch 84/100: training accuracy: 0.7038461538461539, test accuracy: 0.6470588235294118\n"
     ]
    },
    {
     "name": "stderr",
     "output_type": "stream",
     "text": [
      "Training: 100%|██████████| 9/9 [00:29<00:00,  3.30s/it, epoch=85, loss=0.8097, acc=71.15%, lr=0.000000]\n",
      "Testing: 100%|██████████| 3/3 [00:08<00:00,  2.70s/it, epoch=85, loss=0.8414, acc=64.71%]\n"
     ]
    },
    {
     "name": "stdout",
     "output_type": "stream",
     "text": [
      "Test: Loss: 0.8414 | Accuracy: 0.6471 (88/136)\n",
      "Epoch 85/100: training accuracy: 0.7115384615384616, test accuracy: 0.6470588235294118\n"
     ]
    },
    {
     "name": "stderr",
     "output_type": "stream",
     "text": [
      "Training: 100%|██████████| 9/9 [00:29<00:00,  3.27s/it, epoch=86, loss=0.8116, acc=71.15%, lr=0.000000]\n",
      "Testing: 100%|██████████| 3/3 [00:08<00:00,  2.71s/it, epoch=86, loss=0.8452, acc=64.71%]\n"
     ]
    },
    {
     "name": "stdout",
     "output_type": "stream",
     "text": [
      "Test: Loss: 0.8452 | Accuracy: 0.6471 (88/136)\n",
      "Epoch 86/100: training accuracy: 0.7115384615384616, test accuracy: 0.6470588235294118\n"
     ]
    },
    {
     "name": "stderr",
     "output_type": "stream",
     "text": [
      "Training: 100%|██████████| 9/9 [00:34<00:00,  3.80s/it, epoch=87, loss=0.7962, acc=71.54%, lr=0.000000]\n",
      "Testing: 100%|██████████| 3/3 [00:11<00:00,  3.85s/it, epoch=87, loss=0.8408, acc=64.71%]\n"
     ]
    },
    {
     "name": "stdout",
     "output_type": "stream",
     "text": [
      "Test: Loss: 0.8408 | Accuracy: 0.6471 (88/136)\n",
      "Epoch 87/100: training accuracy: 0.7153846153846154, test accuracy: 0.6470588235294118\n"
     ]
    },
    {
     "name": "stderr",
     "output_type": "stream",
     "text": [
      "Training: 100%|██████████| 9/9 [00:38<00:00,  4.27s/it, epoch=88, loss=0.7956, acc=70.00%, lr=0.000000]\n",
      "Testing: 100%|██████████| 3/3 [00:09<00:00,  3.27s/it, epoch=88, loss=0.8430, acc=64.71%]\n"
     ]
    },
    {
     "name": "stdout",
     "output_type": "stream",
     "text": [
      "Test: Loss: 0.8430 | Accuracy: 0.6471 (88/136)\n",
      "Epoch 88/100: training accuracy: 0.7, test accuracy: 0.6470588235294118\n"
     ]
    },
    {
     "name": "stderr",
     "output_type": "stream",
     "text": [
      "Training: 100%|██████████| 9/9 [00:34<00:00,  3.85s/it, epoch=89, loss=0.8250, acc=70.77%, lr=0.000000]\n",
      "Testing: 100%|██████████| 3/3 [00:09<00:00,  3.05s/it, epoch=89, loss=0.8411, acc=63.24%]\n"
     ]
    },
    {
     "name": "stdout",
     "output_type": "stream",
     "text": [
      "Test: Loss: 0.8411 | Accuracy: 0.6324 (86/136)\n",
      "Epoch 89/100: training accuracy: 0.7076923076923077, test accuracy: 0.6323529411764706\n"
     ]
    },
    {
     "name": "stderr",
     "output_type": "stream",
     "text": [
      "Training: 100%|██████████| 9/9 [00:32<00:00,  3.57s/it, epoch=90, loss=0.7987, acc=71.92%, lr=0.000000]\n",
      "Testing: 100%|██████████| 3/3 [00:08<00:00,  2.93s/it, epoch=90, loss=0.8411, acc=63.24%]\n"
     ]
    },
    {
     "name": "stdout",
     "output_type": "stream",
     "text": [
      "Test: Loss: 0.8411 | Accuracy: 0.6324 (86/136)\n",
      "Epoch 90/100: training accuracy: 0.7192307692307692, test accuracy: 0.6323529411764706\n"
     ]
    },
    {
     "name": "stderr",
     "output_type": "stream",
     "text": [
      "Training: 100%|██████████| 9/9 [00:30<00:00,  3.41s/it, epoch=91, loss=0.8033, acc=71.92%, lr=0.000000]\n",
      "Testing: 100%|██████████| 3/3 [00:08<00:00,  2.75s/it, epoch=91, loss=0.8436, acc=63.24%]\n"
     ]
    },
    {
     "name": "stdout",
     "output_type": "stream",
     "text": [
      "Test: Loss: 0.8436 | Accuracy: 0.6324 (86/136)\n",
      "Epoch 91/100: training accuracy: 0.7192307692307692, test accuracy: 0.6323529411764706\n"
     ]
    },
    {
     "name": "stderr",
     "output_type": "stream",
     "text": [
      "Training: 100%|██████████| 9/9 [00:29<00:00,  3.33s/it, epoch=92, loss=0.8022, acc=70.77%, lr=0.000000]\n",
      "Testing: 100%|██████████| 3/3 [00:08<00:00,  2.69s/it, epoch=92, loss=0.8419, acc=64.71%]\n"
     ]
    },
    {
     "name": "stdout",
     "output_type": "stream",
     "text": [
      "Test: Loss: 0.8419 | Accuracy: 0.6471 (88/136)\n",
      "Epoch 92/100: training accuracy: 0.7076923076923077, test accuracy: 0.6470588235294118\n"
     ]
    },
    {
     "name": "stderr",
     "output_type": "stream",
     "text": [
      "Training: 100%|██████████| 9/9 [00:29<00:00,  3.23s/it, epoch=93, loss=0.8068, acc=71.54%, lr=0.000000]\n",
      "Testing: 100%|██████████| 3/3 [00:08<00:00,  2.70s/it, epoch=93, loss=0.8391, acc=63.24%]\n"
     ]
    },
    {
     "name": "stdout",
     "output_type": "stream",
     "text": [
      "Test: Loss: 0.8391 | Accuracy: 0.6324 (86/136)\n",
      "Epoch 93/100: training accuracy: 0.7153846153846154, test accuracy: 0.6323529411764706\n"
     ]
    },
    {
     "name": "stderr",
     "output_type": "stream",
     "text": [
      "Training: 100%|██████████| 9/9 [00:29<00:00,  3.26s/it, epoch=94, loss=0.8100, acc=71.92%, lr=0.000000]\n",
      "Testing: 100%|██████████| 3/3 [00:08<00:00,  2.69s/it, epoch=94, loss=0.8407, acc=64.71%]\n"
     ]
    },
    {
     "name": "stdout",
     "output_type": "stream",
     "text": [
      "Test: Loss: 0.8407 | Accuracy: 0.6471 (88/136)\n",
      "Epoch 94/100: training accuracy: 0.7192307692307692, test accuracy: 0.6470588235294118\n"
     ]
    },
    {
     "name": "stderr",
     "output_type": "stream",
     "text": [
      "Training: 100%|██████████| 9/9 [00:29<00:00,  3.27s/it, epoch=95, loss=0.8126, acc=71.15%, lr=0.000000]\n",
      "Testing: 100%|██████████| 3/3 [00:08<00:00,  2.69s/it, epoch=95, loss=0.8380, acc=64.71%]\n"
     ]
    },
    {
     "name": "stdout",
     "output_type": "stream",
     "text": [
      "Test: Loss: 0.8380 | Accuracy: 0.6471 (88/136)\n",
      "Epoch 95/100: training accuracy: 0.7115384615384616, test accuracy: 0.6470588235294118\n"
     ]
    },
    {
     "name": "stderr",
     "output_type": "stream",
     "text": [
      "Training: 100%|██████████| 9/9 [00:29<00:00,  3.28s/it, epoch=96, loss=0.7940, acc=71.15%, lr=0.000000]\n",
      "Testing: 100%|██████████| 3/3 [00:08<00:00,  2.70s/it, epoch=96, loss=0.8395, acc=64.71%]\n"
     ]
    },
    {
     "name": "stdout",
     "output_type": "stream",
     "text": [
      "Test: Loss: 0.8395 | Accuracy: 0.6471 (88/136)\n",
      "Epoch 96/100: training accuracy: 0.7115384615384616, test accuracy: 0.6470588235294118\n"
     ]
    },
    {
     "name": "stderr",
     "output_type": "stream",
     "text": [
      "Training: 100%|██████████| 9/9 [00:29<00:00,  3.26s/it, epoch=97, loss=0.8089, acc=70.77%, lr=0.000000]\n",
      "Testing: 100%|██████████| 3/3 [00:08<00:00,  2.71s/it, epoch=97, loss=0.8407, acc=64.71%]\n"
     ]
    },
    {
     "name": "stdout",
     "output_type": "stream",
     "text": [
      "Test: Loss: 0.8407 | Accuracy: 0.6471 (88/136)\n",
      "Epoch 97/100: training accuracy: 0.7076923076923077, test accuracy: 0.6470588235294118\n"
     ]
    },
    {
     "name": "stderr",
     "output_type": "stream",
     "text": [
      "Training: 100%|██████████| 9/9 [00:29<00:00,  3.28s/it, epoch=98, loss=0.8143, acc=71.15%, lr=0.000000]\n",
      "Testing: 100%|██████████| 3/3 [00:08<00:00,  2.69s/it, epoch=98, loss=0.8414, acc=64.71%]\n"
     ]
    },
    {
     "name": "stdout",
     "output_type": "stream",
     "text": [
      "Test: Loss: 0.8414 | Accuracy: 0.6471 (88/136)\n",
      "Epoch 98/100: training accuracy: 0.7115384615384616, test accuracy: 0.6470588235294118\n"
     ]
    },
    {
     "name": "stderr",
     "output_type": "stream",
     "text": [
      "Training: 100%|██████████| 9/9 [00:29<00:00,  3.28s/it, epoch=99, loss=0.7888, acc=71.15%, lr=0.000000]\n",
      "Testing: 100%|██████████| 3/3 [00:08<00:00,  2.72s/it, epoch=99, loss=0.8439, acc=64.71%]\n"
     ]
    },
    {
     "name": "stdout",
     "output_type": "stream",
     "text": [
      "Test: Loss: 0.8439 | Accuracy: 0.6471 (88/136)\n",
      "Epoch 99/100: training accuracy: 0.7115384615384616, test accuracy: 0.6470588235294118\n"
     ]
    },
    {
     "name": "stderr",
     "output_type": "stream",
     "text": [
      "Training: 100%|██████████| 9/9 [00:29<00:00,  3.28s/it, epoch=100, loss=0.7896, acc=69.62%, lr=0.000000]\n",
      "Testing: 100%|██████████| 3/3 [00:08<00:00,  2.73s/it, epoch=100, loss=0.8400, acc=63.24%]"
     ]
    },
    {
     "name": "stdout",
     "output_type": "stream",
     "text": [
      "Test: Loss: 0.8400 | Accuracy: 0.6324 (86/136)\n",
      "Epoch 100/100: training accuracy: 0.6961538461538461, test accuracy: 0.6323529411764706\n"
     ]
    },
    {
     "name": "stderr",
     "output_type": "stream",
     "text": [
      "\n"
     ]
    }
   ],
   "source": [
    "import torch.optim as optim\n",
    "from torch.optim import lr_scheduler\n",
    "\n",
    "optimizer = optim.Adam(\n",
    "    model.parameters(),\n",
    "    lr=lr,\n",
    "    weight_decay=5e-4\n",
    ")\n",
    "\n",
    "loss_fn = nn.CrossEntropyLoss()\n",
    "scheduler = lr_scheduler.ReduceLROnPlateau(optimizer, patience=2)\n",
    "\n",
    "train_loss_list = []\n",
    "test_loss_list = []\n",
    "train_acc_list = []\n",
    "test_acc_list = []\n",
    "\n",
    "for epoch in range(1, n_epochs+1):\n",
    "    training_loss, training_accuracy = train(model, train_loader, device, optimizer, loss_fn, epoch)\n",
    "    test_loss, test_accuracy = evaluate(model, test_loader, device, loss_fn, epoch)\n",
    "\n",
    "    train_loss_list.append(training_loss)\n",
    "    test_loss_list.append(test_loss)\n",
    "    train_acc_list.append(training_accuracy)\n",
    "    test_acc_list.append(test_accuracy)\n",
    "\n",
    "    scheduler.step(test_loss)\n",
    "\n",
    "    print(f\"Epoch {epoch}/{n_epochs}: training accuracy: {training_accuracy}, test accuracy: {test_accuracy}\")"
   ]
  },
  {
   "cell_type": "markdown",
   "id": "1bebf006",
   "metadata": {},
   "source": [
    "(2) 使用預訓練的ResNet模型"
   ]
  },
  {
   "cell_type": "code",
   "execution_count": 23,
   "id": "14d7b394",
   "metadata": {},
   "outputs": [
    {
     "name": "stderr",
     "output_type": "stream",
     "text": [
      "d:\\Python\\Python39\\lib\\site-packages\\torchvision\\models\\_utils.py:208: UserWarning: The parameter 'pretrained' is deprecated since 0.13 and may be removed in the future, please use 'weights' instead.\n",
      "  warnings.warn(\n",
      "d:\\Python\\Python39\\lib\\site-packages\\torchvision\\models\\_utils.py:223: UserWarning: Arguments other than a weight enum or `None` for 'weights' are deprecated since 0.13 and may be removed in the future. The current behavior is equivalent to passing `weights=ResNet18_Weights.IMAGENET1K_V1`. You can also use `weights=ResNet18_Weights.DEFAULT` to get the most up-to-date weights.\n",
      "  warnings.warn(msg)\n",
      "Training: 100%|██████████| 9/9 [00:36<00:00,  4.04s/it, epoch=1, loss=1.6732, acc=37.31%, lr=0.000300]\n",
      "Testing: 100%|██████████| 3/3 [00:10<00:00,  3.62s/it, epoch=1, loss=1.8653, acc=64.71%]\n"
     ]
    },
    {
     "name": "stdout",
     "output_type": "stream",
     "text": [
      "Test: Loss: 1.8653 | Accuracy: 0.6471 (88/136)\n",
      "Epoch 1/100: training accuracy: 0.3730769230769231, test accuracy: 0.6470588235294118\n"
     ]
    },
    {
     "name": "stderr",
     "output_type": "stream",
     "text": [
      "Training: 100%|██████████| 9/9 [00:38<00:00,  4.31s/it, epoch=2, loss=0.9274, acc=73.08%, lr=0.000300]\n",
      "Testing: 100%|██████████| 3/3 [00:09<00:00,  3.21s/it, epoch=2, loss=1.3728, acc=66.18%]\n"
     ]
    },
    {
     "name": "stdout",
     "output_type": "stream",
     "text": [
      "Test: Loss: 1.3728 | Accuracy: 0.6618 (90/136)\n",
      "Epoch 2/100: training accuracy: 0.7307692307692307, test accuracy: 0.6617647058823529\n"
     ]
    },
    {
     "name": "stderr",
     "output_type": "stream",
     "text": [
      "Training: 100%|██████████| 9/9 [00:35<00:00,  3.92s/it, epoch=3, loss=0.9386, acc=71.15%, lr=0.000300]\n",
      "Testing: 100%|██████████| 3/3 [00:09<00:00,  3.01s/it, epoch=3, loss=1.4010, acc=66.18%]\n"
     ]
    },
    {
     "name": "stdout",
     "output_type": "stream",
     "text": [
      "Test: Loss: 1.4010 | Accuracy: 0.6618 (90/136)\n",
      "Epoch 3/100: training accuracy: 0.7115384615384616, test accuracy: 0.6617647058823529\n"
     ]
    },
    {
     "name": "stderr",
     "output_type": "stream",
     "text": [
      "Training: 100%|██████████| 9/9 [00:33<00:00,  3.74s/it, epoch=4, loss=0.7835, acc=74.62%, lr=0.000300]\n",
      "Testing: 100%|██████████| 3/3 [00:08<00:00,  2.82s/it, epoch=4, loss=0.9874, acc=70.59%]\n"
     ]
    },
    {
     "name": "stdout",
     "output_type": "stream",
     "text": [
      "Test: Loss: 0.9874 | Accuracy: 0.7059 (96/136)\n",
      "Epoch 4/100: training accuracy: 0.7461538461538462, test accuracy: 0.7058823529411765\n"
     ]
    },
    {
     "name": "stderr",
     "output_type": "stream",
     "text": [
      "Training: 100%|██████████| 9/9 [00:31<00:00,  3.46s/it, epoch=5, loss=0.5946, acc=78.46%, lr=0.000300]\n",
      "Testing: 100%|██████████| 3/3 [00:08<00:00,  2.70s/it, epoch=5, loss=1.4821, acc=69.12%]\n"
     ]
    },
    {
     "name": "stdout",
     "output_type": "stream",
     "text": [
      "Test: Loss: 1.4821 | Accuracy: 0.6912 (94/136)\n",
      "Epoch 5/100: training accuracy: 0.7846153846153846, test accuracy: 0.6911764705882353\n"
     ]
    },
    {
     "name": "stderr",
     "output_type": "stream",
     "text": [
      "Training: 100%|██████████| 9/9 [00:31<00:00,  3.46s/it, epoch=6, loss=0.4543, acc=82.31%, lr=0.000300]\n",
      "Testing: 100%|██████████| 3/3 [00:08<00:00,  2.78s/it, epoch=6, loss=0.7446, acc=75.00%]\n"
     ]
    },
    {
     "name": "stdout",
     "output_type": "stream",
     "text": [
      "Test: Loss: 0.7446 | Accuracy: 0.7500 (102/136)\n",
      "Epoch 6/100: training accuracy: 0.823076923076923, test accuracy: 0.75\n"
     ]
    },
    {
     "name": "stderr",
     "output_type": "stream",
     "text": [
      "Training: 100%|██████████| 9/9 [00:31<00:00,  3.52s/it, epoch=7, loss=0.3484, acc=86.15%, lr=0.000300]\n",
      "Testing: 100%|██████████| 3/3 [00:08<00:00,  2.68s/it, epoch=7, loss=1.5736, acc=66.18%]\n"
     ]
    },
    {
     "name": "stdout",
     "output_type": "stream",
     "text": [
      "Test: Loss: 1.5736 | Accuracy: 0.6618 (90/136)\n",
      "Epoch 7/100: training accuracy: 0.8615384615384616, test accuracy: 0.6617647058823529\n"
     ]
    },
    {
     "name": "stderr",
     "output_type": "stream",
     "text": [
      "Training: 100%|██████████| 9/9 [00:30<00:00,  3.42s/it, epoch=8, loss=0.3257, acc=87.69%, lr=0.000300]\n",
      "Testing: 100%|██████████| 3/3 [00:08<00:00,  2.69s/it, epoch=8, loss=1.2795, acc=73.53%]\n"
     ]
    },
    {
     "name": "stdout",
     "output_type": "stream",
     "text": [
      "Test: Loss: 1.2795 | Accuracy: 0.7353 (100/136)\n",
      "Epoch 8/100: training accuracy: 0.8769230769230769, test accuracy: 0.7352941176470589\n"
     ]
    },
    {
     "name": "stderr",
     "output_type": "stream",
     "text": [
      "Training: 100%|██████████| 9/9 [00:30<00:00,  3.43s/it, epoch=9, loss=0.2461, acc=92.31%, lr=0.000300]\n",
      "Testing: 100%|██████████| 3/3 [00:08<00:00,  2.74s/it, epoch=9, loss=1.6348, acc=52.94%]\n"
     ]
    },
    {
     "name": "stdout",
     "output_type": "stream",
     "text": [
      "Test: Loss: 1.6348 | Accuracy: 0.5294 (72/136)\n",
      "Epoch 9/100: training accuracy: 0.9230769230769231, test accuracy: 0.5294117647058824\n"
     ]
    },
    {
     "name": "stderr",
     "output_type": "stream",
     "text": [
      "Training: 100%|██████████| 9/9 [00:30<00:00,  3.44s/it, epoch=10, loss=0.2351, acc=92.69%, lr=0.000030]\n",
      "Testing: 100%|██████████| 3/3 [00:07<00:00,  2.64s/it, epoch=10, loss=0.5511, acc=82.35%]\n"
     ]
    },
    {
     "name": "stdout",
     "output_type": "stream",
     "text": [
      "Test: Loss: 0.5511 | Accuracy: 0.8235 (112/136)\n",
      "Epoch 10/100: training accuracy: 0.926923076923077, test accuracy: 0.8235294117647058\n"
     ]
    },
    {
     "name": "stderr",
     "output_type": "stream",
     "text": [
      "Training: 100%|██████████| 9/9 [00:33<00:00,  3.76s/it, epoch=11, loss=0.1679, acc=94.62%, lr=0.000030]\n",
      "Testing: 100%|██████████| 3/3 [00:12<00:00,  4.05s/it, epoch=11, loss=0.3953, acc=83.82%]\n"
     ]
    },
    {
     "name": "stdout",
     "output_type": "stream",
     "text": [
      "Test: Loss: 0.3953 | Accuracy: 0.8382 (114/136)\n",
      "Epoch 11/100: training accuracy: 0.9461538461538461, test accuracy: 0.8382352941176471\n"
     ]
    },
    {
     "name": "stderr",
     "output_type": "stream",
     "text": [
      "Training: 100%|██████████| 9/9 [00:42<00:00,  4.67s/it, epoch=12, loss=0.1326, acc=97.31%, lr=0.000030] \n",
      "Testing: 100%|██████████| 3/3 [00:09<00:00,  3.33s/it, epoch=12, loss=0.4092, acc=86.76%]\n"
     ]
    },
    {
     "name": "stdout",
     "output_type": "stream",
     "text": [
      "Test: Loss: 0.4092 | Accuracy: 0.8676 (118/136)\n",
      "Epoch 12/100: training accuracy: 0.9730769230769231, test accuracy: 0.8676470588235294\n"
     ]
    },
    {
     "name": "stderr",
     "output_type": "stream",
     "text": [
      "Training: 100%|██████████| 9/9 [00:36<00:00,  4.01s/it, epoch=13, loss=0.1312, acc=95.77%, lr=0.000030]\n",
      "Testing: 100%|██████████| 3/3 [00:09<00:00,  3.03s/it, epoch=13, loss=0.3926, acc=86.76%]\n"
     ]
    },
    {
     "name": "stdout",
     "output_type": "stream",
     "text": [
      "Test: Loss: 0.3926 | Accuracy: 0.8676 (118/136)\n",
      "Epoch 13/100: training accuracy: 0.9576923076923077, test accuracy: 0.8676470588235294\n"
     ]
    },
    {
     "name": "stderr",
     "output_type": "stream",
     "text": [
      "Training: 100%|██████████| 9/9 [00:33<00:00,  3.75s/it, epoch=14, loss=0.1074, acc=96.92%, lr=0.000030]\n",
      "Testing: 100%|██████████| 3/3 [00:08<00:00,  2.87s/it, epoch=14, loss=0.5116, acc=82.35%]\n"
     ]
    },
    {
     "name": "stdout",
     "output_type": "stream",
     "text": [
      "Test: Loss: 0.5116 | Accuracy: 0.8235 (112/136)\n",
      "Epoch 14/100: training accuracy: 0.9692307692307692, test accuracy: 0.8235294117647058\n"
     ]
    },
    {
     "name": "stderr",
     "output_type": "stream",
     "text": [
      "Training: 100%|██████████| 9/9 [00:32<00:00,  3.57s/it, epoch=15, loss=0.0843, acc=98.46%, lr=0.000030] \n",
      "Testing: 100%|██████████| 3/3 [00:08<00:00,  2.74s/it, epoch=15, loss=0.4361, acc=85.29%]\n"
     ]
    },
    {
     "name": "stdout",
     "output_type": "stream",
     "text": [
      "Test: Loss: 0.4361 | Accuracy: 0.8529 (116/136)\n",
      "Epoch 15/100: training accuracy: 0.9846153846153847, test accuracy: 0.8529411764705882\n"
     ]
    },
    {
     "name": "stderr",
     "output_type": "stream",
     "text": [
      "Training: 100%|██████████| 9/9 [00:31<00:00,  3.45s/it, epoch=16, loss=0.0784, acc=97.69%, lr=0.000030]\n",
      "Testing: 100%|██████████| 3/3 [00:08<00:00,  2.72s/it, epoch=16, loss=0.3604, acc=86.76%]\n"
     ]
    },
    {
     "name": "stdout",
     "output_type": "stream",
     "text": [
      "Test: Loss: 0.3604 | Accuracy: 0.8676 (118/136)\n",
      "Epoch 16/100: training accuracy: 0.9769230769230769, test accuracy: 0.8676470588235294\n"
     ]
    },
    {
     "name": "stderr",
     "output_type": "stream",
     "text": [
      "Training: 100%|██████████| 9/9 [00:31<00:00,  3.48s/it, epoch=17, loss=0.0736, acc=98.85%, lr=0.000030] \n",
      "Testing: 100%|██████████| 3/3 [00:08<00:00,  2.72s/it, epoch=17, loss=0.4157, acc=83.82%]\n"
     ]
    },
    {
     "name": "stdout",
     "output_type": "stream",
     "text": [
      "Test: Loss: 0.4157 | Accuracy: 0.8382 (114/136)\n",
      "Epoch 17/100: training accuracy: 0.9884615384615385, test accuracy: 0.8382352941176471\n"
     ]
    },
    {
     "name": "stderr",
     "output_type": "stream",
     "text": [
      "Training: 100%|██████████| 9/9 [00:31<00:00,  3.45s/it, epoch=18, loss=0.0639, acc=99.23%, lr=0.000030] \n",
      "Testing: 100%|██████████| 3/3 [00:08<00:00,  2.70s/it, epoch=18, loss=0.4569, acc=83.82%]\n"
     ]
    },
    {
     "name": "stdout",
     "output_type": "stream",
     "text": [
      "Test: Loss: 0.4569 | Accuracy: 0.8382 (114/136)\n",
      "Epoch 18/100: training accuracy: 0.9923076923076923, test accuracy: 0.8382352941176471\n"
     ]
    },
    {
     "name": "stderr",
     "output_type": "stream",
     "text": [
      "Training: 100%|██████████| 9/9 [00:30<00:00,  3.35s/it, epoch=19, loss=0.0755, acc=98.46%, lr=0.000030] \n",
      "Testing: 100%|██████████| 3/3 [00:08<00:00,  2.75s/it, epoch=19, loss=0.3648, acc=85.29%]\n"
     ]
    },
    {
     "name": "stdout",
     "output_type": "stream",
     "text": [
      "Test: Loss: 0.3648 | Accuracy: 0.8529 (116/136)\n",
      "Epoch 19/100: training accuracy: 0.9846153846153847, test accuracy: 0.8529411764705882\n"
     ]
    },
    {
     "name": "stderr",
     "output_type": "stream",
     "text": [
      "Training: 100%|██████████| 9/9 [00:31<00:00,  3.52s/it, epoch=20, loss=0.0654, acc=98.85%, lr=0.000003] \n",
      "Testing: 100%|██████████| 3/3 [00:08<00:00,  2.72s/it, epoch=20, loss=0.3900, acc=83.82%]\n"
     ]
    },
    {
     "name": "stdout",
     "output_type": "stream",
     "text": [
      "Test: Loss: 0.3900 | Accuracy: 0.8382 (114/136)\n",
      "Epoch 20/100: training accuracy: 0.9884615384615385, test accuracy: 0.8382352941176471\n"
     ]
    },
    {
     "name": "stderr",
     "output_type": "stream",
     "text": [
      "Training: 100%|██████████| 9/9 [00:31<00:00,  3.55s/it, epoch=21, loss=0.0592, acc=98.46%, lr=0.000003]\n",
      "Testing: 100%|██████████| 3/3 [00:09<00:00,  3.15s/it, epoch=21, loss=0.3754, acc=85.29%]\n"
     ]
    },
    {
     "name": "stdout",
     "output_type": "stream",
     "text": [
      "Test: Loss: 0.3754 | Accuracy: 0.8529 (116/136)\n",
      "Epoch 21/100: training accuracy: 0.9846153846153847, test accuracy: 0.8529411764705882\n"
     ]
    },
    {
     "name": "stderr",
     "output_type": "stream",
     "text": [
      "Training: 100%|██████████| 9/9 [00:45<00:00,  5.01s/it, epoch=22, loss=0.0734, acc=98.08%, lr=0.000003]\n",
      "Testing: 100%|██████████| 3/3 [00:10<00:00,  3.38s/it, epoch=22, loss=0.3655, acc=86.76%]\n"
     ]
    },
    {
     "name": "stdout",
     "output_type": "stream",
     "text": [
      "Test: Loss: 0.3655 | Accuracy: 0.8676 (118/136)\n",
      "Epoch 22/100: training accuracy: 0.9807692307692307, test accuracy: 0.8676470588235294\n"
     ]
    },
    {
     "name": "stderr",
     "output_type": "stream",
     "text": [
      "Training: 100%|██████████| 9/9 [00:37<00:00,  4.18s/it, epoch=23, loss=0.0664, acc=97.69%, lr=0.000000]\n",
      "Testing: 100%|██████████| 3/3 [00:09<00:00,  3.09s/it, epoch=23, loss=0.3563, acc=88.24%]\n"
     ]
    },
    {
     "name": "stdout",
     "output_type": "stream",
     "text": [
      "Test: Loss: 0.3563 | Accuracy: 0.8824 (120/136)\n",
      "Epoch 23/100: training accuracy: 0.9769230769230769, test accuracy: 0.8823529411764706\n"
     ]
    },
    {
     "name": "stderr",
     "output_type": "stream",
     "text": [
      "Training: 100%|██████████| 9/9 [00:34<00:00,  3.87s/it, epoch=24, loss=0.0659, acc=98.46%, lr=0.000000] \n",
      "Testing: 100%|██████████| 3/3 [00:08<00:00,  2.90s/it, epoch=24, loss=0.3843, acc=85.29%]\n"
     ]
    },
    {
     "name": "stdout",
     "output_type": "stream",
     "text": [
      "Test: Loss: 0.3843 | Accuracy: 0.8529 (116/136)\n",
      "Epoch 24/100: training accuracy: 0.9846153846153847, test accuracy: 0.8529411764705882\n"
     ]
    },
    {
     "name": "stderr",
     "output_type": "stream",
     "text": [
      "Training: 100%|██████████| 9/9 [00:32<00:00,  3.62s/it, epoch=25, loss=0.0785, acc=98.08%, lr=0.000000] \n",
      "Testing: 100%|██████████| 3/3 [00:08<00:00,  2.76s/it, epoch=25, loss=0.4047, acc=83.82%]\n"
     ]
    },
    {
     "name": "stdout",
     "output_type": "stream",
     "text": [
      "Test: Loss: 0.4047 | Accuracy: 0.8382 (114/136)\n",
      "Epoch 25/100: training accuracy: 0.9807692307692307, test accuracy: 0.8382352941176471\n"
     ]
    },
    {
     "name": "stderr",
     "output_type": "stream",
     "text": [
      "Training: 100%|██████████| 9/9 [00:31<00:00,  3.54s/it, epoch=26, loss=0.0677, acc=98.85%, lr=0.000000]\n",
      "Testing: 100%|██████████| 3/3 [00:07<00:00,  2.64s/it, epoch=26, loss=0.3959, acc=83.82%]\n"
     ]
    },
    {
     "name": "stdout",
     "output_type": "stream",
     "text": [
      "Test: Loss: 0.3959 | Accuracy: 0.8382 (114/136)\n",
      "Epoch 26/100: training accuracy: 0.9884615384615385, test accuracy: 0.8382352941176471\n"
     ]
    },
    {
     "name": "stderr",
     "output_type": "stream",
     "text": [
      "Training: 100%|██████████| 9/9 [00:30<00:00,  3.40s/it, epoch=27, loss=0.0888, acc=97.69%, lr=0.000000] \n",
      "Testing: 100%|██████████| 3/3 [00:07<00:00,  2.66s/it, epoch=27, loss=0.3927, acc=83.82%]\n"
     ]
    },
    {
     "name": "stdout",
     "output_type": "stream",
     "text": [
      "Test: Loss: 0.3927 | Accuracy: 0.8382 (114/136)\n",
      "Epoch 27/100: training accuracy: 0.9769230769230769, test accuracy: 0.8382352941176471\n"
     ]
    },
    {
     "name": "stderr",
     "output_type": "stream",
     "text": [
      "Training: 100%|██████████| 9/9 [00:30<00:00,  3.37s/it, epoch=28, loss=0.0721, acc=98.85%, lr=0.000000] \n",
      "Testing: 100%|██████████| 3/3 [00:07<00:00,  2.67s/it, epoch=28, loss=0.4075, acc=80.88%]\n"
     ]
    },
    {
     "name": "stdout",
     "output_type": "stream",
     "text": [
      "Test: Loss: 0.4075 | Accuracy: 0.8088 (110/136)\n",
      "Epoch 28/100: training accuracy: 0.9884615384615385, test accuracy: 0.8088235294117647\n"
     ]
    },
    {
     "name": "stderr",
     "output_type": "stream",
     "text": [
      "Training: 100%|██████████| 9/9 [00:31<00:00,  3.50s/it, epoch=29, loss=0.0761, acc=98.46%, lr=0.000000]\n",
      "Testing: 100%|██████████| 3/3 [00:08<00:00,  2.68s/it, epoch=29, loss=0.4062, acc=83.82%]\n"
     ]
    },
    {
     "name": "stdout",
     "output_type": "stream",
     "text": [
      "Test: Loss: 0.4062 | Accuracy: 0.8382 (114/136)\n",
      "Epoch 29/100: training accuracy: 0.9846153846153847, test accuracy: 0.8382352941176471\n"
     ]
    },
    {
     "name": "stderr",
     "output_type": "stream",
     "text": [
      "Training: 100%|██████████| 9/9 [00:31<00:00,  3.46s/it, epoch=30, loss=0.0599, acc=99.23%, lr=0.000000] \n",
      "Testing: 100%|██████████| 3/3 [00:07<00:00,  2.67s/it, epoch=30, loss=0.3844, acc=83.82%]\n"
     ]
    },
    {
     "name": "stdout",
     "output_type": "stream",
     "text": [
      "Test: Loss: 0.3844 | Accuracy: 0.8382 (114/136)\n",
      "Epoch 30/100: training accuracy: 0.9923076923076923, test accuracy: 0.8382352941176471\n"
     ]
    },
    {
     "name": "stderr",
     "output_type": "stream",
     "text": [
      "Training: 100%|██████████| 9/9 [00:30<00:00,  3.43s/it, epoch=31, loss=0.0529, acc=99.62%, lr=0.000000] \n",
      "Testing: 100%|██████████| 3/3 [00:08<00:00,  2.70s/it, epoch=31, loss=0.3698, acc=85.29%]\n"
     ]
    },
    {
     "name": "stdout",
     "output_type": "stream",
     "text": [
      "Test: Loss: 0.3698 | Accuracy: 0.8529 (116/136)\n",
      "Epoch 31/100: training accuracy: 0.9961538461538462, test accuracy: 0.8529411764705882\n"
     ]
    },
    {
     "name": "stderr",
     "output_type": "stream",
     "text": [
      "Training: 100%|██████████| 9/9 [00:32<00:00,  3.63s/it, epoch=32, loss=0.0610, acc=99.23%, lr=0.000000] \n",
      "Testing: 100%|██████████| 3/3 [00:12<00:00,  4.06s/it, epoch=32, loss=0.3623, acc=88.24%]\n"
     ]
    },
    {
     "name": "stdout",
     "output_type": "stream",
     "text": [
      "Test: Loss: 0.3623 | Accuracy: 0.8824 (120/136)\n",
      "Epoch 32/100: training accuracy: 0.9923076923076923, test accuracy: 0.8823529411764706\n"
     ]
    },
    {
     "name": "stderr",
     "output_type": "stream",
     "text": [
      "Training: 100%|██████████| 9/9 [00:42<00:00,  4.69s/it, epoch=33, loss=0.0872, acc=96.92%, lr=0.000000]\n",
      "Testing: 100%|██████████| 3/3 [00:09<00:00,  3.30s/it, epoch=33, loss=0.3614, acc=85.29%]\n"
     ]
    },
    {
     "name": "stdout",
     "output_type": "stream",
     "text": [
      "Test: Loss: 0.3614 | Accuracy: 0.8529 (116/136)\n",
      "Epoch 33/100: training accuracy: 0.9692307692307692, test accuracy: 0.8529411764705882\n"
     ]
    },
    {
     "name": "stderr",
     "output_type": "stream",
     "text": [
      "Training: 100%|██████████| 9/9 [00:36<00:00,  4.05s/it, epoch=34, loss=0.0685, acc=98.85%, lr=0.000000] \n",
      "Testing: 100%|██████████| 3/3 [00:09<00:00,  3.03s/it, epoch=34, loss=0.3726, acc=85.29%]\n"
     ]
    },
    {
     "name": "stdout",
     "output_type": "stream",
     "text": [
      "Test: Loss: 0.3726 | Accuracy: 0.8529 (116/136)\n",
      "Epoch 34/100: training accuracy: 0.9884615384615385, test accuracy: 0.8529411764705882\n"
     ]
    },
    {
     "name": "stderr",
     "output_type": "stream",
     "text": [
      "Training: 100%|██████████| 9/9 [00:34<00:00,  3.78s/it, epoch=35, loss=0.0735, acc=97.69%, lr=0.000000] \n",
      "Testing: 100%|██████████| 3/3 [00:08<00:00,  2.88s/it, epoch=35, loss=0.3888, acc=83.82%]\n"
     ]
    },
    {
     "name": "stdout",
     "output_type": "stream",
     "text": [
      "Test: Loss: 0.3888 | Accuracy: 0.8382 (114/136)\n",
      "Epoch 35/100: training accuracy: 0.9769230769230769, test accuracy: 0.8382352941176471\n"
     ]
    },
    {
     "name": "stderr",
     "output_type": "stream",
     "text": [
      "Training: 100%|██████████| 9/9 [00:32<00:00,  3.65s/it, epoch=36, loss=0.0850, acc=98.08%, lr=0.000000]\n",
      "Testing: 100%|██████████| 3/3 [00:08<00:00,  2.71s/it, epoch=36, loss=0.3646, acc=85.29%]\n"
     ]
    },
    {
     "name": "stdout",
     "output_type": "stream",
     "text": [
      "Test: Loss: 0.3646 | Accuracy: 0.8529 (116/136)\n",
      "Epoch 36/100: training accuracy: 0.9807692307692307, test accuracy: 0.8529411764705882\n"
     ]
    },
    {
     "name": "stderr",
     "output_type": "stream",
     "text": [
      "Training: 100%|██████████| 9/9 [00:32<00:00,  3.56s/it, epoch=37, loss=0.0908, acc=98.08%, lr=0.000000]\n",
      "Testing: 100%|██████████| 3/3 [00:08<00:00,  2.74s/it, epoch=37, loss=0.3826, acc=85.29%]\n"
     ]
    },
    {
     "name": "stdout",
     "output_type": "stream",
     "text": [
      "Test: Loss: 0.3826 | Accuracy: 0.8529 (116/136)\n",
      "Epoch 37/100: training accuracy: 0.9807692307692307, test accuracy: 0.8529411764705882\n"
     ]
    },
    {
     "name": "stderr",
     "output_type": "stream",
     "text": [
      "Training: 100%|██████████| 9/9 [00:31<00:00,  3.46s/it, epoch=38, loss=0.0844, acc=97.69%, lr=0.000000]\n",
      "Testing: 100%|██████████| 3/3 [00:08<00:00,  2.73s/it, epoch=38, loss=0.3990, acc=82.35%]\n"
     ]
    },
    {
     "name": "stdout",
     "output_type": "stream",
     "text": [
      "Test: Loss: 0.3990 | Accuracy: 0.8235 (112/136)\n",
      "Epoch 38/100: training accuracy: 0.9769230769230769, test accuracy: 0.8235294117647058\n"
     ]
    },
    {
     "name": "stderr",
     "output_type": "stream",
     "text": [
      "Training: 100%|██████████| 9/9 [00:31<00:00,  3.55s/it, epoch=39, loss=0.0709, acc=98.08%, lr=0.000000] \n",
      "Testing: 100%|██████████| 3/3 [00:08<00:00,  2.72s/it, epoch=39, loss=0.3689, acc=85.29%]\n"
     ]
    },
    {
     "name": "stdout",
     "output_type": "stream",
     "text": [
      "Test: Loss: 0.3689 | Accuracy: 0.8529 (116/136)\n",
      "Epoch 39/100: training accuracy: 0.9807692307692307, test accuracy: 0.8529411764705882\n"
     ]
    },
    {
     "name": "stderr",
     "output_type": "stream",
     "text": [
      "Training: 100%|██████████| 9/9 [00:31<00:00,  3.45s/it, epoch=40, loss=0.0542, acc=100.00%, lr=0.000000]\n",
      "Testing: 100%|██████████| 3/3 [00:08<00:00,  2.69s/it, epoch=40, loss=0.3756, acc=86.76%]\n"
     ]
    },
    {
     "name": "stdout",
     "output_type": "stream",
     "text": [
      "Test: Loss: 0.3756 | Accuracy: 0.8676 (118/136)\n",
      "Epoch 40/100: training accuracy: 1.0, test accuracy: 0.8676470588235294\n"
     ]
    },
    {
     "name": "stderr",
     "output_type": "stream",
     "text": [
      "Training: 100%|██████████| 9/9 [00:31<00:00,  3.50s/it, epoch=41, loss=0.0812, acc=97.69%, lr=0.000000]\n",
      "Testing: 100%|██████████| 3/3 [00:08<00:00,  2.69s/it, epoch=41, loss=0.3648, acc=86.76%]\n"
     ]
    },
    {
     "name": "stdout",
     "output_type": "stream",
     "text": [
      "Test: Loss: 0.3648 | Accuracy: 0.8676 (118/136)\n",
      "Epoch 41/100: training accuracy: 0.9769230769230769, test accuracy: 0.8676470588235294\n"
     ]
    },
    {
     "name": "stderr",
     "output_type": "stream",
     "text": [
      "Training: 100%|██████████| 9/9 [00:32<00:00,  3.62s/it, epoch=42, loss=0.0900, acc=96.92%, lr=0.000000]\n",
      "Testing: 100%|██████████| 3/3 [00:14<00:00,  4.70s/it, epoch=42, loss=0.3741, acc=88.24%]\n"
     ]
    },
    {
     "name": "stdout",
     "output_type": "stream",
     "text": [
      "Test: Loss: 0.3741 | Accuracy: 0.8824 (120/136)\n",
      "Epoch 42/100: training accuracy: 0.9692307692307692, test accuracy: 0.8823529411764706\n"
     ]
    },
    {
     "name": "stderr",
     "output_type": "stream",
     "text": [
      "Training: 100%|██████████| 9/9 [00:41<00:00,  4.62s/it, epoch=43, loss=0.0881, acc=98.08%, lr=0.000000] \n",
      "Testing: 100%|██████████| 3/3 [00:09<00:00,  3.32s/it, epoch=43, loss=0.3916, acc=83.82%]\n"
     ]
    },
    {
     "name": "stdout",
     "output_type": "stream",
     "text": [
      "Test: Loss: 0.3916 | Accuracy: 0.8382 (114/136)\n",
      "Epoch 43/100: training accuracy: 0.9807692307692307, test accuracy: 0.8382352941176471\n"
     ]
    },
    {
     "name": "stderr",
     "output_type": "stream",
     "text": [
      "Training: 100%|██████████| 9/9 [00:36<00:00,  4.06s/it, epoch=44, loss=0.0683, acc=98.46%, lr=0.000000] \n",
      "Testing: 100%|██████████| 3/3 [00:09<00:00,  3.02s/it, epoch=44, loss=0.3793, acc=83.82%]\n"
     ]
    },
    {
     "name": "stdout",
     "output_type": "stream",
     "text": [
      "Test: Loss: 0.3793 | Accuracy: 0.8382 (114/136)\n",
      "Epoch 44/100: training accuracy: 0.9846153846153847, test accuracy: 0.8382352941176471\n"
     ]
    },
    {
     "name": "stderr",
     "output_type": "stream",
     "text": [
      "Training: 100%|██████████| 9/9 [00:33<00:00,  3.74s/it, epoch=45, loss=0.0660, acc=98.85%, lr=0.000000] \n",
      "Testing: 100%|██████████| 3/3 [00:08<00:00,  2.87s/it, epoch=45, loss=0.3693, acc=85.29%]\n"
     ]
    },
    {
     "name": "stdout",
     "output_type": "stream",
     "text": [
      "Test: Loss: 0.3693 | Accuracy: 0.8529 (116/136)\n",
      "Epoch 45/100: training accuracy: 0.9884615384615385, test accuracy: 0.8529411764705882\n"
     ]
    },
    {
     "name": "stderr",
     "output_type": "stream",
     "text": [
      "Training: 100%|██████████| 9/9 [00:32<00:00,  3.56s/it, epoch=46, loss=0.0988, acc=96.92%, lr=0.000000] \n",
      "Testing: 100%|██████████| 3/3 [00:08<00:00,  2.74s/it, epoch=46, loss=0.3713, acc=85.29%]\n"
     ]
    },
    {
     "name": "stdout",
     "output_type": "stream",
     "text": [
      "Test: Loss: 0.3713 | Accuracy: 0.8529 (116/136)\n",
      "Epoch 46/100: training accuracy: 0.9692307692307692, test accuracy: 0.8529411764705882\n"
     ]
    },
    {
     "name": "stderr",
     "output_type": "stream",
     "text": [
      "Training: 100%|██████████| 9/9 [00:32<00:00,  3.60s/it, epoch=47, loss=0.0646, acc=98.46%, lr=0.000000] \n",
      "Testing: 100%|██████████| 3/3 [00:08<00:00,  2.72s/it, epoch=47, loss=0.3570, acc=86.76%]\n"
     ]
    },
    {
     "name": "stdout",
     "output_type": "stream",
     "text": [
      "Test: Loss: 0.3570 | Accuracy: 0.8676 (118/136)\n",
      "Epoch 47/100: training accuracy: 0.9846153846153847, test accuracy: 0.8676470588235294\n"
     ]
    },
    {
     "name": "stderr",
     "output_type": "stream",
     "text": [
      "Training: 100%|██████████| 9/9 [00:31<00:00,  3.53s/it, epoch=48, loss=0.0512, acc=98.85%, lr=0.000000] \n",
      "Testing: 100%|██████████| 3/3 [00:08<00:00,  2.72s/it, epoch=48, loss=0.3669, acc=83.82%]\n"
     ]
    },
    {
     "name": "stdout",
     "output_type": "stream",
     "text": [
      "Test: Loss: 0.3669 | Accuracy: 0.8382 (114/136)\n",
      "Epoch 48/100: training accuracy: 0.9884615384615385, test accuracy: 0.8382352941176471\n"
     ]
    },
    {
     "name": "stderr",
     "output_type": "stream",
     "text": [
      "Training: 100%|██████████| 9/9 [00:31<00:00,  3.53s/it, epoch=49, loss=0.0818, acc=98.85%, lr=0.000000] \n",
      "Testing: 100%|██████████| 3/3 [00:08<00:00,  2.74s/it, epoch=49, loss=0.3713, acc=83.82%]\n"
     ]
    },
    {
     "name": "stdout",
     "output_type": "stream",
     "text": [
      "Test: Loss: 0.3713 | Accuracy: 0.8382 (114/136)\n",
      "Epoch 49/100: training accuracy: 0.9884615384615385, test accuracy: 0.8382352941176471\n"
     ]
    },
    {
     "name": "stderr",
     "output_type": "stream",
     "text": [
      "Training: 100%|██████████| 9/9 [00:31<00:00,  3.54s/it, epoch=50, loss=0.0712, acc=98.46%, lr=0.000000] \n",
      "Testing: 100%|██████████| 3/3 [00:08<00:00,  2.77s/it, epoch=50, loss=0.3912, acc=83.82%]\n"
     ]
    },
    {
     "name": "stdout",
     "output_type": "stream",
     "text": [
      "Test: Loss: 0.3912 | Accuracy: 0.8382 (114/136)\n",
      "Epoch 50/100: training accuracy: 0.9846153846153847, test accuracy: 0.8382352941176471\n"
     ]
    },
    {
     "name": "stderr",
     "output_type": "stream",
     "text": [
      "Training: 100%|██████████| 9/9 [00:31<00:00,  3.52s/it, epoch=51, loss=0.0686, acc=98.85%, lr=0.000000] \n",
      "Testing: 100%|██████████| 3/3 [00:08<00:00,  2.73s/it, epoch=51, loss=0.4029, acc=83.82%]\n"
     ]
    },
    {
     "name": "stdout",
     "output_type": "stream",
     "text": [
      "Test: Loss: 0.4029 | Accuracy: 0.8382 (114/136)\n",
      "Epoch 51/100: training accuracy: 0.9884615384615385, test accuracy: 0.8382352941176471\n"
     ]
    },
    {
     "name": "stderr",
     "output_type": "stream",
     "text": [
      "Training: 100%|██████████| 9/9 [00:31<00:00,  3.52s/it, epoch=52, loss=0.0662, acc=99.23%, lr=0.000000] \n",
      "Testing: 100%|██████████| 3/3 [00:09<00:00,  3.21s/it, epoch=52, loss=0.3748, acc=83.82%]\n"
     ]
    },
    {
     "name": "stdout",
     "output_type": "stream",
     "text": [
      "Test: Loss: 0.3748 | Accuracy: 0.8382 (114/136)\n",
      "Epoch 52/100: training accuracy: 0.9923076923076923, test accuracy: 0.8382352941176471\n"
     ]
    },
    {
     "name": "stderr",
     "output_type": "stream",
     "text": [
      "Training: 100%|██████████| 9/9 [00:31<00:00,  3.49s/it, epoch=53, loss=0.0699, acc=98.85%, lr=0.000000] \n",
      "Testing: 100%|██████████| 3/3 [00:12<00:00,  4.23s/it, epoch=53, loss=0.3783, acc=85.29%]\n"
     ]
    },
    {
     "name": "stdout",
     "output_type": "stream",
     "text": [
      "Test: Loss: 0.3783 | Accuracy: 0.8529 (116/136)\n",
      "Epoch 53/100: training accuracy: 0.9884615384615385, test accuracy: 0.8529411764705882\n"
     ]
    },
    {
     "name": "stderr",
     "output_type": "stream",
     "text": [
      "Training: 100%|██████████| 9/9 [00:42<00:00,  4.69s/it, epoch=54, loss=0.0609, acc=99.23%, lr=0.000000] \n",
      "Testing: 100%|██████████| 3/3 [00:10<00:00,  3.35s/it, epoch=54, loss=0.3751, acc=85.29%]\n"
     ]
    },
    {
     "name": "stdout",
     "output_type": "stream",
     "text": [
      "Test: Loss: 0.3751 | Accuracy: 0.8529 (116/136)\n",
      "Epoch 54/100: training accuracy: 0.9923076923076923, test accuracy: 0.8529411764705882\n"
     ]
    },
    {
     "name": "stderr",
     "output_type": "stream",
     "text": [
      "Training: 100%|██████████| 9/9 [00:37<00:00,  4.12s/it, epoch=55, loss=0.0741, acc=98.08%, lr=0.000000] \n",
      "Testing: 100%|██████████| 3/3 [00:09<00:00,  3.03s/it, epoch=55, loss=0.4052, acc=82.35%]\n"
     ]
    },
    {
     "name": "stdout",
     "output_type": "stream",
     "text": [
      "Test: Loss: 0.4052 | Accuracy: 0.8235 (112/136)\n",
      "Epoch 55/100: training accuracy: 0.9807692307692307, test accuracy: 0.8235294117647058\n"
     ]
    },
    {
     "name": "stderr",
     "output_type": "stream",
     "text": [
      "Training: 100%|██████████| 9/9 [00:34<00:00,  3.81s/it, epoch=56, loss=0.0726, acc=98.46%, lr=0.000000] \n",
      "Testing: 100%|██████████| 3/3 [00:08<00:00,  2.93s/it, epoch=56, loss=0.4352, acc=82.35%]\n"
     ]
    },
    {
     "name": "stdout",
     "output_type": "stream",
     "text": [
      "Test: Loss: 0.4352 | Accuracy: 0.8235 (112/136)\n",
      "Epoch 56/100: training accuracy: 0.9846153846153847, test accuracy: 0.8235294117647058\n"
     ]
    },
    {
     "name": "stderr",
     "output_type": "stream",
     "text": [
      "Training: 100%|██████████| 9/9 [00:32<00:00,  3.62s/it, epoch=57, loss=0.0558, acc=98.85%, lr=0.000000] \n",
      "Testing: 100%|██████████| 3/3 [00:08<00:00,  2.77s/it, epoch=57, loss=0.4088, acc=82.35%]\n"
     ]
    },
    {
     "name": "stdout",
     "output_type": "stream",
     "text": [
      "Test: Loss: 0.4088 | Accuracy: 0.8235 (112/136)\n",
      "Epoch 57/100: training accuracy: 0.9884615384615385, test accuracy: 0.8235294117647058\n"
     ]
    },
    {
     "name": "stderr",
     "output_type": "stream",
     "text": [
      "Training: 100%|██████████| 9/9 [00:31<00:00,  3.52s/it, epoch=58, loss=0.0738, acc=98.08%, lr=0.000000] \n",
      "Testing: 100%|██████████| 3/3 [00:08<00:00,  2.75s/it, epoch=58, loss=0.3736, acc=83.82%]\n"
     ]
    },
    {
     "name": "stdout",
     "output_type": "stream",
     "text": [
      "Test: Loss: 0.3736 | Accuracy: 0.8382 (114/136)\n",
      "Epoch 58/100: training accuracy: 0.9807692307692307, test accuracy: 0.8382352941176471\n"
     ]
    },
    {
     "name": "stderr",
     "output_type": "stream",
     "text": [
      "Training: 100%|██████████| 9/9 [00:31<00:00,  3.49s/it, epoch=59, loss=0.0590, acc=98.46%, lr=0.000000] \n",
      "Testing: 100%|██████████| 3/3 [00:07<00:00,  2.64s/it, epoch=59, loss=0.3627, acc=85.29%]\n"
     ]
    },
    {
     "name": "stdout",
     "output_type": "stream",
     "text": [
      "Test: Loss: 0.3627 | Accuracy: 0.8529 (116/136)\n",
      "Epoch 59/100: training accuracy: 0.9846153846153847, test accuracy: 0.8529411764705882\n"
     ]
    },
    {
     "name": "stderr",
     "output_type": "stream",
     "text": [
      "Training: 100%|██████████| 9/9 [00:31<00:00,  3.49s/it, epoch=60, loss=0.0650, acc=98.85%, lr=0.000000] \n",
      "Testing: 100%|██████████| 3/3 [00:07<00:00,  2.66s/it, epoch=60, loss=0.3782, acc=83.82%]\n"
     ]
    },
    {
     "name": "stdout",
     "output_type": "stream",
     "text": [
      "Test: Loss: 0.3782 | Accuracy: 0.8382 (114/136)\n",
      "Epoch 60/100: training accuracy: 0.9884615384615385, test accuracy: 0.8382352941176471\n"
     ]
    },
    {
     "name": "stderr",
     "output_type": "stream",
     "text": [
      "Training: 100%|██████████| 9/9 [00:31<00:00,  3.47s/it, epoch=61, loss=0.0542, acc=99.62%, lr=0.000000] \n",
      "Testing: 100%|██████████| 3/3 [00:07<00:00,  2.64s/it, epoch=61, loss=0.3600, acc=85.29%]\n"
     ]
    },
    {
     "name": "stdout",
     "output_type": "stream",
     "text": [
      "Test: Loss: 0.3600 | Accuracy: 0.8529 (116/136)\n",
      "Epoch 61/100: training accuracy: 0.9961538461538462, test accuracy: 0.8529411764705882\n"
     ]
    },
    {
     "name": "stderr",
     "output_type": "stream",
     "text": [
      "Training: 100%|██████████| 9/9 [00:30<00:00,  3.39s/it, epoch=62, loss=0.0813, acc=98.85%, lr=0.000000] \n",
      "Testing: 100%|██████████| 3/3 [00:08<00:00,  2.75s/it, epoch=62, loss=0.3891, acc=82.35%]\n"
     ]
    },
    {
     "name": "stdout",
     "output_type": "stream",
     "text": [
      "Test: Loss: 0.3891 | Accuracy: 0.8235 (112/136)\n",
      "Epoch 62/100: training accuracy: 0.9884615384615385, test accuracy: 0.8235294117647058\n"
     ]
    },
    {
     "name": "stderr",
     "output_type": "stream",
     "text": [
      "Training: 100%|██████████| 9/9 [00:30<00:00,  3.39s/it, epoch=63, loss=0.0828, acc=97.69%, lr=0.000000]\n",
      "Testing: 100%|██████████| 3/3 [00:10<00:00,  3.63s/it, epoch=63, loss=0.3883, acc=83.82%]\n"
     ]
    },
    {
     "name": "stdout",
     "output_type": "stream",
     "text": [
      "Test: Loss: 0.3883 | Accuracy: 0.8382 (114/136)\n",
      "Epoch 63/100: training accuracy: 0.9769230769230769, test accuracy: 0.8382352941176471\n"
     ]
    },
    {
     "name": "stderr",
     "output_type": "stream",
     "text": [
      "Training: 100%|██████████| 9/9 [00:42<00:00,  4.76s/it, epoch=64, loss=0.0637, acc=98.85%, lr=0.000000] \n",
      "Testing: 100%|██████████| 3/3 [00:10<00:00,  3.38s/it, epoch=64, loss=0.3711, acc=85.29%]\n"
     ]
    },
    {
     "name": "stdout",
     "output_type": "stream",
     "text": [
      "Test: Loss: 0.3711 | Accuracy: 0.8529 (116/136)\n",
      "Epoch 64/100: training accuracy: 0.9884615384615385, test accuracy: 0.8529411764705882\n"
     ]
    },
    {
     "name": "stderr",
     "output_type": "stream",
     "text": [
      "Training: 100%|██████████| 9/9 [00:36<00:00,  4.01s/it, epoch=65, loss=0.0707, acc=98.08%, lr=0.000000] \n",
      "Testing: 100%|██████████| 3/3 [00:09<00:00,  3.10s/it, epoch=65, loss=0.3654, acc=85.29%]\n"
     ]
    },
    {
     "name": "stdout",
     "output_type": "stream",
     "text": [
      "Test: Loss: 0.3654 | Accuracy: 0.8529 (116/136)\n",
      "Epoch 65/100: training accuracy: 0.9807692307692307, test accuracy: 0.8529411764705882\n"
     ]
    },
    {
     "name": "stderr",
     "output_type": "stream",
     "text": [
      "Training: 100%|██████████| 9/9 [00:34<00:00,  3.85s/it, epoch=66, loss=0.0745, acc=98.85%, lr=0.000000] \n",
      "Testing: 100%|██████████| 3/3 [00:08<00:00,  2.91s/it, epoch=66, loss=0.3714, acc=85.29%]\n"
     ]
    },
    {
     "name": "stdout",
     "output_type": "stream",
     "text": [
      "Test: Loss: 0.3714 | Accuracy: 0.8529 (116/136)\n",
      "Epoch 66/100: training accuracy: 0.9884615384615385, test accuracy: 0.8529411764705882\n"
     ]
    },
    {
     "name": "stderr",
     "output_type": "stream",
     "text": [
      "Training: 100%|██████████| 9/9 [00:33<00:00,  3.69s/it, epoch=67, loss=0.0609, acc=98.46%, lr=0.000000]\n",
      "Testing: 100%|██████████| 3/3 [00:08<00:00,  2.72s/it, epoch=67, loss=0.3899, acc=86.76%]\n"
     ]
    },
    {
     "name": "stdout",
     "output_type": "stream",
     "text": [
      "Test: Loss: 0.3899 | Accuracy: 0.8676 (118/136)\n",
      "Epoch 67/100: training accuracy: 0.9846153846153847, test accuracy: 0.8676470588235294\n"
     ]
    },
    {
     "name": "stderr",
     "output_type": "stream",
     "text": [
      "Training: 100%|██████████| 9/9 [00:30<00:00,  3.39s/it, epoch=68, loss=0.0955, acc=97.31%, lr=0.000000]\n",
      "Testing: 100%|██████████| 3/3 [00:08<00:00,  2.70s/it, epoch=68, loss=0.3715, acc=85.29%]\n"
     ]
    },
    {
     "name": "stdout",
     "output_type": "stream",
     "text": [
      "Test: Loss: 0.3715 | Accuracy: 0.8529 (116/136)\n",
      "Epoch 68/100: training accuracy: 0.9730769230769231, test accuracy: 0.8529411764705882\n"
     ]
    },
    {
     "name": "stderr",
     "output_type": "stream",
     "text": [
      "Training: 100%|██████████| 9/9 [00:30<00:00,  3.41s/it, epoch=69, loss=0.0700, acc=98.46%, lr=0.000000]\n",
      "Testing: 100%|██████████| 3/3 [00:08<00:00,  2.67s/it, epoch=69, loss=0.3709, acc=83.82%]\n"
     ]
    },
    {
     "name": "stdout",
     "output_type": "stream",
     "text": [
      "Test: Loss: 0.3709 | Accuracy: 0.8382 (114/136)\n",
      "Epoch 69/100: training accuracy: 0.9846153846153847, test accuracy: 0.8382352941176471\n"
     ]
    },
    {
     "name": "stderr",
     "output_type": "stream",
     "text": [
      "Training: 100%|██████████| 9/9 [00:30<00:00,  3.36s/it, epoch=70, loss=0.1112, acc=96.54%, lr=0.000000] \n",
      "Testing: 100%|██████████| 3/3 [00:07<00:00,  2.65s/it, epoch=70, loss=0.3611, acc=85.29%]\n"
     ]
    },
    {
     "name": "stdout",
     "output_type": "stream",
     "text": [
      "Test: Loss: 0.3611 | Accuracy: 0.8529 (116/136)\n",
      "Epoch 70/100: training accuracy: 0.9653846153846154, test accuracy: 0.8529411764705882\n"
     ]
    },
    {
     "name": "stderr",
     "output_type": "stream",
     "text": [
      "Training: 100%|██████████| 9/9 [00:32<00:00,  3.56s/it, epoch=71, loss=0.0705, acc=98.46%, lr=0.000000] \n",
      "Testing: 100%|██████████| 3/3 [00:08<00:00,  2.69s/it, epoch=71, loss=0.3796, acc=83.82%]\n"
     ]
    },
    {
     "name": "stdout",
     "output_type": "stream",
     "text": [
      "Test: Loss: 0.3796 | Accuracy: 0.8382 (114/136)\n",
      "Epoch 71/100: training accuracy: 0.9846153846153847, test accuracy: 0.8382352941176471\n"
     ]
    },
    {
     "name": "stderr",
     "output_type": "stream",
     "text": [
      "Training: 100%|██████████| 9/9 [00:31<00:00,  3.54s/it, epoch=72, loss=0.0591, acc=98.85%, lr=0.000000] \n",
      "Testing: 100%|██████████| 3/3 [00:12<00:00,  4.25s/it, epoch=72, loss=0.4004, acc=82.35%]\n"
     ]
    },
    {
     "name": "stdout",
     "output_type": "stream",
     "text": [
      "Test: Loss: 0.4004 | Accuracy: 0.8235 (112/136)\n",
      "Epoch 72/100: training accuracy: 0.9884615384615385, test accuracy: 0.8235294117647058\n"
     ]
    },
    {
     "name": "stderr",
     "output_type": "stream",
     "text": [
      "Training: 100%|██████████| 9/9 [00:42<00:00,  4.75s/it, epoch=73, loss=0.0784, acc=98.46%, lr=0.000000] \n",
      "Testing: 100%|██████████| 3/3 [00:10<00:00,  3.38s/it, epoch=73, loss=0.3936, acc=83.82%]\n"
     ]
    },
    {
     "name": "stdout",
     "output_type": "stream",
     "text": [
      "Test: Loss: 0.3936 | Accuracy: 0.8382 (114/136)\n",
      "Epoch 73/100: training accuracy: 0.9846153846153847, test accuracy: 0.8382352941176471\n"
     ]
    },
    {
     "name": "stderr",
     "output_type": "stream",
     "text": [
      "Training: 100%|██████████| 9/9 [00:36<00:00,  4.01s/it, epoch=74, loss=0.0621, acc=99.23%, lr=0.000000] \n",
      "Testing: 100%|██████████| 3/3 [00:09<00:00,  3.12s/it, epoch=74, loss=0.3638, acc=85.29%]\n"
     ]
    },
    {
     "name": "stdout",
     "output_type": "stream",
     "text": [
      "Test: Loss: 0.3638 | Accuracy: 0.8529 (116/136)\n",
      "Epoch 74/100: training accuracy: 0.9923076923076923, test accuracy: 0.8529411764705882\n"
     ]
    },
    {
     "name": "stderr",
     "output_type": "stream",
     "text": [
      "Training: 100%|██████████| 9/9 [00:34<00:00,  3.87s/it, epoch=75, loss=0.0654, acc=98.08%, lr=0.000000] \n",
      "Testing: 100%|██████████| 3/3 [00:08<00:00,  2.87s/it, epoch=75, loss=0.3752, acc=85.29%]\n"
     ]
    },
    {
     "name": "stdout",
     "output_type": "stream",
     "text": [
      "Test: Loss: 0.3752 | Accuracy: 0.8529 (116/136)\n",
      "Epoch 75/100: training accuracy: 0.9807692307692307, test accuracy: 0.8529411764705882\n"
     ]
    },
    {
     "name": "stderr",
     "output_type": "stream",
     "text": [
      "Training: 100%|██████████| 9/9 [00:32<00:00,  3.65s/it, epoch=76, loss=0.1037, acc=96.92%, lr=0.000000] \n",
      "Testing: 100%|██████████| 3/3 [00:08<00:00,  2.72s/it, epoch=76, loss=0.3679, acc=86.76%]\n"
     ]
    },
    {
     "name": "stdout",
     "output_type": "stream",
     "text": [
      "Test: Loss: 0.3679 | Accuracy: 0.8676 (118/136)\n",
      "Epoch 76/100: training accuracy: 0.9692307692307692, test accuracy: 0.8676470588235294\n"
     ]
    },
    {
     "name": "stderr",
     "output_type": "stream",
     "text": [
      "Training: 100%|██████████| 9/9 [00:31<00:00,  3.51s/it, epoch=77, loss=0.0712, acc=99.62%, lr=0.000000] \n",
      "Testing: 100%|██████████| 3/3 [00:08<00:00,  2.68s/it, epoch=77, loss=0.3635, acc=85.29%]\n"
     ]
    },
    {
     "name": "stdout",
     "output_type": "stream",
     "text": [
      "Test: Loss: 0.3635 | Accuracy: 0.8529 (116/136)\n",
      "Epoch 77/100: training accuracy: 0.9961538461538462, test accuracy: 0.8529411764705882\n"
     ]
    },
    {
     "name": "stderr",
     "output_type": "stream",
     "text": [
      "Training: 100%|██████████| 9/9 [00:31<00:00,  3.47s/it, epoch=78, loss=0.0654, acc=98.46%, lr=0.000000]\n",
      "Testing: 100%|██████████| 3/3 [00:08<00:00,  2.88s/it, epoch=78, loss=0.3554, acc=88.24%]\n"
     ]
    },
    {
     "name": "stdout",
     "output_type": "stream",
     "text": [
      "Test: Loss: 0.3554 | Accuracy: 0.8824 (120/136)\n",
      "Epoch 78/100: training accuracy: 0.9846153846153847, test accuracy: 0.8823529411764706\n"
     ]
    },
    {
     "name": "stderr",
     "output_type": "stream",
     "text": [
      "Training: 100%|██████████| 9/9 [00:30<00:00,  3.35s/it, epoch=79, loss=0.0854, acc=97.31%, lr=0.000000]\n",
      "Testing: 100%|██████████| 3/3 [00:08<00:00,  2.71s/it, epoch=79, loss=0.3537, acc=88.24%]\n"
     ]
    },
    {
     "name": "stdout",
     "output_type": "stream",
     "text": [
      "Test: Loss: 0.3537 | Accuracy: 0.8824 (120/136)\n",
      "Epoch 79/100: training accuracy: 0.9730769230769231, test accuracy: 0.8823529411764706\n"
     ]
    },
    {
     "name": "stderr",
     "output_type": "stream",
     "text": [
      "Training: 100%|██████████| 9/9 [00:31<00:00,  3.50s/it, epoch=80, loss=0.0496, acc=99.62%, lr=0.000000] \n",
      "Testing: 100%|██████████| 3/3 [00:08<00:00,  2.68s/it, epoch=80, loss=0.3595, acc=85.29%]\n"
     ]
    },
    {
     "name": "stdout",
     "output_type": "stream",
     "text": [
      "Test: Loss: 0.3595 | Accuracy: 0.8529 (116/136)\n",
      "Epoch 80/100: training accuracy: 0.9961538461538462, test accuracy: 0.8529411764705882\n"
     ]
    },
    {
     "name": "stderr",
     "output_type": "stream",
     "text": [
      "Training: 100%|██████████| 9/9 [00:31<00:00,  3.51s/it, epoch=81, loss=0.0499, acc=99.62%, lr=0.000000] \n",
      "Testing: 100%|██████████| 3/3 [00:08<00:00,  2.72s/it, epoch=81, loss=0.3740, acc=85.29%]\n"
     ]
    },
    {
     "name": "stdout",
     "output_type": "stream",
     "text": [
      "Test: Loss: 0.3740 | Accuracy: 0.8529 (116/136)\n",
      "Epoch 81/100: training accuracy: 0.9961538461538462, test accuracy: 0.8529411764705882\n"
     ]
    },
    {
     "name": "stderr",
     "output_type": "stream",
     "text": [
      "Training: 100%|██████████| 9/9 [00:30<00:00,  3.44s/it, epoch=82, loss=0.0589, acc=98.85%, lr=0.000000] \n",
      "Testing: 100%|██████████| 3/3 [00:08<00:00,  2.74s/it, epoch=82, loss=0.3733, acc=85.29%]\n"
     ]
    },
    {
     "name": "stdout",
     "output_type": "stream",
     "text": [
      "Test: Loss: 0.3733 | Accuracy: 0.8529 (116/136)\n",
      "Epoch 82/100: training accuracy: 0.9884615384615385, test accuracy: 0.8529411764705882\n"
     ]
    },
    {
     "name": "stderr",
     "output_type": "stream",
     "text": [
      "Training: 100%|██████████| 9/9 [00:31<00:00,  3.52s/it, epoch=83, loss=0.0562, acc=98.85%, lr=0.000000] \n",
      "Testing: 100%|██████████| 3/3 [00:08<00:00,  2.73s/it, epoch=83, loss=0.3672, acc=88.24%]\n"
     ]
    },
    {
     "name": "stdout",
     "output_type": "stream",
     "text": [
      "Test: Loss: 0.3672 | Accuracy: 0.8824 (120/136)\n",
      "Epoch 83/100: training accuracy: 0.9884615384615385, test accuracy: 0.8823529411764706\n"
     ]
    },
    {
     "name": "stderr",
     "output_type": "stream",
     "text": [
      "Training: 100%|██████████| 9/9 [00:41<00:00,  4.66s/it, epoch=84, loss=0.0836, acc=96.54%, lr=0.000000]\n",
      "Testing: 100%|██████████| 3/3 [00:10<00:00,  3.58s/it, epoch=84, loss=0.3811, acc=85.29%]\n"
     ]
    },
    {
     "name": "stdout",
     "output_type": "stream",
     "text": [
      "Test: Loss: 0.3811 | Accuracy: 0.8529 (116/136)\n",
      "Epoch 84/100: training accuracy: 0.9653846153846154, test accuracy: 0.8529411764705882\n"
     ]
    },
    {
     "name": "stderr",
     "output_type": "stream",
     "text": [
      "Training: 100%|██████████| 9/9 [00:37<00:00,  4.21s/it, epoch=85, loss=0.0636, acc=99.23%, lr=0.000000] \n",
      "Testing: 100%|██████████| 3/3 [00:09<00:00,  3.16s/it, epoch=85, loss=0.3849, acc=85.29%]\n"
     ]
    },
    {
     "name": "stdout",
     "output_type": "stream",
     "text": [
      "Test: Loss: 0.3849 | Accuracy: 0.8529 (116/136)\n",
      "Epoch 85/100: training accuracy: 0.9923076923076923, test accuracy: 0.8529411764705882\n"
     ]
    },
    {
     "name": "stderr",
     "output_type": "stream",
     "text": [
      "Training: 100%|██████████| 9/9 [00:35<00:00,  3.89s/it, epoch=86, loss=0.0641, acc=98.46%, lr=0.000000]\n",
      "Testing: 100%|██████████| 3/3 [00:08<00:00,  2.93s/it, epoch=86, loss=0.3791, acc=86.76%]\n"
     ]
    },
    {
     "name": "stdout",
     "output_type": "stream",
     "text": [
      "Test: Loss: 0.3791 | Accuracy: 0.8676 (118/136)\n",
      "Epoch 86/100: training accuracy: 0.9846153846153847, test accuracy: 0.8676470588235294\n"
     ]
    },
    {
     "name": "stderr",
     "output_type": "stream",
     "text": [
      "Training: 100%|██████████| 9/9 [00:32<00:00,  3.63s/it, epoch=87, loss=0.0573, acc=99.62%, lr=0.000000] \n",
      "Testing: 100%|██████████| 3/3 [00:08<00:00,  2.84s/it, epoch=87, loss=0.3580, acc=88.24%]\n"
     ]
    },
    {
     "name": "stdout",
     "output_type": "stream",
     "text": [
      "Test: Loss: 0.3580 | Accuracy: 0.8824 (120/136)\n",
      "Epoch 87/100: training accuracy: 0.9961538461538462, test accuracy: 0.8823529411764706\n"
     ]
    },
    {
     "name": "stderr",
     "output_type": "stream",
     "text": [
      "Training: 100%|██████████| 9/9 [00:32<00:00,  3.57s/it, epoch=88, loss=0.0598, acc=98.85%, lr=0.000000]\n",
      "Testing: 100%|██████████| 3/3 [00:08<00:00,  2.69s/it, epoch=88, loss=0.3845, acc=85.29%]\n"
     ]
    },
    {
     "name": "stdout",
     "output_type": "stream",
     "text": [
      "Test: Loss: 0.3845 | Accuracy: 0.8529 (116/136)\n",
      "Epoch 88/100: training accuracy: 0.9884615384615385, test accuracy: 0.8529411764705882\n"
     ]
    },
    {
     "name": "stderr",
     "output_type": "stream",
     "text": [
      "Training: 100%|██████████| 9/9 [00:30<00:00,  3.42s/it, epoch=89, loss=0.0893, acc=97.69%, lr=0.000000]\n",
      "Testing: 100%|██████████| 3/3 [00:08<00:00,  2.70s/it, epoch=89, loss=0.3997, acc=83.82%]\n"
     ]
    },
    {
     "name": "stdout",
     "output_type": "stream",
     "text": [
      "Test: Loss: 0.3997 | Accuracy: 0.8382 (114/136)\n",
      "Epoch 89/100: training accuracy: 0.9769230769230769, test accuracy: 0.8382352941176471\n"
     ]
    },
    {
     "name": "stderr",
     "output_type": "stream",
     "text": [
      "Training: 100%|██████████| 9/9 [00:30<00:00,  3.36s/it, epoch=90, loss=0.0608, acc=99.62%, lr=0.000000] \n",
      "Testing: 100%|██████████| 3/3 [00:08<00:00,  2.68s/it, epoch=90, loss=0.3917, acc=83.82%]\n"
     ]
    },
    {
     "name": "stdout",
     "output_type": "stream",
     "text": [
      "Test: Loss: 0.3917 | Accuracy: 0.8382 (114/136)\n",
      "Epoch 90/100: training accuracy: 0.9961538461538462, test accuracy: 0.8382352941176471\n"
     ]
    },
    {
     "name": "stderr",
     "output_type": "stream",
     "text": [
      "Training: 100%|██████████| 9/9 [00:31<00:00,  3.48s/it, epoch=91, loss=0.0730, acc=98.46%, lr=0.000000] \n",
      "Testing: 100%|██████████| 3/3 [00:08<00:00,  2.72s/it, epoch=91, loss=0.3842, acc=85.29%]\n"
     ]
    },
    {
     "name": "stdout",
     "output_type": "stream",
     "text": [
      "Test: Loss: 0.3842 | Accuracy: 0.8529 (116/136)\n",
      "Epoch 91/100: training accuracy: 0.9846153846153847, test accuracy: 0.8529411764705882\n"
     ]
    },
    {
     "name": "stderr",
     "output_type": "stream",
     "text": [
      "Training: 100%|██████████| 9/9 [00:30<00:00,  3.43s/it, epoch=92, loss=0.0709, acc=98.46%, lr=0.000000] \n",
      "Testing: 100%|██████████| 3/3 [00:08<00:00,  2.68s/it, epoch=92, loss=0.3783, acc=85.29%]\n"
     ]
    },
    {
     "name": "stdout",
     "output_type": "stream",
     "text": [
      "Test: Loss: 0.3783 | Accuracy: 0.8529 (116/136)\n",
      "Epoch 92/100: training accuracy: 0.9846153846153847, test accuracy: 0.8529411764705882\n"
     ]
    },
    {
     "name": "stderr",
     "output_type": "stream",
     "text": [
      "Training: 100%|██████████| 9/9 [00:31<00:00,  3.51s/it, epoch=93, loss=0.0791, acc=97.69%, lr=0.000000]\n",
      "Testing: 100%|██████████| 3/3 [00:07<00:00,  2.63s/it, epoch=93, loss=0.3622, acc=88.24%]\n"
     ]
    },
    {
     "name": "stdout",
     "output_type": "stream",
     "text": [
      "Test: Loss: 0.3622 | Accuracy: 0.8824 (120/136)\n",
      "Epoch 93/100: training accuracy: 0.9769230769230769, test accuracy: 0.8823529411764706\n"
     ]
    },
    {
     "name": "stderr",
     "output_type": "stream",
     "text": [
      "Training: 100%|██████████| 9/9 [00:40<00:00,  4.46s/it, epoch=94, loss=0.0631, acc=98.85%, lr=0.000000] \n",
      "Testing: 100%|██████████| 3/3 [00:11<00:00,  3.81s/it, epoch=94, loss=0.3795, acc=85.29%]\n"
     ]
    },
    {
     "name": "stdout",
     "output_type": "stream",
     "text": [
      "Test: Loss: 0.3795 | Accuracy: 0.8529 (116/136)\n",
      "Epoch 94/100: training accuracy: 0.9884615384615385, test accuracy: 0.8529411764705882\n"
     ]
    },
    {
     "name": "stderr",
     "output_type": "stream",
     "text": [
      "Training: 100%|██████████| 9/9 [00:40<00:00,  4.51s/it, epoch=95, loss=0.0895, acc=97.31%, lr=0.000000]\n",
      "Testing: 100%|██████████| 3/3 [00:09<00:00,  3.18s/it, epoch=95, loss=0.3909, acc=83.82%]\n"
     ]
    },
    {
     "name": "stdout",
     "output_type": "stream",
     "text": [
      "Test: Loss: 0.3909 | Accuracy: 0.8382 (114/136)\n",
      "Epoch 95/100: training accuracy: 0.9730769230769231, test accuracy: 0.8382352941176471\n"
     ]
    },
    {
     "name": "stderr",
     "output_type": "stream",
     "text": [
      "Training: 100%|██████████| 9/9 [00:36<00:00,  4.05s/it, epoch=96, loss=0.0786, acc=98.08%, lr=0.000000]\n",
      "Testing: 100%|██████████| 3/3 [00:09<00:00,  3.02s/it, epoch=96, loss=0.4072, acc=83.82%]\n"
     ]
    },
    {
     "name": "stdout",
     "output_type": "stream",
     "text": [
      "Test: Loss: 0.4072 | Accuracy: 0.8382 (114/136)\n",
      "Epoch 96/100: training accuracy: 0.9807692307692307, test accuracy: 0.8382352941176471\n"
     ]
    },
    {
     "name": "stderr",
     "output_type": "stream",
     "text": [
      "Training: 100%|██████████| 9/9 [00:33<00:00,  3.71s/it, epoch=97, loss=0.0619, acc=98.08%, lr=0.000000] \n",
      "Testing: 100%|██████████| 3/3 [00:08<00:00,  2.85s/it, epoch=97, loss=0.3808, acc=85.29%]\n"
     ]
    },
    {
     "name": "stdout",
     "output_type": "stream",
     "text": [
      "Test: Loss: 0.3808 | Accuracy: 0.8529 (116/136)\n",
      "Epoch 97/100: training accuracy: 0.9807692307692307, test accuracy: 0.8529411764705882\n"
     ]
    },
    {
     "name": "stderr",
     "output_type": "stream",
     "text": [
      "Training: 100%|██████████| 9/9 [00:31<00:00,  3.54s/it, epoch=98, loss=0.0570, acc=99.23%, lr=0.000000] \n",
      "Testing: 100%|██████████| 3/3 [00:08<00:00,  2.81s/it, epoch=98, loss=0.3853, acc=85.29%]\n"
     ]
    },
    {
     "name": "stdout",
     "output_type": "stream",
     "text": [
      "Test: Loss: 0.3853 | Accuracy: 0.8529 (116/136)\n",
      "Epoch 98/100: training accuracy: 0.9923076923076923, test accuracy: 0.8529411764705882\n"
     ]
    },
    {
     "name": "stderr",
     "output_type": "stream",
     "text": [
      "Training: 100%|██████████| 9/9 [00:30<00:00,  3.42s/it, epoch=99, loss=0.0728, acc=98.08%, lr=0.000000]\n",
      "Testing: 100%|██████████| 3/3 [00:07<00:00,  2.65s/it, epoch=99, loss=0.3834, acc=86.76%]\n"
     ]
    },
    {
     "name": "stdout",
     "output_type": "stream",
     "text": [
      "Test: Loss: 0.3834 | Accuracy: 0.8676 (118/136)\n",
      "Epoch 99/100: training accuracy: 0.9807692307692307, test accuracy: 0.8676470588235294\n"
     ]
    },
    {
     "name": "stderr",
     "output_type": "stream",
     "text": [
      "Training: 100%|██████████| 9/9 [00:31<00:00,  3.47s/it, epoch=100, loss=0.0828, acc=97.69%, lr=0.000000] \n",
      "Testing: 100%|██████████| 3/3 [00:08<00:00,  2.68s/it, epoch=100, loss=0.3749, acc=86.76%]"
     ]
    },
    {
     "name": "stdout",
     "output_type": "stream",
     "text": [
      "Test: Loss: 0.3749 | Accuracy: 0.8676 (118/136)\n",
      "Epoch 100/100: training accuracy: 0.9769230769230769, test accuracy: 0.8676470588235294\n"
     ]
    },
    {
     "name": "stderr",
     "output_type": "stream",
     "text": [
      "\n"
     ]
    }
   ],
   "source": [
    "import torchvision.models as models\n",
    "import torch.nn as nn\n",
    "\n",
    "pretrained_model = models.resnet18(pretrained=True)\n",
    "num_classes = 6\n",
    "pretrained_model.fc = nn.Linear(pretrained_model.fc.in_features, num_classes)\n",
    "\n",
    "resnet_optimizer = optim.Adam(\n",
    "    pretrained_model.parameters(),\n",
    "    lr=lr,\n",
    "    weight_decay=5e-4\n",
    ")\n",
    "\n",
    "loss_fn = nn.CrossEntropyLoss()\n",
    "scheduler = lr_scheduler.ReduceLROnPlateau(resnet_optimizer, patience=2)\n",
    "\n",
    "train_loss_list_pre = []\n",
    "test_loss_list_pre = []\n",
    "train_acc_list_pre = []\n",
    "test_acc_list_pre = []\n",
    "\n",
    "for epoch in range(1, n_epochs+1):\n",
    "    training_loss, training_accuracy = train(pretrained_model, train_loader, device, resnet_optimizer, loss_fn, epoch)\n",
    "    test_loss, test_accuracy = evaluate(pretrained_model, test_loader, device, loss_fn, epoch)\n",
    "\n",
    "    train_loss_list_pre.append(training_loss)\n",
    "    test_loss_list_pre.append(test_loss)\n",
    "    train_acc_list_pre.append(training_accuracy)\n",
    "    test_acc_list_pre.append(test_accuracy)\n",
    "\n",
    "    scheduler.step(test_loss)\n",
    "\n",
    "    print(f\"Epoch {epoch}/{n_epochs}: training accuracy: {training_accuracy}, test accuracy: {test_accuracy}\")"
   ]
  },
  {
   "cell_type": "markdown",
   "id": "994704ef",
   "metadata": {},
   "source": [
    "(3) 比較自己建立的ResNet與預訓練ResNet的表現"
   ]
  },
  {
   "cell_type": "code",
   "execution_count": 24,
   "id": "ab8818f6",
   "metadata": {},
   "outputs": [
    {
     "data": {
      "image/png": "[encoded data removed]",
      "text/plain": [
       "<Figure size 1400x600 with 2 Axes>"
      ]
     },
     "metadata": {},
     "output_type": "display_data"
    },
    {
     "name": "stdout",
     "output_type": "stream",
     "text": [
      "              Model  Coverge Time  Final Train Loss  Final Test Loss  \\\n",
      "0  Customized Model            24          0.789576         0.839995   \n",
      "1  Pretrained Model            21          0.082770         0.374923   \n",
      "\n",
      "   Final Train Accuracy  Final Test Accuracy  \n",
      "0              0.696154             0.632353  \n",
      "1              0.976923             0.867647  \n"
     ]
    }
   ],
   "source": [
    "import matplotlib.pyplot as plt\n",
    "import pandas as pd\n",
    "\n",
    "def get_converge_epoch(val_losses, threshold=0.01):\n",
    "    diffs = [abs(val_losses[i] - val_losses[i-1]) for i in range(1, len(val_losses))]\n",
    "    for i, diff in enumerate(diffs):\n",
    "        if diff < threshold:\n",
    "            return i + 1\n",
    "    return len(val_losses)\n",
    "\n",
    "converge = get_converge_epoch(test_loss_list)\n",
    "pretrained_converge = get_converge_epoch(test_loss_list_pre)\n",
    "\n",
    "summary_df = pd.DataFrame({\n",
    "    \"Model\": [\"Customized Model\", \"Pretrained Model\"],\n",
    "    \"Coverge Time\": [converge, pretrained_converge],\n",
    "    \"Final Train Loss\": [train_loss_list[-1], train_loss_list_pre[-1]],\n",
    "    \"Final Test Loss\": [test_loss_list[-1], test_loss_list_pre[-1]],\n",
    "    \"Final Train Accuracy\": [train_acc_list[-1], train_acc_list_pre[-1]],\n",
    "    \"Final Test Accuracy\": [test_acc_list[-1], test_acc_list_pre[-1]],\n",
    "})\n",
    "\n",
    "epochs = list(range(1, n_epochs+1))\n",
    "plt.figure(figsize=(14, 6))\n",
    "\n",
    "# Loss plot\n",
    "plt.subplot(1, 2, 1)\n",
    "plt.plot(epochs, train_loss_list, label=\"Train Loss (Custom)\")\n",
    "plt.plot(epochs, test_loss_list, label=\"Test Loss (Custom)\")\n",
    "plt.plot(epochs, train_loss_list_pre, label=\"Train Loss (Pretrain)\")\n",
    "plt.plot(epochs, test_loss_list_pre, label=\"Test Loss (Pretrain)\")\n",
    "plt.xlabel(\"Epoch\")\n",
    "plt.ylabel(\"Loss\")\n",
    "plt.title(\"Comparison of Train & Test Loss\")\n",
    "plt.legend()\n",
    "\n",
    "# Accuracy plot\n",
    "plt.subplot(1, 2, 2)\n",
    "plt.plot(epochs, train_acc_list, label=\"Train Accuracy (Custom)\")\n",
    "plt.plot(epochs, test_acc_list, label=\"Test Accuracy (Custom)\")\n",
    "plt.plot(epochs, train_acc_list_pre, label=\"Train Accuracy (Pretrain)\")\n",
    "plt.plot(epochs, test_acc_list_pre, label=\"Test Accuracy (Pretrain)\")\n",
    "plt.xlabel(\"Epoch\")\n",
    "plt.ylabel(\"Accuracy\")\n",
    "plt.title(\"Comparison of Train & Test Accuracy\")\n",
    "plt.legend()\n",
    "\n",
    "plt.tight_layout()\n",
    "plt.show()\n",
    "\n",
    "# Comparison Table\n",
    "print(summary_df)"
   ]
  },
  {
   "cell_type": "markdown",
   "id": "e2156d09",
   "metadata": {},
   "source": [
    "(4) 比較不同預訓練模型的表現"
   ]
  },
  {
   "cell_type": "code",
   "execution_count": 25,
   "id": "f615e5ed",
   "metadata": {},
   "outputs": [
    {
     "name": "stderr",
     "output_type": "stream",
     "text": [
      "Training: 100%|██████████| 9/9 [00:49<00:00,  5.52s/it, epoch=1, loss=1.4049, acc=59.62%, lr=0.000300]\n",
      "Testing: 100%|██████████| 3/3 [00:12<00:00,  4.17s/it, epoch=1, loss=1.2719, acc=64.71%]\n"
     ]
    },
    {
     "name": "stdout",
     "output_type": "stream",
     "text": [
      "Test: Loss: 1.2719 | Accuracy: 0.6471 (88/136)\n",
      "Epoch 1/100: training accuracy: 0.5961538461538461, test accuracy: 0.6470588235294118\n"
     ]
    },
    {
     "name": "stderr",
     "output_type": "stream",
     "text": [
      "Training: 100%|██████████| 9/9 [00:56<00:00,  6.32s/it, epoch=2, loss=0.9063, acc=71.54%, lr=0.000300]\n",
      "Testing: 100%|██████████| 3/3 [00:10<00:00,  3.42s/it, epoch=2, loss=1.1128, acc=66.18%]\n"
     ]
    },
    {
     "name": "stdout",
     "output_type": "stream",
     "text": [
      "Test: Loss: 1.1128 | Accuracy: 0.6618 (90/136)\n",
      "Epoch 2/100: training accuracy: 0.7153846153846154, test accuracy: 0.6617647058823529\n"
     ]
    },
    {
     "name": "stderr",
     "output_type": "stream",
     "text": [
      "Training: 100%|██████████| 9/9 [00:50<00:00,  5.57s/it, epoch=3, loss=0.6980, acc=77.31%, lr=0.000300]\n",
      "Testing: 100%|██████████| 3/3 [00:09<00:00,  3.11s/it, epoch=3, loss=1.1497, acc=67.65%]\n"
     ]
    },
    {
     "name": "stdout",
     "output_type": "stream",
     "text": [
      "Test: Loss: 1.1497 | Accuracy: 0.6765 (92/136)\n",
      "Epoch 3/100: training accuracy: 0.7730769230769231, test accuracy: 0.6764705882352942\n"
     ]
    },
    {
     "name": "stderr",
     "output_type": "stream",
     "text": [
      "Training: 100%|██████████| 9/9 [00:47<00:00,  5.30s/it, epoch=4, loss=0.6620, acc=78.46%, lr=0.000300]\n",
      "Testing: 100%|██████████| 3/3 [00:08<00:00,  2.99s/it, epoch=4, loss=1.3847, acc=66.18%]\n"
     ]
    },
    {
     "name": "stdout",
     "output_type": "stream",
     "text": [
      "Test: Loss: 1.3847 | Accuracy: 0.6618 (90/136)\n",
      "Epoch 4/100: training accuracy: 0.7846153846153846, test accuracy: 0.6617647058823529\n"
     ]
    },
    {
     "name": "stderr",
     "output_type": "stream",
     "text": [
      "Training: 100%|██████████| 9/9 [00:46<00:00,  5.19s/it, epoch=5, loss=0.5504, acc=81.92%, lr=0.000300]\n",
      "Testing: 100%|██████████| 3/3 [00:08<00:00,  2.90s/it, epoch=5, loss=1.0157, acc=69.12%]\n"
     ]
    },
    {
     "name": "stdout",
     "output_type": "stream",
     "text": [
      "Test: Loss: 1.0157 | Accuracy: 0.6912 (94/136)\n",
      "Epoch 5/100: training accuracy: 0.8192307692307692, test accuracy: 0.6911764705882353\n"
     ]
    },
    {
     "name": "stderr",
     "output_type": "stream",
     "text": [
      "Training: 100%|██████████| 9/9 [00:45<00:00,  5.05s/it, epoch=6, loss=0.4433, acc=85.77%, lr=0.000300]\n",
      "Testing: 100%|██████████| 3/3 [00:08<00:00,  2.91s/it, epoch=6, loss=0.8656, acc=72.06%]\n"
     ]
    },
    {
     "name": "stdout",
     "output_type": "stream",
     "text": [
      "Test: Loss: 0.8656 | Accuracy: 0.7206 (98/136)\n",
      "Epoch 6/100: training accuracy: 0.8576923076923076, test accuracy: 0.7205882352941176\n"
     ]
    },
    {
     "name": "stderr",
     "output_type": "stream",
     "text": [
      "Training: 100%|██████████| 9/9 [00:46<00:00,  5.18s/it, epoch=7, loss=0.3536, acc=90.00%, lr=0.000300]\n",
      "Testing: 100%|██████████| 3/3 [00:10<00:00,  3.46s/it, epoch=7, loss=0.5506, acc=76.47%]\n"
     ]
    },
    {
     "name": "stdout",
     "output_type": "stream",
     "text": [
      "Test: Loss: 0.5506 | Accuracy: 0.7647 (104/136)\n",
      "Epoch 7/100: training accuracy: 0.9, test accuracy: 0.7647058823529411\n"
     ]
    },
    {
     "name": "stderr",
     "output_type": "stream",
     "text": [
      "Training: 100%|██████████| 9/9 [00:54<00:00,  6.07s/it, epoch=8, loss=0.2583, acc=93.85%, lr=0.000300]\n",
      "Testing: 100%|██████████| 3/3 [00:11<00:00,  3.68s/it, epoch=8, loss=0.5658, acc=83.82%]\n"
     ]
    },
    {
     "name": "stdout",
     "output_type": "stream",
     "text": [
      "Test: Loss: 0.5658 | Accuracy: 0.8382 (114/136)\n",
      "Epoch 8/100: training accuracy: 0.9384615384615385, test accuracy: 0.8382352941176471\n"
     ]
    },
    {
     "name": "stderr",
     "output_type": "stream",
     "text": [
      "Training: 100%|██████████| 9/9 [00:53<00:00,  5.95s/it, epoch=9, loss=0.2299, acc=92.31%, lr=0.000300]\n",
      "Testing: 100%|██████████| 3/3 [00:09<00:00,  3.22s/it, epoch=9, loss=0.6105, acc=82.35%]\n"
     ]
    },
    {
     "name": "stdout",
     "output_type": "stream",
     "text": [
      "Test: Loss: 0.6105 | Accuracy: 0.8235 (112/136)\n",
      "Epoch 9/100: training accuracy: 0.9230769230769231, test accuracy: 0.8235294117647058\n"
     ]
    },
    {
     "name": "stderr",
     "output_type": "stream",
     "text": [
      "Training: 100%|██████████| 9/9 [00:48<00:00,  5.44s/it, epoch=10, loss=0.1746, acc=94.23%, lr=0.000300]\n",
      "Testing: 100%|██████████| 3/3 [00:09<00:00,  3.08s/it, epoch=10, loss=0.5917, acc=76.47%]\n"
     ]
    },
    {
     "name": "stdout",
     "output_type": "stream",
     "text": [
      "Test: Loss: 0.5917 | Accuracy: 0.7647 (104/136)\n",
      "Epoch 10/100: training accuracy: 0.9423076923076923, test accuracy: 0.7647058823529411\n"
     ]
    },
    {
     "name": "stderr",
     "output_type": "stream",
     "text": [
      "Training: 100%|██████████| 9/9 [00:46<00:00,  5.18s/it, epoch=11, loss=0.1112, acc=96.15%, lr=0.000030]\n",
      "Testing: 100%|██████████| 3/3 [00:08<00:00,  2.94s/it, epoch=11, loss=0.5679, acc=82.35%]\n"
     ]
    },
    {
     "name": "stdout",
     "output_type": "stream",
     "text": [
      "Test: Loss: 0.5679 | Accuracy: 0.8235 (112/136)\n",
      "Epoch 11/100: training accuracy: 0.9615384615384616, test accuracy: 0.8235294117647058\n"
     ]
    },
    {
     "name": "stderr",
     "output_type": "stream",
     "text": [
      "Training: 100%|██████████| 9/9 [00:45<00:00,  5.11s/it, epoch=12, loss=0.0754, acc=98.46%, lr=0.000030] \n",
      "Testing: 100%|██████████| 3/3 [00:08<00:00,  2.95s/it, epoch=12, loss=0.5711, acc=83.82%]\n"
     ]
    },
    {
     "name": "stdout",
     "output_type": "stream",
     "text": [
      "Test: Loss: 0.5711 | Accuracy: 0.8382 (114/136)\n",
      "Epoch 12/100: training accuracy: 0.9846153846153847, test accuracy: 0.8382352941176471\n"
     ]
    },
    {
     "name": "stderr",
     "output_type": "stream",
     "text": [
      "Training: 100%|██████████| 9/9 [00:45<00:00,  5.10s/it, epoch=13, loss=0.0733, acc=98.85%, lr=0.000030] \n",
      "Testing: 100%|██████████| 3/3 [00:08<00:00,  2.91s/it, epoch=13, loss=0.5323, acc=82.35%]\n"
     ]
    },
    {
     "name": "stdout",
     "output_type": "stream",
     "text": [
      "Test: Loss: 0.5323 | Accuracy: 0.8235 (112/136)\n",
      "Epoch 13/100: training accuracy: 0.9884615384615385, test accuracy: 0.8235294117647058\n"
     ]
    },
    {
     "name": "stderr",
     "output_type": "stream",
     "text": [
      "Training: 100%|██████████| 9/9 [00:45<00:00,  5.11s/it, epoch=14, loss=0.1002, acc=97.69%, lr=0.000030] \n",
      "Testing: 100%|██████████| 3/3 [00:10<00:00,  3.49s/it, epoch=14, loss=0.5568, acc=83.82%]\n"
     ]
    },
    {
     "name": "stdout",
     "output_type": "stream",
     "text": [
      "Test: Loss: 0.5568 | Accuracy: 0.8382 (114/136)\n",
      "Epoch 14/100: training accuracy: 0.9769230769230769, test accuracy: 0.8382352941176471\n"
     ]
    },
    {
     "name": "stderr",
     "output_type": "stream",
     "text": [
      "Training: 100%|██████████| 9/9 [00:53<00:00,  6.00s/it, epoch=15, loss=0.0690, acc=98.46%, lr=0.000030] \n",
      "Testing: 100%|██████████| 3/3 [00:11<00:00,  3.92s/it, epoch=15, loss=0.4902, acc=79.41%]\n"
     ]
    },
    {
     "name": "stdout",
     "output_type": "stream",
     "text": [
      "Test: Loss: 0.4902 | Accuracy: 0.7941 (108/136)\n",
      "Epoch 15/100: training accuracy: 0.9846153846153847, test accuracy: 0.7941176470588235\n"
     ]
    },
    {
     "name": "stderr",
     "output_type": "stream",
     "text": [
      "Training: 100%|██████████| 9/9 [00:54<00:00,  6.09s/it, epoch=16, loss=0.0630, acc=99.62%, lr=0.000030] \n",
      "Testing: 100%|██████████| 3/3 [00:10<00:00,  3.34s/it, epoch=16, loss=0.4711, acc=79.41%]\n"
     ]
    },
    {
     "name": "stdout",
     "output_type": "stream",
     "text": [
      "Test: Loss: 0.4711 | Accuracy: 0.7941 (108/136)\n",
      "Epoch 16/100: training accuracy: 0.9961538461538462, test accuracy: 0.7941176470588235\n"
     ]
    },
    {
     "name": "stderr",
     "output_type": "stream",
     "text": [
      "Training: 100%|██████████| 9/9 [00:48<00:00,  5.35s/it, epoch=17, loss=0.0870, acc=97.69%, lr=0.000030] \n",
      "Testing: 100%|██████████| 3/3 [00:09<00:00,  3.08s/it, epoch=17, loss=0.4839, acc=82.35%]\n"
     ]
    },
    {
     "name": "stdout",
     "output_type": "stream",
     "text": [
      "Test: Loss: 0.4839 | Accuracy: 0.8235 (112/136)\n",
      "Epoch 17/100: training accuracy: 0.9769230769230769, test accuracy: 0.8235294117647058\n"
     ]
    },
    {
     "name": "stderr",
     "output_type": "stream",
     "text": [
      "Training: 100%|██████████| 9/9 [00:46<00:00,  5.12s/it, epoch=18, loss=0.0513, acc=99.62%, lr=0.000030] \n",
      "Testing: 100%|██████████| 3/3 [00:08<00:00,  2.95s/it, epoch=18, loss=0.4754, acc=80.88%]\n"
     ]
    },
    {
     "name": "stdout",
     "output_type": "stream",
     "text": [
      "Test: Loss: 0.4754 | Accuracy: 0.8088 (110/136)\n",
      "Epoch 18/100: training accuracy: 0.9961538461538462, test accuracy: 0.8088235294117647\n"
     ]
    },
    {
     "name": "stderr",
     "output_type": "stream",
     "text": [
      "Training: 100%|██████████| 9/9 [00:45<00:00,  5.01s/it, epoch=19, loss=0.0571, acc=99.23%, lr=0.000030] \n",
      "Testing: 100%|██████████| 3/3 [00:08<00:00,  2.91s/it, epoch=19, loss=0.5084, acc=85.29%]\n"
     ]
    },
    {
     "name": "stdout",
     "output_type": "stream",
     "text": [
      "Test: Loss: 0.5084 | Accuracy: 0.8529 (116/136)\n",
      "Epoch 19/100: training accuracy: 0.9923076923076923, test accuracy: 0.8529411764705882\n"
     ]
    },
    {
     "name": "stderr",
     "output_type": "stream",
     "text": [
      "Training: 100%|██████████| 9/9 [00:44<00:00,  4.98s/it, epoch=20, loss=0.0877, acc=98.08%, lr=0.000003]\n",
      "Testing: 100%|██████████| 3/3 [00:08<00:00,  2.93s/it, epoch=20, loss=0.5427, acc=83.82%]\n"
     ]
    },
    {
     "name": "stdout",
     "output_type": "stream",
     "text": [
      "Test: Loss: 0.5427 | Accuracy: 0.8382 (114/136)\n",
      "Epoch 20/100: training accuracy: 0.9807692307692307, test accuracy: 0.8382352941176471\n"
     ]
    },
    {
     "name": "stderr",
     "output_type": "stream",
     "text": [
      "Training: 100%|██████████| 9/9 [00:46<00:00,  5.21s/it, epoch=21, loss=0.0757, acc=97.69%, lr=0.000003] \n",
      "Testing: 100%|██████████| 3/3 [00:08<00:00,  2.92s/it, epoch=21, loss=0.5460, acc=82.35%]\n"
     ]
    },
    {
     "name": "stdout",
     "output_type": "stream",
     "text": [
      "Test: Loss: 0.5460 | Accuracy: 0.8235 (112/136)\n",
      "Epoch 21/100: training accuracy: 0.9769230769230769, test accuracy: 0.8235294117647058\n"
     ]
    },
    {
     "name": "stderr",
     "output_type": "stream",
     "text": [
      "Training: 100%|██████████| 9/9 [00:52<00:00,  5.79s/it, epoch=22, loss=0.0522, acc=99.62%, lr=0.000003] \n",
      "Testing: 100%|██████████| 3/3 [00:11<00:00,  3.94s/it, epoch=22, loss=0.5405, acc=82.35%]\n"
     ]
    },
    {
     "name": "stdout",
     "output_type": "stream",
     "text": [
      "Test: Loss: 0.5405 | Accuracy: 0.8235 (112/136)\n",
      "Epoch 22/100: training accuracy: 0.9961538461538462, test accuracy: 0.8235294117647058\n"
     ]
    },
    {
     "name": "stderr",
     "output_type": "stream",
     "text": [
      "Training: 100%|██████████| 9/9 [00:56<00:00,  6.27s/it, epoch=23, loss=0.0607, acc=98.85%, lr=0.000000] \n",
      "Testing: 100%|██████████| 3/3 [00:10<00:00,  3.37s/it, epoch=23, loss=0.4980, acc=82.35%]\n"
     ]
    },
    {
     "name": "stdout",
     "output_type": "stream",
     "text": [
      "Test: Loss: 0.4980 | Accuracy: 0.8235 (112/136)\n",
      "Epoch 23/100: training accuracy: 0.9884615384615385, test accuracy: 0.8235294117647058\n"
     ]
    },
    {
     "name": "stderr",
     "output_type": "stream",
     "text": [
      "Training: 100%|██████████| 9/9 [00:49<00:00,  5.51s/it, epoch=24, loss=0.0564, acc=99.23%, lr=0.000000] \n",
      "Testing: 100%|██████████| 3/3 [00:09<00:00,  3.07s/it, epoch=24, loss=0.4971, acc=82.35%]\n"
     ]
    },
    {
     "name": "stdout",
     "output_type": "stream",
     "text": [
      "Test: Loss: 0.4971 | Accuracy: 0.8235 (112/136)\n",
      "Epoch 24/100: training accuracy: 0.9923076923076923, test accuracy: 0.8235294117647058\n"
     ]
    },
    {
     "name": "stderr",
     "output_type": "stream",
     "text": [
      "Training: 100%|██████████| 9/9 [00:47<00:00,  5.25s/it, epoch=25, loss=0.0601, acc=98.46%, lr=0.000000] \n",
      "Testing: 100%|██████████| 3/3 [00:08<00:00,  2.95s/it, epoch=25, loss=0.5361, acc=83.82%]\n"
     ]
    },
    {
     "name": "stdout",
     "output_type": "stream",
     "text": [
      "Test: Loss: 0.5361 | Accuracy: 0.8382 (114/136)\n",
      "Epoch 25/100: training accuracy: 0.9846153846153847, test accuracy: 0.8382352941176471\n"
     ]
    },
    {
     "name": "stderr",
     "output_type": "stream",
     "text": [
      "Training: 100%|██████████| 9/9 [00:46<00:00,  5.14s/it, epoch=26, loss=0.0445, acc=99.62%, lr=0.000000] \n",
      "Testing: 100%|██████████| 3/3 [00:08<00:00,  2.91s/it, epoch=26, loss=0.5004, acc=83.82%]\n"
     ]
    },
    {
     "name": "stdout",
     "output_type": "stream",
     "text": [
      "Test: Loss: 0.5004 | Accuracy: 0.8382 (114/136)\n",
      "Epoch 26/100: training accuracy: 0.9961538461538462, test accuracy: 0.8382352941176471\n"
     ]
    },
    {
     "name": "stderr",
     "output_type": "stream",
     "text": [
      "Training: 100%|██████████| 9/9 [00:45<00:00,  5.07s/it, epoch=27, loss=0.0762, acc=98.46%, lr=0.000000]\n",
      "Testing: 100%|██████████| 3/3 [00:08<00:00,  2.97s/it, epoch=27, loss=0.5096, acc=83.82%]\n"
     ]
    },
    {
     "name": "stdout",
     "output_type": "stream",
     "text": [
      "Test: Loss: 0.5096 | Accuracy: 0.8382 (114/136)\n",
      "Epoch 27/100: training accuracy: 0.9846153846153847, test accuracy: 0.8382352941176471\n"
     ]
    },
    {
     "name": "stderr",
     "output_type": "stream",
     "text": [
      "Training: 100%|██████████| 9/9 [00:45<00:00,  5.03s/it, epoch=28, loss=0.0733, acc=98.46%, lr=0.000000] \n",
      "Testing: 100%|██████████| 3/3 [00:08<00:00,  2.94s/it, epoch=28, loss=0.4950, acc=83.82%]\n"
     ]
    },
    {
     "name": "stdout",
     "output_type": "stream",
     "text": [
      "Test: Loss: 0.4950 | Accuracy: 0.8382 (114/136)\n",
      "Epoch 28/100: training accuracy: 0.9846153846153847, test accuracy: 0.8382352941176471\n"
     ]
    },
    {
     "name": "stderr",
     "output_type": "stream",
     "text": [
      "Training: 100%|██████████| 9/9 [00:46<00:00,  5.16s/it, epoch=29, loss=0.0563, acc=98.85%, lr=0.000000]\n",
      "Testing: 100%|██████████| 3/3 [00:08<00:00,  2.91s/it, epoch=29, loss=0.5348, acc=82.35%]\n"
     ]
    },
    {
     "name": "stdout",
     "output_type": "stream",
     "text": [
      "Test: Loss: 0.5348 | Accuracy: 0.8235 (112/136)\n",
      "Epoch 29/100: training accuracy: 0.9884615384615385, test accuracy: 0.8235294117647058\n"
     ]
    },
    {
     "name": "stderr",
     "output_type": "stream",
     "text": [
      "Training: 100%|██████████| 9/9 [00:56<00:00,  6.24s/it, epoch=30, loss=0.0517, acc=98.85%, lr=0.000000] \n",
      "Testing: 100%|██████████| 3/3 [00:11<00:00,  3.72s/it, epoch=30, loss=0.5267, acc=83.82%]\n"
     ]
    },
    {
     "name": "stdout",
     "output_type": "stream",
     "text": [
      "Test: Loss: 0.5267 | Accuracy: 0.8382 (114/136)\n",
      "Epoch 30/100: training accuracy: 0.9884615384615385, test accuracy: 0.8382352941176471\n"
     ]
    },
    {
     "name": "stderr",
     "output_type": "stream",
     "text": [
      "Training: 100%|██████████| 9/9 [00:51<00:00,  5.67s/it, epoch=31, loss=0.0565, acc=100.00%, lr=0.000000]\n",
      "Testing: 100%|██████████| 3/3 [00:09<00:00,  3.22s/it, epoch=31, loss=0.5283, acc=82.35%]\n"
     ]
    },
    {
     "name": "stdout",
     "output_type": "stream",
     "text": [
      "Test: Loss: 0.5283 | Accuracy: 0.8235 (112/136)\n",
      "Epoch 31/100: training accuracy: 1.0, test accuracy: 0.8235294117647058\n"
     ]
    },
    {
     "name": "stderr",
     "output_type": "stream",
     "text": [
      "Training: 100%|██████████| 9/9 [00:48<00:00,  5.38s/it, epoch=32, loss=0.0606, acc=99.23%, lr=0.000000] \n",
      "Testing: 100%|██████████| 3/3 [00:09<00:00,  3.06s/it, epoch=32, loss=0.5057, acc=83.82%]\n"
     ]
    },
    {
     "name": "stdout",
     "output_type": "stream",
     "text": [
      "Test: Loss: 0.5057 | Accuracy: 0.8382 (114/136)\n",
      "Epoch 32/100: training accuracy: 0.9923076923076923, test accuracy: 0.8382352941176471\n"
     ]
    },
    {
     "name": "stderr",
     "output_type": "stream",
     "text": [
      "Training: 100%|██████████| 9/9 [00:46<00:00,  5.21s/it, epoch=33, loss=0.0502, acc=100.00%, lr=0.000000]\n",
      "Testing: 100%|██████████| 3/3 [00:08<00:00,  2.95s/it, epoch=33, loss=0.5295, acc=83.82%]\n"
     ]
    },
    {
     "name": "stdout",
     "output_type": "stream",
     "text": [
      "Test: Loss: 0.5295 | Accuracy: 0.8382 (114/136)\n",
      "Epoch 33/100: training accuracy: 1.0, test accuracy: 0.8382352941176471\n"
     ]
    },
    {
     "name": "stderr",
     "output_type": "stream",
     "text": [
      "Training: 100%|██████████| 9/9 [00:46<00:00,  5.16s/it, epoch=34, loss=0.0592, acc=99.23%, lr=0.000000]\n",
      "Testing: 100%|██████████| 3/3 [00:08<00:00,  2.92s/it, epoch=34, loss=0.4946, acc=82.35%]\n"
     ]
    },
    {
     "name": "stdout",
     "output_type": "stream",
     "text": [
      "Test: Loss: 0.4946 | Accuracy: 0.8235 (112/136)\n",
      "Epoch 34/100: training accuracy: 0.9923076923076923, test accuracy: 0.8235294117647058\n"
     ]
    },
    {
     "name": "stderr",
     "output_type": "stream",
     "text": [
      "Training: 100%|██████████| 9/9 [00:45<00:00,  5.06s/it, epoch=35, loss=0.0559, acc=99.23%, lr=0.000000] \n",
      "Testing: 100%|██████████| 3/3 [00:08<00:00,  2.94s/it, epoch=35, loss=0.5533, acc=83.82%]\n"
     ]
    },
    {
     "name": "stdout",
     "output_type": "stream",
     "text": [
      "Test: Loss: 0.5533 | Accuracy: 0.8382 (114/136)\n",
      "Epoch 35/100: training accuracy: 0.9923076923076923, test accuracy: 0.8382352941176471\n"
     ]
    },
    {
     "name": "stderr",
     "output_type": "stream",
     "text": [
      "Training: 100%|██████████| 9/9 [00:45<00:00,  5.02s/it, epoch=36, loss=0.0596, acc=99.62%, lr=0.000000]\n",
      "Testing: 100%|██████████| 3/3 [00:08<00:00,  2.97s/it, epoch=36, loss=0.5255, acc=83.82%]\n"
     ]
    },
    {
     "name": "stdout",
     "output_type": "stream",
     "text": [
      "Test: Loss: 0.5255 | Accuracy: 0.8382 (114/136)\n",
      "Epoch 36/100: training accuracy: 0.9961538461538462, test accuracy: 0.8382352941176471\n"
     ]
    },
    {
     "name": "stderr",
     "output_type": "stream",
     "text": [
      "Training: 100%|██████████| 9/9 [00:46<00:00,  5.12s/it, epoch=37, loss=0.0839, acc=97.69%, lr=0.000000] \n",
      "Testing: 100%|██████████| 3/3 [00:13<00:00,  4.48s/it, epoch=37, loss=0.4908, acc=85.29%]\n"
     ]
    },
    {
     "name": "stdout",
     "output_type": "stream",
     "text": [
      "Test: Loss: 0.4908 | Accuracy: 0.8529 (116/136)\n",
      "Epoch 37/100: training accuracy: 0.9769230769230769, test accuracy: 0.8529411764705882\n"
     ]
    },
    {
     "name": "stderr",
     "output_type": "stream",
     "text": [
      "Training: 100%|██████████| 9/9 [00:58<00:00,  6.52s/it, epoch=38, loss=0.0618, acc=98.85%, lr=0.000000] \n",
      "Testing: 100%|██████████| 3/3 [00:10<00:00,  3.44s/it, epoch=38, loss=0.4747, acc=85.29%]\n"
     ]
    },
    {
     "name": "stdout",
     "output_type": "stream",
     "text": [
      "Test: Loss: 0.4747 | Accuracy: 0.8529 (116/136)\n",
      "Epoch 38/100: training accuracy: 0.9884615384615385, test accuracy: 0.8529411764705882\n"
     ]
    },
    {
     "name": "stderr",
     "output_type": "stream",
     "text": [
      "Training: 100%|██████████| 9/9 [00:51<00:00,  5.70s/it, epoch=39, loss=0.0686, acc=99.23%, lr=0.000000] \n",
      "Testing: 100%|██████████| 3/3 [00:09<00:00,  3.19s/it, epoch=39, loss=0.4907, acc=83.82%]\n"
     ]
    },
    {
     "name": "stdout",
     "output_type": "stream",
     "text": [
      "Test: Loss: 0.4907 | Accuracy: 0.8382 (114/136)\n",
      "Epoch 39/100: training accuracy: 0.9923076923076923, test accuracy: 0.8382352941176471\n"
     ]
    },
    {
     "name": "stderr",
     "output_type": "stream",
     "text": [
      "Training: 100%|██████████| 9/9 [00:47<00:00,  5.33s/it, epoch=40, loss=0.0655, acc=98.85%, lr=0.000000] \n",
      "Testing: 100%|██████████| 3/3 [00:08<00:00,  2.98s/it, epoch=40, loss=0.5008, acc=85.29%]\n"
     ]
    },
    {
     "name": "stdout",
     "output_type": "stream",
     "text": [
      "Test: Loss: 0.5008 | Accuracy: 0.8529 (116/136)\n",
      "Epoch 40/100: training accuracy: 0.9884615384615385, test accuracy: 0.8529411764705882\n"
     ]
    },
    {
     "name": "stderr",
     "output_type": "stream",
     "text": [
      "Training: 100%|██████████| 9/9 [00:45<00:00,  5.05s/it, epoch=41, loss=0.0656, acc=98.08%, lr=0.000000] \n",
      "Testing: 100%|██████████| 3/3 [00:08<00:00,  2.92s/it, epoch=41, loss=0.5434, acc=83.82%]\n"
     ]
    },
    {
     "name": "stdout",
     "output_type": "stream",
     "text": [
      "Test: Loss: 0.5434 | Accuracy: 0.8382 (114/136)\n",
      "Epoch 41/100: training accuracy: 0.9807692307692307, test accuracy: 0.8382352941176471\n"
     ]
    },
    {
     "name": "stderr",
     "output_type": "stream",
     "text": [
      "Training: 100%|██████████| 9/9 [00:45<00:00,  5.07s/it, epoch=42, loss=0.0631, acc=99.62%, lr=0.000000] \n",
      "Testing: 100%|██████████| 3/3 [00:08<00:00,  2.94s/it, epoch=42, loss=0.4842, acc=79.41%]\n"
     ]
    },
    {
     "name": "stdout",
     "output_type": "stream",
     "text": [
      "Test: Loss: 0.4842 | Accuracy: 0.7941 (108/136)\n",
      "Epoch 42/100: training accuracy: 0.9961538461538462, test accuracy: 0.7941176470588235\n"
     ]
    },
    {
     "name": "stderr",
     "output_type": "stream",
     "text": [
      "Training: 100%|██████████| 9/9 [00:45<00:00,  5.08s/it, epoch=43, loss=0.1009, acc=98.46%, lr=0.000000] \n",
      "Testing: 100%|██████████| 3/3 [00:08<00:00,  2.95s/it, epoch=43, loss=0.5259, acc=82.35%]\n"
     ]
    },
    {
     "name": "stdout",
     "output_type": "stream",
     "text": [
      "Test: Loss: 0.5259 | Accuracy: 0.8235 (112/136)\n",
      "Epoch 43/100: training accuracy: 0.9846153846153847, test accuracy: 0.8235294117647058\n"
     ]
    },
    {
     "name": "stderr",
     "output_type": "stream",
     "text": [
      "Training: 100%|██████████| 9/9 [00:45<00:00,  5.05s/it, epoch=44, loss=0.0741, acc=97.69%, lr=0.000000]\n",
      "Testing: 100%|██████████| 3/3 [00:08<00:00,  2.91s/it, epoch=44, loss=0.5141, acc=83.82%]\n"
     ]
    },
    {
     "name": "stdout",
     "output_type": "stream",
     "text": [
      "Test: Loss: 0.5141 | Accuracy: 0.8382 (114/136)\n",
      "Epoch 44/100: training accuracy: 0.9769230769230769, test accuracy: 0.8382352941176471\n"
     ]
    },
    {
     "name": "stderr",
     "output_type": "stream",
     "text": [
      "Training: 100%|██████████| 9/9 [00:58<00:00,  6.52s/it, epoch=45, loss=0.0515, acc=99.62%, lr=0.000000] \n",
      "Testing: 100%|██████████| 3/3 [00:10<00:00,  3.49s/it, epoch=45, loss=0.4954, acc=82.35%]\n"
     ]
    },
    {
     "name": "stdout",
     "output_type": "stream",
     "text": [
      "Test: Loss: 0.4954 | Accuracy: 0.8235 (112/136)\n",
      "Epoch 45/100: training accuracy: 0.9961538461538462, test accuracy: 0.8235294117647058\n"
     ]
    },
    {
     "name": "stderr",
     "output_type": "stream",
     "text": [
      "Training: 100%|██████████| 9/9 [00:51<00:00,  5.69s/it, epoch=46, loss=0.0562, acc=99.62%, lr=0.000000] \n",
      "Testing: 100%|██████████| 3/3 [00:09<00:00,  3.23s/it, epoch=46, loss=0.5054, acc=85.29%]\n"
     ]
    },
    {
     "name": "stdout",
     "output_type": "stream",
     "text": [
      "Test: Loss: 0.5054 | Accuracy: 0.8529 (116/136)\n",
      "Epoch 46/100: training accuracy: 0.9961538461538462, test accuracy: 0.8529411764705882\n"
     ]
    },
    {
     "name": "stderr",
     "output_type": "stream",
     "text": [
      "Training: 100%|██████████| 9/9 [00:48<00:00,  5.36s/it, epoch=47, loss=0.0654, acc=99.23%, lr=0.000000] \n",
      "Testing: 100%|██████████| 3/3 [00:09<00:00,  3.04s/it, epoch=47, loss=0.4877, acc=83.82%]\n"
     ]
    },
    {
     "name": "stdout",
     "output_type": "stream",
     "text": [
      "Test: Loss: 0.4877 | Accuracy: 0.8382 (114/136)\n",
      "Epoch 47/100: training accuracy: 0.9923076923076923, test accuracy: 0.8382352941176471\n"
     ]
    },
    {
     "name": "stderr",
     "output_type": "stream",
     "text": [
      "Training: 100%|██████████| 9/9 [00:46<00:00,  5.21s/it, epoch=48, loss=0.0552, acc=99.62%, lr=0.000000] \n",
      "Testing: 100%|██████████| 3/3 [00:08<00:00,  2.91s/it, epoch=48, loss=0.5306, acc=82.35%]\n"
     ]
    },
    {
     "name": "stdout",
     "output_type": "stream",
     "text": [
      "Test: Loss: 0.5306 | Accuracy: 0.8235 (112/136)\n",
      "Epoch 48/100: training accuracy: 0.9961538461538462, test accuracy: 0.8235294117647058\n"
     ]
    },
    {
     "name": "stderr",
     "output_type": "stream",
     "text": [
      "Training: 100%|██████████| 9/9 [00:45<00:00,  5.11s/it, epoch=49, loss=0.0645, acc=98.85%, lr=0.000000] \n",
      "Testing: 100%|██████████| 3/3 [00:08<00:00,  2.92s/it, epoch=49, loss=0.5465, acc=83.82%]\n"
     ]
    },
    {
     "name": "stdout",
     "output_type": "stream",
     "text": [
      "Test: Loss: 0.5465 | Accuracy: 0.8382 (114/136)\n",
      "Epoch 49/100: training accuracy: 0.9884615384615385, test accuracy: 0.8382352941176471\n"
     ]
    },
    {
     "name": "stderr",
     "output_type": "stream",
     "text": [
      "Training: 100%|██████████| 9/9 [00:45<00:00,  5.03s/it, epoch=50, loss=0.0672, acc=99.23%, lr=0.000000] \n",
      "Testing: 100%|██████████| 3/3 [00:08<00:00,  2.93s/it, epoch=50, loss=0.5698, acc=85.29%]\n"
     ]
    },
    {
     "name": "stdout",
     "output_type": "stream",
     "text": [
      "Test: Loss: 0.5698 | Accuracy: 0.8529 (116/136)\n",
      "Epoch 50/100: training accuracy: 0.9923076923076923, test accuracy: 0.8529411764705882\n"
     ]
    },
    {
     "name": "stderr",
     "output_type": "stream",
     "text": [
      "Training: 100%|██████████| 9/9 [00:45<00:00,  5.03s/it, epoch=51, loss=0.0949, acc=98.46%, lr=0.000000]\n",
      "Testing: 100%|██████████| 3/3 [00:08<00:00,  2.94s/it, epoch=51, loss=0.6067, acc=82.35%]\n"
     ]
    },
    {
     "name": "stdout",
     "output_type": "stream",
     "text": [
      "Test: Loss: 0.6067 | Accuracy: 0.8235 (112/136)\n",
      "Epoch 51/100: training accuracy: 0.9846153846153847, test accuracy: 0.8235294117647058\n"
     ]
    },
    {
     "name": "stderr",
     "output_type": "stream",
     "text": [
      "Training: 100%|██████████| 9/9 [00:55<00:00,  6.12s/it, epoch=52, loss=0.0524, acc=99.23%, lr=0.000000] \n",
      "Testing: 100%|██████████| 3/3 [00:11<00:00,  3.78s/it, epoch=52, loss=0.5203, acc=83.82%]\n"
     ]
    },
    {
     "name": "stdout",
     "output_type": "stream",
     "text": [
      "Test: Loss: 0.5203 | Accuracy: 0.8382 (114/136)\n",
      "Epoch 52/100: training accuracy: 0.9923076923076923, test accuracy: 0.8382352941176471\n"
     ]
    },
    {
     "name": "stderr",
     "output_type": "stream",
     "text": [
      "Training: 100%|██████████| 9/9 [00:53<00:00,  5.98s/it, epoch=53, loss=0.0636, acc=98.08%, lr=0.000000]\n",
      "Testing: 100%|██████████| 3/3 [00:09<00:00,  3.33s/it, epoch=53, loss=0.5133, acc=83.82%]\n"
     ]
    },
    {
     "name": "stdout",
     "output_type": "stream",
     "text": [
      "Test: Loss: 0.5133 | Accuracy: 0.8382 (114/136)\n",
      "Epoch 53/100: training accuracy: 0.9807692307692307, test accuracy: 0.8382352941176471\n"
     ]
    },
    {
     "name": "stderr",
     "output_type": "stream",
     "text": [
      "Training: 100%|██████████| 9/9 [00:49<00:00,  5.48s/it, epoch=54, loss=0.0597, acc=98.85%, lr=0.000000]\n",
      "Testing: 100%|██████████| 3/3 [00:09<00:00,  3.10s/it, epoch=54, loss=0.5517, acc=80.88%]\n"
     ]
    },
    {
     "name": "stdout",
     "output_type": "stream",
     "text": [
      "Test: Loss: 0.5517 | Accuracy: 0.8088 (110/136)\n",
      "Epoch 54/100: training accuracy: 0.9884615384615385, test accuracy: 0.8088235294117647\n"
     ]
    },
    {
     "name": "stderr",
     "output_type": "stream",
     "text": [
      "Training: 100%|██████████| 9/9 [00:47<00:00,  5.24s/it, epoch=55, loss=0.0580, acc=98.85%, lr=0.000000]\n",
      "Testing: 100%|██████████| 3/3 [00:08<00:00,  2.93s/it, epoch=55, loss=0.5415, acc=83.82%]\n"
     ]
    },
    {
     "name": "stdout",
     "output_type": "stream",
     "text": [
      "Test: Loss: 0.5415 | Accuracy: 0.8382 (114/136)\n",
      "Epoch 55/100: training accuracy: 0.9884615384615385, test accuracy: 0.8382352941176471\n"
     ]
    },
    {
     "name": "stderr",
     "output_type": "stream",
     "text": [
      "Training: 100%|██████████| 9/9 [00:45<00:00,  5.05s/it, epoch=56, loss=0.0567, acc=99.23%, lr=0.000000] \n",
      "Testing: 100%|██████████| 3/3 [00:08<00:00,  2.90s/it, epoch=56, loss=0.5325, acc=83.82%]\n"
     ]
    },
    {
     "name": "stdout",
     "output_type": "stream",
     "text": [
      "Test: Loss: 0.5325 | Accuracy: 0.8382 (114/136)\n",
      "Epoch 56/100: training accuracy: 0.9923076923076923, test accuracy: 0.8382352941176471\n"
     ]
    },
    {
     "name": "stderr",
     "output_type": "stream",
     "text": [
      "Training: 100%|██████████| 9/9 [00:44<00:00,  5.00s/it, epoch=57, loss=0.0632, acc=98.85%, lr=0.000000] \n",
      "Testing: 100%|██████████| 3/3 [00:08<00:00,  2.95s/it, epoch=57, loss=0.5180, acc=85.29%]\n"
     ]
    },
    {
     "name": "stdout",
     "output_type": "stream",
     "text": [
      "Test: Loss: 0.5180 | Accuracy: 0.8529 (116/136)\n",
      "Epoch 57/100: training accuracy: 0.9884615384615385, test accuracy: 0.8529411764705882\n"
     ]
    },
    {
     "name": "stderr",
     "output_type": "stream",
     "text": [
      "Training: 100%|██████████| 9/9 [00:45<00:00,  5.03s/it, epoch=58, loss=0.0511, acc=98.85%, lr=0.000000] \n",
      "Testing: 100%|██████████| 3/3 [00:08<00:00,  2.94s/it, epoch=58, loss=0.5447, acc=83.82%]\n"
     ]
    },
    {
     "name": "stdout",
     "output_type": "stream",
     "text": [
      "Test: Loss: 0.5447 | Accuracy: 0.8382 (114/136)\n",
      "Epoch 58/100: training accuracy: 0.9884615384615385, test accuracy: 0.8382352941176471\n"
     ]
    },
    {
     "name": "stderr",
     "output_type": "stream",
     "text": [
      "Training: 100%|██████████| 9/9 [00:49<00:00,  5.48s/it, epoch=59, loss=0.0519, acc=99.62%, lr=0.000000] \n",
      "Testing: 100%|██████████| 3/3 [00:11<00:00,  4.00s/it, epoch=59, loss=0.5366, acc=83.82%]\n"
     ]
    },
    {
     "name": "stdout",
     "output_type": "stream",
     "text": [
      "Test: Loss: 0.5366 | Accuracy: 0.8382 (114/136)\n",
      "Epoch 59/100: training accuracy: 0.9961538461538462, test accuracy: 0.8382352941176471\n"
     ]
    },
    {
     "name": "stderr",
     "output_type": "stream",
     "text": [
      "Training: 100%|██████████| 9/9 [00:54<00:00,  6.04s/it, epoch=60, loss=0.0716, acc=98.46%, lr=0.000000]\n",
      "Testing: 100%|██████████| 3/3 [00:10<00:00,  3.37s/it, epoch=60, loss=0.5475, acc=83.82%]\n"
     ]
    },
    {
     "name": "stdout",
     "output_type": "stream",
     "text": [
      "Test: Loss: 0.5475 | Accuracy: 0.8382 (114/136)\n",
      "Epoch 60/100: training accuracy: 0.9846153846153847, test accuracy: 0.8382352941176471\n"
     ]
    },
    {
     "name": "stderr",
     "output_type": "stream",
     "text": [
      "Training: 100%|██████████| 9/9 [00:49<00:00,  5.52s/it, epoch=61, loss=0.0516, acc=98.85%, lr=0.000000] \n",
      "Testing: 100%|██████████| 3/3 [00:09<00:00,  3.24s/it, epoch=61, loss=0.5547, acc=83.82%]\n"
     ]
    },
    {
     "name": "stdout",
     "output_type": "stream",
     "text": [
      "Test: Loss: 0.5547 | Accuracy: 0.8382 (114/136)\n",
      "Epoch 61/100: training accuracy: 0.9884615384615385, test accuracy: 0.8382352941176471\n"
     ]
    },
    {
     "name": "stderr",
     "output_type": "stream",
     "text": [
      "Training: 100%|██████████| 9/9 [00:49<00:00,  5.47s/it, epoch=62, loss=0.0647, acc=99.23%, lr=0.000000] \n",
      "Testing: 100%|██████████| 3/3 [00:10<00:00,  3.45s/it, epoch=62, loss=0.5114, acc=82.35%]\n"
     ]
    },
    {
     "name": "stdout",
     "output_type": "stream",
     "text": [
      "Test: Loss: 0.5114 | Accuracy: 0.8235 (112/136)\n",
      "Epoch 62/100: training accuracy: 0.9923076923076923, test accuracy: 0.8235294117647058\n"
     ]
    },
    {
     "name": "stderr",
     "output_type": "stream",
     "text": [
      "Training: 100%|██████████| 9/9 [00:46<00:00,  5.16s/it, epoch=63, loss=0.0673, acc=98.85%, lr=0.000000] \n",
      "Testing: 100%|██████████| 3/3 [00:08<00:00,  2.96s/it, epoch=63, loss=0.5921, acc=80.88%]\n"
     ]
    },
    {
     "name": "stdout",
     "output_type": "stream",
     "text": [
      "Test: Loss: 0.5921 | Accuracy: 0.8088 (110/136)\n",
      "Epoch 63/100: training accuracy: 0.9884615384615385, test accuracy: 0.8088235294117647\n"
     ]
    },
    {
     "name": "stderr",
     "output_type": "stream",
     "text": [
      "Training: 100%|██████████| 9/9 [00:46<00:00,  5.15s/it, epoch=64, loss=0.0879, acc=97.69%, lr=0.000000] \n",
      "Testing: 100%|██████████| 3/3 [00:08<00:00,  2.96s/it, epoch=64, loss=0.6466, acc=79.41%]\n"
     ]
    },
    {
     "name": "stdout",
     "output_type": "stream",
     "text": [
      "Test: Loss: 0.6466 | Accuracy: 0.7941 (108/136)\n",
      "Epoch 64/100: training accuracy: 0.9769230769230769, test accuracy: 0.7941176470588235\n"
     ]
    },
    {
     "name": "stderr",
     "output_type": "stream",
     "text": [
      "Training: 100%|██████████| 9/9 [00:46<00:00,  5.17s/it, epoch=65, loss=0.0631, acc=99.23%, lr=0.000000]\n",
      "Testing: 100%|██████████| 3/3 [00:08<00:00,  2.94s/it, epoch=65, loss=0.5620, acc=83.82%]\n"
     ]
    },
    {
     "name": "stdout",
     "output_type": "stream",
     "text": [
      "Test: Loss: 0.5620 | Accuracy: 0.8382 (114/136)\n",
      "Epoch 65/100: training accuracy: 0.9923076923076923, test accuracy: 0.8382352941176471\n"
     ]
    },
    {
     "name": "stderr",
     "output_type": "stream",
     "text": [
      "Training: 100%|██████████| 9/9 [00:53<00:00,  5.91s/it, epoch=66, loss=0.0780, acc=97.69%, lr=0.000000] \n",
      "Testing: 100%|██████████| 3/3 [00:11<00:00,  3.77s/it, epoch=66, loss=0.5316, acc=85.29%]\n"
     ]
    },
    {
     "name": "stdout",
     "output_type": "stream",
     "text": [
      "Test: Loss: 0.5316 | Accuracy: 0.8529 (116/136)\n",
      "Epoch 66/100: training accuracy: 0.9769230769230769, test accuracy: 0.8529411764705882\n"
     ]
    },
    {
     "name": "stderr",
     "output_type": "stream",
     "text": [
      "Training: 100%|██████████| 9/9 [00:53<00:00,  5.95s/it, epoch=67, loss=0.0593, acc=99.23%, lr=0.000000] \n",
      "Testing: 100%|██████████| 3/3 [00:10<00:00,  3.37s/it, epoch=67, loss=0.5816, acc=83.82%]\n"
     ]
    },
    {
     "name": "stdout",
     "output_type": "stream",
     "text": [
      "Test: Loss: 0.5816 | Accuracy: 0.8382 (114/136)\n",
      "Epoch 67/100: training accuracy: 0.9923076923076923, test accuracy: 0.8382352941176471\n"
     ]
    },
    {
     "name": "stderr",
     "output_type": "stream",
     "text": [
      "Training: 100%|██████████| 9/9 [00:49<00:00,  5.54s/it, epoch=68, loss=0.0624, acc=98.08%, lr=0.000000] \n",
      "Testing: 100%|██████████| 3/3 [00:09<00:00,  3.05s/it, epoch=68, loss=0.5424, acc=85.29%]\n"
     ]
    },
    {
     "name": "stdout",
     "output_type": "stream",
     "text": [
      "Test: Loss: 0.5424 | Accuracy: 0.8529 (116/136)\n",
      "Epoch 68/100: training accuracy: 0.9807692307692307, test accuracy: 0.8529411764705882\n"
     ]
    },
    {
     "name": "stderr",
     "output_type": "stream",
     "text": [
      "Training: 100%|██████████| 9/9 [00:47<00:00,  5.25s/it, epoch=69, loss=0.0518, acc=99.23%, lr=0.000000] \n",
      "Testing: 100%|██████████| 3/3 [00:10<00:00,  3.49s/it, epoch=69, loss=0.5148, acc=83.82%]\n"
     ]
    },
    {
     "name": "stdout",
     "output_type": "stream",
     "text": [
      "Test: Loss: 0.5148 | Accuracy: 0.8382 (114/136)\n",
      "Epoch 69/100: training accuracy: 0.9923076923076923, test accuracy: 0.8382352941176471\n"
     ]
    },
    {
     "name": "stderr",
     "output_type": "stream",
     "text": [
      "Training: 100%|██████████| 9/9 [00:46<00:00,  5.18s/it, epoch=70, loss=0.0565, acc=99.62%, lr=0.000000] \n",
      "Testing: 100%|██████████| 3/3 [00:08<00:00,  2.93s/it, epoch=70, loss=0.5117, acc=83.82%]\n"
     ]
    },
    {
     "name": "stdout",
     "output_type": "stream",
     "text": [
      "Test: Loss: 0.5117 | Accuracy: 0.8382 (114/136)\n",
      "Epoch 70/100: training accuracy: 0.9961538461538462, test accuracy: 0.8382352941176471\n"
     ]
    },
    {
     "name": "stderr",
     "output_type": "stream",
     "text": [
      "Training: 100%|██████████| 9/9 [00:46<00:00,  5.12s/it, epoch=71, loss=0.0569, acc=99.23%, lr=0.000000] \n",
      "Testing: 100%|██████████| 3/3 [00:08<00:00,  2.90s/it, epoch=71, loss=0.5202, acc=85.29%]\n"
     ]
    },
    {
     "name": "stdout",
     "output_type": "stream",
     "text": [
      "Test: Loss: 0.5202 | Accuracy: 0.8529 (116/136)\n",
      "Epoch 71/100: training accuracy: 0.9923076923076923, test accuracy: 0.8529411764705882\n"
     ]
    },
    {
     "name": "stderr",
     "output_type": "stream",
     "text": [
      "Training: 100%|██████████| 9/9 [00:46<00:00,  5.19s/it, epoch=72, loss=0.0535, acc=100.00%, lr=0.000000]\n",
      "Testing: 100%|██████████| 3/3 [00:08<00:00,  2.94s/it, epoch=72, loss=0.5006, acc=85.29%]\n"
     ]
    },
    {
     "name": "stdout",
     "output_type": "stream",
     "text": [
      "Test: Loss: 0.5006 | Accuracy: 0.8529 (116/136)\n",
      "Epoch 72/100: training accuracy: 1.0, test accuracy: 0.8529411764705882\n"
     ]
    },
    {
     "name": "stderr",
     "output_type": "stream",
     "text": [
      "Training: 100%|██████████| 9/9 [00:47<00:00,  5.31s/it, epoch=73, loss=0.0547, acc=99.23%, lr=0.000000] \n",
      "Testing: 100%|██████████| 3/3 [00:09<00:00,  3.19s/it, epoch=73, loss=0.5468, acc=83.82%]\n"
     ]
    },
    {
     "name": "stdout",
     "output_type": "stream",
     "text": [
      "Test: Loss: 0.5468 | Accuracy: 0.8382 (114/136)\n",
      "Epoch 73/100: training accuracy: 0.9923076923076923, test accuracy: 0.8382352941176471\n"
     ]
    },
    {
     "name": "stderr",
     "output_type": "stream",
     "text": [
      "Training: 100%|██████████| 9/9 [00:59<00:00,  6.59s/it, epoch=74, loss=0.0677, acc=98.85%, lr=0.000000]\n",
      "Testing: 100%|██████████| 3/3 [00:10<00:00,  3.46s/it, epoch=74, loss=0.5480, acc=83.82%]\n"
     ]
    },
    {
     "name": "stdout",
     "output_type": "stream",
     "text": [
      "Test: Loss: 0.5480 | Accuracy: 0.8382 (114/136)\n",
      "Epoch 74/100: training accuracy: 0.9884615384615385, test accuracy: 0.8382352941176471\n"
     ]
    },
    {
     "name": "stderr",
     "output_type": "stream",
     "text": [
      "Training: 100%|██████████| 9/9 [00:51<00:00,  5.70s/it, epoch=75, loss=0.0455, acc=99.62%, lr=0.000000] \n",
      "Testing: 100%|██████████| 3/3 [00:09<00:00,  3.24s/it, epoch=75, loss=0.5505, acc=82.35%]\n"
     ]
    },
    {
     "name": "stdout",
     "output_type": "stream",
     "text": [
      "Test: Loss: 0.5505 | Accuracy: 0.8235 (112/136)\n",
      "Epoch 75/100: training accuracy: 0.9961538461538462, test accuracy: 0.8235294117647058\n"
     ]
    },
    {
     "name": "stderr",
     "output_type": "stream",
     "text": [
      "Training: 100%|██████████| 9/9 [00:48<00:00,  5.34s/it, epoch=76, loss=0.0644, acc=98.85%, lr=0.000000] \n",
      "Testing: 100%|██████████| 3/3 [00:10<00:00,  3.42s/it, epoch=76, loss=0.5670, acc=83.82%]\n"
     ]
    },
    {
     "name": "stdout",
     "output_type": "stream",
     "text": [
      "Test: Loss: 0.5670 | Accuracy: 0.8382 (114/136)\n",
      "Epoch 76/100: training accuracy: 0.9884615384615385, test accuracy: 0.8382352941176471\n"
     ]
    },
    {
     "name": "stderr",
     "output_type": "stream",
     "text": [
      "Training: 100%|██████████| 9/9 [00:46<00:00,  5.21s/it, epoch=77, loss=0.0631, acc=98.46%, lr=0.000000] \n",
      "Testing: 100%|██████████| 3/3 [00:08<00:00,  2.98s/it, epoch=77, loss=0.5182, acc=83.82%]\n"
     ]
    },
    {
     "name": "stdout",
     "output_type": "stream",
     "text": [
      "Test: Loss: 0.5182 | Accuracy: 0.8382 (114/136)\n",
      "Epoch 77/100: training accuracy: 0.9846153846153847, test accuracy: 0.8382352941176471\n"
     ]
    },
    {
     "name": "stderr",
     "output_type": "stream",
     "text": [
      "Training: 100%|██████████| 9/9 [00:49<00:00,  5.49s/it, epoch=78, loss=0.0457, acc=100.00%, lr=0.000000]\n",
      "Testing: 100%|██████████| 3/3 [00:08<00:00,  2.97s/it, epoch=78, loss=0.5174, acc=83.82%]\n"
     ]
    },
    {
     "name": "stdout",
     "output_type": "stream",
     "text": [
      "Test: Loss: 0.5174 | Accuracy: 0.8382 (114/136)\n",
      "Epoch 78/100: training accuracy: 1.0, test accuracy: 0.8382352941176471\n"
     ]
    },
    {
     "name": "stderr",
     "output_type": "stream",
     "text": [
      "Training: 100%|██████████| 9/9 [00:47<00:00,  5.24s/it, epoch=79, loss=0.0598, acc=98.46%, lr=0.000000] \n",
      "Testing: 100%|██████████| 3/3 [00:08<00:00,  2.89s/it, epoch=79, loss=0.5480, acc=83.82%]\n"
     ]
    },
    {
     "name": "stdout",
     "output_type": "stream",
     "text": [
      "Test: Loss: 0.5480 | Accuracy: 0.8382 (114/136)\n",
      "Epoch 79/100: training accuracy: 0.9846153846153847, test accuracy: 0.8382352941176471\n"
     ]
    },
    {
     "name": "stderr",
     "output_type": "stream",
     "text": [
      "Training: 100%|██████████| 9/9 [00:50<00:00,  5.58s/it, epoch=80, loss=0.0573, acc=99.62%, lr=0.000000] \n",
      "Testing: 100%|██████████| 3/3 [00:11<00:00,  4.00s/it, epoch=80, loss=0.5114, acc=83.82%]\n"
     ]
    },
    {
     "name": "stdout",
     "output_type": "stream",
     "text": [
      "Test: Loss: 0.5114 | Accuracy: 0.8382 (114/136)\n",
      "Epoch 80/100: training accuracy: 0.9961538461538462, test accuracy: 0.8382352941176471\n"
     ]
    },
    {
     "name": "stderr",
     "output_type": "stream",
     "text": [
      "Training: 100%|██████████| 9/9 [00:55<00:00,  6.21s/it, epoch=81, loss=0.0611, acc=99.23%, lr=0.000000] \n",
      "Testing: 100%|██████████| 3/3 [00:10<00:00,  3.35s/it, epoch=81, loss=0.5557, acc=83.82%]\n"
     ]
    },
    {
     "name": "stdout",
     "output_type": "stream",
     "text": [
      "Test: Loss: 0.5557 | Accuracy: 0.8382 (114/136)\n",
      "Epoch 81/100: training accuracy: 0.9923076923076923, test accuracy: 0.8382352941176471\n"
     ]
    },
    {
     "name": "stderr",
     "output_type": "stream",
     "text": [
      "Training: 100%|██████████| 9/9 [00:49<00:00,  5.47s/it, epoch=82, loss=0.0754, acc=98.08%, lr=0.000000] \n",
      "Testing: 100%|██████████| 3/3 [00:09<00:00,  3.05s/it, epoch=82, loss=0.5571, acc=80.88%]\n"
     ]
    },
    {
     "name": "stdout",
     "output_type": "stream",
     "text": [
      "Test: Loss: 0.5571 | Accuracy: 0.8088 (110/136)\n",
      "Epoch 82/100: training accuracy: 0.9807692307692307, test accuracy: 0.8088235294117647\n"
     ]
    },
    {
     "name": "stderr",
     "output_type": "stream",
     "text": [
      "Training: 100%|██████████| 9/9 [00:46<00:00,  5.18s/it, epoch=83, loss=0.0627, acc=98.85%, lr=0.000000] \n",
      "Testing: 100%|██████████| 3/3 [00:08<00:00,  2.98s/it, epoch=83, loss=0.5543, acc=83.82%]\n"
     ]
    },
    {
     "name": "stdout",
     "output_type": "stream",
     "text": [
      "Test: Loss: 0.5543 | Accuracy: 0.8382 (114/136)\n",
      "Epoch 83/100: training accuracy: 0.9884615384615385, test accuracy: 0.8382352941176471\n"
     ]
    },
    {
     "name": "stderr",
     "output_type": "stream",
     "text": [
      "Training: 100%|██████████| 9/9 [00:46<00:00,  5.12s/it, epoch=84, loss=0.0594, acc=99.62%, lr=0.000000]\n",
      "Testing: 100%|██████████| 3/3 [00:09<00:00,  3.07s/it, epoch=84, loss=0.5421, acc=83.82%]\n"
     ]
    },
    {
     "name": "stdout",
     "output_type": "stream",
     "text": [
      "Test: Loss: 0.5421 | Accuracy: 0.8382 (114/136)\n",
      "Epoch 84/100: training accuracy: 0.9961538461538462, test accuracy: 0.8382352941176471\n"
     ]
    },
    {
     "name": "stderr",
     "output_type": "stream",
     "text": [
      "Training: 100%|██████████| 9/9 [00:45<00:00,  5.11s/it, epoch=85, loss=0.0704, acc=97.69%, lr=0.000000] \n",
      "Testing: 100%|██████████| 3/3 [00:10<00:00,  3.37s/it, epoch=85, loss=0.5446, acc=83.82%]\n"
     ]
    },
    {
     "name": "stdout",
     "output_type": "stream",
     "text": [
      "Test: Loss: 0.5446 | Accuracy: 0.8382 (114/136)\n",
      "Epoch 85/100: training accuracy: 0.9769230769230769, test accuracy: 0.8382352941176471\n"
     ]
    },
    {
     "name": "stderr",
     "output_type": "stream",
     "text": [
      "Training: 100%|██████████| 9/9 [00:45<00:00,  5.01s/it, epoch=86, loss=0.0487, acc=99.62%, lr=0.000000] \n",
      "Testing: 100%|██████████| 3/3 [00:08<00:00,  2.91s/it, epoch=86, loss=0.5357, acc=80.88%]\n"
     ]
    },
    {
     "name": "stdout",
     "output_type": "stream",
     "text": [
      "Test: Loss: 0.5357 | Accuracy: 0.8088 (110/136)\n",
      "Epoch 86/100: training accuracy: 0.9961538461538462, test accuracy: 0.8088235294117647\n"
     ]
    },
    {
     "name": "stderr",
     "output_type": "stream",
     "text": [
      "Training: 100%|██████████| 9/9 [00:44<00:00,  4.98s/it, epoch=87, loss=0.0601, acc=99.23%, lr=0.000000] \n",
      "Testing: 100%|██████████| 3/3 [00:08<00:00,  2.91s/it, epoch=87, loss=0.5614, acc=82.35%]\n"
     ]
    },
    {
     "name": "stdout",
     "output_type": "stream",
     "text": [
      "Test: Loss: 0.5614 | Accuracy: 0.8235 (112/136)\n",
      "Epoch 87/100: training accuracy: 0.9923076923076923, test accuracy: 0.8235294117647058\n"
     ]
    },
    {
     "name": "stderr",
     "output_type": "stream",
     "text": [
      "Training: 100%|██████████| 9/9 [00:54<00:00,  6.08s/it, epoch=88, loss=0.0586, acc=98.85%, lr=0.000000]\n",
      "Testing: 100%|██████████| 3/3 [00:11<00:00,  3.68s/it, epoch=88, loss=0.5268, acc=83.82%]\n"
     ]
    },
    {
     "name": "stdout",
     "output_type": "stream",
     "text": [
      "Test: Loss: 0.5268 | Accuracy: 0.8382 (114/136)\n",
      "Epoch 88/100: training accuracy: 0.9884615384615385, test accuracy: 0.8382352941176471\n"
     ]
    },
    {
     "name": "stderr",
     "output_type": "stream",
     "text": [
      "Training: 100%|██████████| 9/9 [00:53<00:00,  5.90s/it, epoch=89, loss=0.0779, acc=98.08%, lr=0.000000] \n",
      "Testing: 100%|██████████| 3/3 [00:09<00:00,  3.22s/it, epoch=89, loss=0.5932, acc=80.88%]\n"
     ]
    },
    {
     "name": "stdout",
     "output_type": "stream",
     "text": [
      "Test: Loss: 0.5932 | Accuracy: 0.8088 (110/136)\n",
      "Epoch 89/100: training accuracy: 0.9807692307692307, test accuracy: 0.8088235294117647\n"
     ]
    },
    {
     "name": "stderr",
     "output_type": "stream",
     "text": [
      "Training: 100%|██████████| 9/9 [00:49<00:00,  5.48s/it, epoch=90, loss=0.0467, acc=99.23%, lr=0.000000] \n",
      "Testing: 100%|██████████| 3/3 [00:09<00:00,  3.06s/it, epoch=90, loss=0.5798, acc=83.82%]\n"
     ]
    },
    {
     "name": "stdout",
     "output_type": "stream",
     "text": [
      "Test: Loss: 0.5798 | Accuracy: 0.8382 (114/136)\n",
      "Epoch 90/100: training accuracy: 0.9923076923076923, test accuracy: 0.8382352941176471\n"
     ]
    },
    {
     "name": "stderr",
     "output_type": "stream",
     "text": [
      "Training: 100%|██████████| 9/9 [00:47<00:00,  5.23s/it, epoch=91, loss=0.0763, acc=98.85%, lr=0.000000] \n",
      "Testing: 100%|██████████| 3/3 [00:08<00:00,  2.95s/it, epoch=91, loss=0.6480, acc=83.82%]\n"
     ]
    },
    {
     "name": "stdout",
     "output_type": "stream",
     "text": [
      "Test: Loss: 0.6480 | Accuracy: 0.8382 (114/136)\n",
      "Epoch 91/100: training accuracy: 0.9884615384615385, test accuracy: 0.8382352941176471\n"
     ]
    },
    {
     "name": "stderr",
     "output_type": "stream",
     "text": [
      "Training: 100%|██████████| 9/9 [00:46<00:00,  5.12s/it, epoch=92, loss=0.0586, acc=99.23%, lr=0.000000] \n",
      "Testing: 100%|██████████| 3/3 [00:08<00:00,  2.91s/it, epoch=92, loss=0.5546, acc=85.29%]\n"
     ]
    },
    {
     "name": "stdout",
     "output_type": "stream",
     "text": [
      "Test: Loss: 0.5546 | Accuracy: 0.8529 (116/136)\n",
      "Epoch 92/100: training accuracy: 0.9923076923076923, test accuracy: 0.8529411764705882\n"
     ]
    },
    {
     "name": "stderr",
     "output_type": "stream",
     "text": [
      "Training: 100%|██████████| 9/9 [00:45<00:00,  5.03s/it, epoch=93, loss=0.0711, acc=98.08%, lr=0.000000]\n",
      "Testing: 100%|██████████| 3/3 [00:08<00:00,  2.88s/it, epoch=93, loss=0.5636, acc=80.88%]\n"
     ]
    },
    {
     "name": "stdout",
     "output_type": "stream",
     "text": [
      "Test: Loss: 0.5636 | Accuracy: 0.8088 (110/136)\n",
      "Epoch 93/100: training accuracy: 0.9807692307692307, test accuracy: 0.8088235294117647\n"
     ]
    },
    {
     "name": "stderr",
     "output_type": "stream",
     "text": [
      "Training: 100%|██████████| 9/9 [00:44<00:00,  4.98s/it, epoch=94, loss=0.0584, acc=99.62%, lr=0.000000] \n",
      "Testing: 100%|██████████| 3/3 [00:08<00:00,  2.90s/it, epoch=94, loss=0.5300, acc=83.82%]\n"
     ]
    },
    {
     "name": "stdout",
     "output_type": "stream",
     "text": [
      "Test: Loss: 0.5300 | Accuracy: 0.8382 (114/136)\n",
      "Epoch 94/100: training accuracy: 0.9961538461538462, test accuracy: 0.8382352941176471\n"
     ]
    },
    {
     "name": "stderr",
     "output_type": "stream",
     "text": [
      "Training: 100%|██████████| 9/9 [00:51<00:00,  5.72s/it, epoch=95, loss=0.0634, acc=98.85%, lr=0.000000] \n",
      "Testing: 100%|██████████| 3/3 [00:11<00:00,  3.88s/it, epoch=95, loss=0.5119, acc=85.29%]\n"
     ]
    },
    {
     "name": "stdout",
     "output_type": "stream",
     "text": [
      "Test: Loss: 0.5119 | Accuracy: 0.8529 (116/136)\n",
      "Epoch 95/100: training accuracy: 0.9884615384615385, test accuracy: 0.8529411764705882\n"
     ]
    },
    {
     "name": "stderr",
     "output_type": "stream",
     "text": [
      "Training: 100%|██████████| 9/9 [00:56<00:00,  6.25s/it, epoch=96, loss=0.0674, acc=99.62%, lr=0.000000] \n",
      "Testing: 100%|██████████| 3/3 [00:10<00:00,  3.35s/it, epoch=96, loss=0.5517, acc=82.35%]\n"
     ]
    },
    {
     "name": "stdout",
     "output_type": "stream",
     "text": [
      "Test: Loss: 0.5517 | Accuracy: 0.8235 (112/136)\n",
      "Epoch 96/100: training accuracy: 0.9961538461538462, test accuracy: 0.8235294117647058\n"
     ]
    },
    {
     "name": "stderr",
     "output_type": "stream",
     "text": [
      "Training: 100%|██████████| 9/9 [00:48<00:00,  5.41s/it, epoch=97, loss=0.0520, acc=99.23%, lr=0.000000]\n",
      "Testing: 100%|██████████| 3/3 [00:09<00:00,  3.02s/it, epoch=97, loss=0.5210, acc=82.35%]\n"
     ]
    },
    {
     "name": "stdout",
     "output_type": "stream",
     "text": [
      "Test: Loss: 0.5210 | Accuracy: 0.8235 (112/136)\n",
      "Epoch 97/100: training accuracy: 0.9923076923076923, test accuracy: 0.8235294117647058\n"
     ]
    },
    {
     "name": "stderr",
     "output_type": "stream",
     "text": [
      "Training: 100%|██████████| 9/9 [00:46<00:00,  5.14s/it, epoch=98, loss=0.0758, acc=98.46%, lr=0.000000]\n",
      "Testing: 100%|██████████| 3/3 [00:08<00:00,  2.98s/it, epoch=98, loss=0.5102, acc=83.82%]\n"
     ]
    },
    {
     "name": "stdout",
     "output_type": "stream",
     "text": [
      "Test: Loss: 0.5102 | Accuracy: 0.8382 (114/136)\n",
      "Epoch 98/100: training accuracy: 0.9846153846153847, test accuracy: 0.8382352941176471\n"
     ]
    },
    {
     "name": "stderr",
     "output_type": "stream",
     "text": [
      "Training: 100%|██████████| 9/9 [00:46<00:00,  5.22s/it, epoch=99, loss=0.0492, acc=99.23%, lr=0.000000]\n",
      "Testing: 100%|██████████| 3/3 [00:08<00:00,  2.92s/it, epoch=99, loss=0.5020, acc=83.82%]\n"
     ]
    },
    {
     "name": "stdout",
     "output_type": "stream",
     "text": [
      "Test: Loss: 0.5020 | Accuracy: 0.8382 (114/136)\n",
      "Epoch 99/100: training accuracy: 0.9923076923076923, test accuracy: 0.8382352941176471\n"
     ]
    },
    {
     "name": "stderr",
     "output_type": "stream",
     "text": [
      "Training: 100%|██████████| 9/9 [00:45<00:00,  5.05s/it, epoch=100, loss=0.0516, acc=99.62%, lr=0.000000] \n",
      "Testing: 100%|██████████| 3/3 [00:08<00:00,  2.90s/it, epoch=100, loss=0.5538, acc=82.35%]"
     ]
    },
    {
     "name": "stdout",
     "output_type": "stream",
     "text": [
      "Test: Loss: 0.5538 | Accuracy: 0.8235 (112/136)\n",
      "Epoch 100/100: training accuracy: 0.9961538461538462, test accuracy: 0.8235294117647058\n"
     ]
    },
    {
     "name": "stderr",
     "output_type": "stream",
     "text": [
      "\n"
     ]
    }
   ],
   "source": [
    "import timm\n",
    "\n",
    "efficientnet_model = timm.create_model(\"efficientnet_b0\", pretrained=True)\n",
    "num_classes = 6\n",
    "efficientnet_model.classifier = nn.Linear(efficientnet_model.classifier.in_features, num_classes)\n",
    "\n",
    "efficientnet_optimizer = optim.Adam(\n",
    "    efficientnet_model.parameters(),\n",
    "    lr=lr,\n",
    "    weight_decay=5e-4\n",
    ")\n",
    "\n",
    "loss_fn = nn.CrossEntropyLoss()\n",
    "scheduler = lr_scheduler.ReduceLROnPlateau(efficientnet_optimizer, patience=2)\n",
    "\n",
    "train_loss_list_eff = []\n",
    "test_loss_list_eff = []\n",
    "train_acc_list_eff = []\n",
    "test_acc_list_eff = []\n",
    "\n",
    "for epoch in range(1, n_epochs+1):\n",
    "    training_loss, training_accuracy = train(efficientnet_model, train_loader, device, efficientnet_optimizer, loss_fn, epoch)\n",
    "    test_loss, test_accuracy = evaluate(efficientnet_model, test_loader, device, loss_fn, epoch)\n",
    "\n",
    "    train_loss_list_eff.append(training_loss)\n",
    "    test_loss_list_eff.append(test_loss)\n",
    "    train_acc_list_eff.append(training_accuracy)\n",
    "    test_acc_list_eff.append(test_accuracy)\n",
    "\n",
    "    scheduler.step(test_loss)\n",
    "\n",
    "    print(f\"Epoch {epoch}/{n_epochs}: training accuracy: {training_accuracy}, test accuracy: {test_accuracy}\")"
   ]
  },
  {
   "cell_type": "code",
   "execution_count": 26,
   "id": "9579f53d",
   "metadata": {},
   "outputs": [
    {
     "data": {
      "image/png": "[encoded data removed]",
      "text/plain": [
       "<Figure size 1400x600 with 2 Axes>"
      ]
     },
     "metadata": {},
     "output_type": "display_data"
    },
    {
     "name": "stdout",
     "output_type": "stream",
     "text": [
      "                Model  Coverge Time  Final Train Loss  Final Test Loss  \\\n",
      "0  EfficientNet Model            11          0.051611         0.553800   \n",
      "1    Pretrained Model            21          0.082770         0.374923   \n",
      "\n",
      "   Final Train Accuracy  Final Test Accuracy  \n",
      "0              0.996154             0.823529  \n",
      "1              0.976923             0.867647  \n"
     ]
    }
   ],
   "source": [
    "def get_converge_epoch(val_losses, threshold=0.01):\n",
    "    diffs = [abs(val_losses[i] - val_losses[i-1]) for i in range(1, len(val_losses))]\n",
    "    for i, diff in enumerate(diffs):\n",
    "        if diff < threshold:\n",
    "            return i + 1\n",
    "    return len(val_losses)\n",
    "\n",
    "eff_converge = get_converge_epoch(test_loss_list_eff)\n",
    "\n",
    "summary_df_eff = pd.DataFrame({\n",
    "    \"Model\": [\"EfficientNet Model\", \"Pretrained Model\"],\n",
    "    \"Coverge Time\": [eff_converge, pretrained_converge],\n",
    "    \"Final Train Loss\": [train_loss_list_eff[-1], train_loss_list_pre[-1]],\n",
    "    \"Final Test Loss\": [test_loss_list_eff[-1], test_loss_list_pre[-1]],\n",
    "    \"Final Train Accuracy\": [train_acc_list_eff[-1], train_acc_list_pre[-1]],\n",
    "    \"Final Test Accuracy\": [test_acc_list_eff[-1], test_acc_list_pre[-1]],\n",
    "})\n",
    "\n",
    "epochs = list(range(1, n_epochs+1))\n",
    "plt.figure(figsize=(14, 6))\n",
    "\n",
    "# Loss plot\n",
    "plt.subplot(1, 2, 1)\n",
    "plt.plot(epochs, train_loss_list_eff, label=\"Train Loss (EfficientNet)\")\n",
    "plt.plot(epochs, test_loss_list_eff, label=\"Test Loss (EfficientNet)\")\n",
    "plt.plot(epochs, train_loss_list_pre, label=\"Train Loss (Pretrain)\")\n",
    "plt.plot(epochs, test_loss_list_pre, label=\"Test Loss (Pretrain)\")\n",
    "plt.xlabel(\"Epoch\")\n",
    "plt.ylabel(\"Loss\")\n",
    "plt.title(\"Comparison of Train & Test Loss\")\n",
    "plt.legend()\n",
    "\n",
    "# Accuracy plot\n",
    "plt.subplot(1, 2, 2)\n",
    "plt.plot(epochs, train_acc_list_eff, label=\"Train Accuracy (EfficientNet)\")\n",
    "plt.plot(epochs, test_acc_list_eff, label=\"Test Accuracy (EfficientNet)\")\n",
    "plt.plot(epochs, train_acc_list_pre, label=\"Train Accuracy (Pretrain)\")\n",
    "plt.plot(epochs, test_acc_list_pre, label=\"Test Accuracy (Pretrain)\")\n",
    "plt.xlabel(\"Epoch\")\n",
    "plt.ylabel(\"Accuracy\")\n",
    "plt.title(\"Comparison of Train & Test Accuracy\")\n",
    "plt.legend()\n",
    "\n",
    "plt.tight_layout()\n",
    "plt.show()\n",
    "\n",
    "# Comparison Table\n",
    "print(summary_df_eff)"
   ]
  },
  {
   "cell_type": "code",
   "execution_count": null,
   "id": "abfe192b",
   "metadata": {},
   "outputs": [],
   "source": []
  }
 ],
 "metadata": {
  "kernelspec": {
   "display_name": "Python 3",
   "language": "python",
   "name": "python3"
  },
  "language_info": {
   "codemirror_mode": {
    "name": "ipython",
    "version": 3
   },
   "file_extension": ".py",
   "mimetype": "text/x-python",
   "name": "python",
   "nbconvert_exporter": "python",
   "pygments_lexer": "ipython3",
   "version": "3.9.2"
  }
 },
 "nbformat": 4,
 "nbformat_minor": 5
}
